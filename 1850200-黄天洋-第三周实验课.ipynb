{
 "cells": [
  {
   "cell_type": "markdown",
   "metadata": {},
   "source": [
    "## 内容：\n",
    "##### 1&emsp;Pyhton函数\n",
    "$\\blacktriangleright$&emsp;np.zeros((m,n))&emsp;&emsp;&emsp;%生成全0的矩阵"
   ]
  },
  {
   "cell_type": "code",
   "execution_count": 3,
   "metadata": {},
   "outputs": [
    {
     "data": {
      "text/plain": [
       "array([[0., 0., 0.],\n",
       "       [0., 0., 0.],\n",
       "       [0., 0., 0.]])"
      ]
     },
     "execution_count": 3,
     "metadata": {},
     "output_type": "execute_result"
    }
   ],
   "source": [
    "import numpy as np\n",
    "np.zeros((3,3))"
   ]
  },
  {
   "cell_type": "markdown",
   "metadata": {},
   "source": [
    "$\\blacktriangleright$&emsp;np.ones((m,n))&emsp;&emsp;&emsp;%生成全1的矩阵"
   ]
  },
  {
   "cell_type": "code",
   "execution_count": 4,
   "metadata": {},
   "outputs": [
    {
     "data": {
      "text/plain": [
       "array([[1., 1., 1.],\n",
       "       [1., 1., 1.],\n",
       "       [1., 1., 1.]])"
      ]
     },
     "execution_count": 4,
     "metadata": {},
     "output_type": "execute_result"
    }
   ],
   "source": [
    "import numpy as np\n",
    "np.ones((3,3))"
   ]
  },
  {
   "cell_type": "markdown",
   "metadata": {},
   "source": [
    "$\\blacktriangleright$&emsp;np.eye(n)&emsp;&emsp;&emsp;%生成单位阵"
   ]
  },
  {
   "cell_type": "code",
   "execution_count": 7,
   "metadata": {},
   "outputs": [
    {
     "data": {
      "text/plain": [
       "array([[1., 0., 0.],\n",
       "       [0., 1., 0.],\n",
       "       [0., 0., 1.]])"
      ]
     },
     "execution_count": 7,
     "metadata": {},
     "output_type": "execute_result"
    }
   ],
   "source": [
    "import numpy as np\n",
    "np.eye(3)"
   ]
  },
  {
   "cell_type": "markdown",
   "metadata": {},
   "source": [
    "$\\blacktriangleright$&emsp;np.random.rand(m,n)&emsp;&emsp;&emsp;%生成均匀分布的随机矩阵"
   ]
  },
  {
   "cell_type": "code",
   "execution_count": 8,
   "metadata": {},
   "outputs": [
    {
     "data": {
      "text/plain": [
       "array([[0.26589148, 0.2247727 , 0.59877781],\n",
       "       [0.89071185, 0.77106169, 0.13995027],\n",
       "       [0.78985844, 0.04938128, 0.60795143]])"
      ]
     },
     "execution_count": 8,
     "metadata": {},
     "output_type": "execute_result"
    }
   ],
   "source": [
    "import numpy as np\n",
    "np.random.rand(3,3)"
   ]
  },
  {
   "cell_type": "markdown",
   "metadata": {},
   "source": [
    "$\\blacktriangleright$&emsp;np.diag([x])&emsp;&emsp;&emsp;%生成由向量元素构成的对角阵"
   ]
  },
  {
   "cell_type": "code",
   "execution_count": 10,
   "metadata": {},
   "outputs": [
    {
     "data": {
      "text/plain": [
       "array([[1, 0, 0],\n",
       "       [0, 2, 0],\n",
       "       [0, 0, 3]])"
      ]
     },
     "execution_count": 10,
     "metadata": {},
     "output_type": "execute_result"
    }
   ],
   "source": [
    "import numpy as np\n",
    "np.diag([1,2,3])"
   ]
  },
  {
   "cell_type": "markdown",
   "metadata": {},
   "source": [
    "$\\blacktriangleright$&emsp;np.tril(A)&emsp;&emsp;&emsp;%提取矩阵的下三角部分生成下三角阵"
   ]
  },
  {
   "cell_type": "code",
   "execution_count": 12,
   "metadata": {},
   "outputs": [
    {
     "data": {
      "text/plain": [
       "array([[1, 0, 0],\n",
       "       [4, 5, 0],\n",
       "       [7, 8, 9]])"
      ]
     },
     "execution_count": 12,
     "metadata": {},
     "output_type": "execute_result"
    }
   ],
   "source": [
    "import numpy as np\n",
    "np.tril(np.arange(1,10).reshape(3,3))"
   ]
  },
  {
   "cell_type": "markdown",
   "metadata": {},
   "source": [
    "$\\blacktriangleright$&emsp;np.triu(A)&emsp;&emsp;&emsp;%提取矩阵的上三角部分生成上三角阵"
   ]
  },
  {
   "cell_type": "code",
   "execution_count": 13,
   "metadata": {},
   "outputs": [
    {
     "data": {
      "text/plain": [
       "array([[1, 2, 3],\n",
       "       [0, 5, 6],\n",
       "       [0, 0, 9]])"
      ]
     },
     "execution_count": 13,
     "metadata": {},
     "output_type": "execute_result"
    }
   ],
   "source": [
    "import numpy as np\n",
    "np.triu(np.arange(1,10).reshape(3,3))"
   ]
  },
  {
   "cell_type": "markdown",
   "metadata": {},
   "source": [
    "$\\blacktriangleright$&emsp;matrix_rank(A)&emsp;&emsp;&emsp;%矩阵的秩"
   ]
  },
  {
   "cell_type": "code",
   "execution_count": 17,
   "metadata": {},
   "outputs": [
    {
     "data": {
      "text/plain": [
       "2"
      ]
     },
     "execution_count": 17,
     "metadata": {},
     "output_type": "execute_result"
    }
   ],
   "source": [
    "from numpy.linalg import *\n",
    "matrix_rank(np.arange(1,10).reshape(3,3))"
   ]
  },
  {
   "cell_type": "markdown",
   "metadata": {},
   "source": [
    "$\\blacktriangleright$&emsp;det(A)&emsp;&emsp;&emsp;%方阵的行列式"
   ]
  },
  {
   "cell_type": "code",
   "execution_count": 18,
   "metadata": {},
   "outputs": [
    {
     "data": {
      "text/plain": [
       "-9.51619735392994e-16"
      ]
     },
     "execution_count": 18,
     "metadata": {},
     "output_type": "execute_result"
    }
   ],
   "source": [
    "from numpy.linalg import *\n",
    "det(np.arange(1,10).reshape(3,3))"
   ]
  },
  {
   "cell_type": "markdown",
   "metadata": {},
   "source": [
    "$\\blacktriangleright$&emsp;inv(A)&emsp;&emsp;&emsp;%方阵的逆矩阵"
   ]
  },
  {
   "cell_type": "code",
   "execution_count": 19,
   "metadata": {},
   "outputs": [
    {
     "data": {
      "text/plain": [
       "array([[ 3.15251974e+15, -6.30503948e+15,  3.15251974e+15],\n",
       "       [-6.30503948e+15,  1.26100790e+16, -6.30503948e+15],\n",
       "       [ 3.15251974e+15, -6.30503948e+15,  3.15251974e+15]])"
      ]
     },
     "execution_count": 19,
     "metadata": {},
     "output_type": "execute_result"
    }
   ],
   "source": [
    "from numpy.linalg import *\n",
    "inv(np.arange(1,10).reshape(3,3))"
   ]
  },
  {
   "cell_type": "markdown",
   "metadata": {},
   "source": [
    "$\\blacktriangleright$&emsp;eig(A)&emsp;&emsp;&emsp;%方阵的特征值和特征向量"
   ]
  },
  {
   "cell_type": "code",
   "execution_count": 20,
   "metadata": {},
   "outputs": [
    {
     "data": {
      "text/plain": [
       "(array([ 1.61168440e+01, -1.11684397e+00, -9.75918483e-16]),\n",
       " array([[-0.23197069, -0.78583024,  0.40824829],\n",
       "        [-0.52532209, -0.08675134, -0.81649658],\n",
       "        [-0.8186735 ,  0.61232756,  0.40824829]]))"
      ]
     },
     "execution_count": 20,
     "metadata": {},
     "output_type": "execute_result"
    }
   ],
   "source": [
    "from numpy.linalg import *\n",
    "eig(np.arange(1,10).reshape(3,3))"
   ]
  },
  {
   "cell_type": "markdown",
   "metadata": {},
   "source": [
    "$\\blacktriangleright$&emsp;norm(A,p)&emsp;&emsp;&emsp;%矩阵或向量的范数"
   ]
  },
  {
   "cell_type": "code",
   "execution_count": 22,
   "metadata": {},
   "outputs": [
    {
     "data": {
      "text/plain": [
       "16.84810335261421"
      ]
     },
     "execution_count": 22,
     "metadata": {},
     "output_type": "execute_result"
    }
   ],
   "source": [
    "from numpy.linalg import *\n",
    "norm(np.arange(1,10).reshape(3,3),2)"
   ]
  },
  {
   "cell_type": "markdown",
   "metadata": {},
   "source": [
    "$\\blacktriangleright$&emsp;cond(A,p)&emsp;&emsp;&emsp;%矩阵的条件数"
   ]
  },
  {
   "cell_type": "code",
   "execution_count": 24,
   "metadata": {},
   "outputs": [
    {
     "data": {
      "text/plain": [
       "5.0522794445385096e+16"
      ]
     },
     "execution_count": 24,
     "metadata": {},
     "output_type": "execute_result"
    }
   ],
   "source": [
    "from numpy.linalg import *\n",
    "cond(np.arange(1,10).reshape(3,3),2)"
   ]
  },
  {
   "cell_type": "markdown",
   "metadata": {},
   "source": [
    "$\\blacktriangleright$&emsp;lu(A)&emsp;&emsp;&emsp;%列主元LU分解，LU=PA"
   ]
  },
  {
   "cell_type": "code",
   "execution_count": 73,
   "metadata": {},
   "outputs": [
    {
     "name": "stdout",
     "output_type": "stream",
     "text": [
      "p= \n",
      " [[0. 1. 0.]\n",
      " [0. 0. 1.]\n",
      " [1. 0. 0.]] \n",
      " L= \n",
      " [[1.         0.         0.        ]\n",
      " [0.14285714 1.         0.        ]\n",
      " [0.57142857 0.5        1.        ]] \n",
      " U= \n",
      " [[ 7.00000000e+00  8.00000000e+00  9.00000000e+00]\n",
      " [ 0.00000000e+00  8.57142857e-01  1.71428571e+00]\n",
      " [ 0.00000000e+00  0.00000000e+00 -1.58603289e-16]]\n"
     ]
    }
   ],
   "source": [
    "import numpy as np\n",
    "from scipy.linalg import lu\n",
    "(p,l,u)=lu(np.arange(1,10).reshape(3,3),permute_l=False)\n",
    "print('p=','\\n',p,'\\n','L=','\\n',l,'\\n','U=','\\n',u)"
   ]
  },
  {
   "cell_type": "markdown",
   "metadata": {},
   "source": [
    "$\\blacktriangleright$&emsp;cholesky(A)&emsp;&emsp;&emsp;%乔列斯基分解"
   ]
  },
  {
   "cell_type": "code",
   "execution_count": 35,
   "metadata": {},
   "outputs": [
    {
     "name": "stdout",
     "output_type": "stream",
     "text": [
      "L= [[1.73205081 0.         0.        ]\n",
      " [1.15470054 0.81649658 0.        ]\n",
      " [0.57735027 0.40824829 0.70710678]]\n"
     ]
    }
   ],
   "source": [
    "import numpy as np\n",
    "from scipy.linalg import cholesky\n",
    "l=cholesky(np.mat('3 2 1;2 2 1;1 1 1'),lower=True)\n",
    "print('L=',l)"
   ]
  },
  {
   "cell_type": "markdown",
   "metadata": {},
   "source": [
    "$\\blacktriangleright$&emsp;hilbert(n)&emsp;&emsp;&emsp;%生成Hilbert矩阵"
   ]
  },
  {
   "cell_type": "code",
   "execution_count": 37,
   "metadata": {},
   "outputs": [
    {
     "data": {
      "text/plain": [
       "array([[1.        , 0.5       , 0.33333333, 0.25      ],\n",
       "       [0.5       , 0.33333333, 0.25      , 0.2       ],\n",
       "       [0.33333333, 0.25      , 0.2       , 0.16666667],\n",
       "       [0.25      , 0.2       , 0.16666667, 0.14285714]])"
      ]
     },
     "execution_count": 37,
     "metadata": {},
     "output_type": "execute_result"
    }
   ],
   "source": [
    "from scipy.linalg import hilbert\n",
    "hilbert(4)"
   ]
  },
  {
   "cell_type": "markdown",
   "metadata": {},
   "source": [
    "$\\blacktriangleright$&emsp;cond(A,1)&emsp;&emsp;&emsp;%1-范数条件数估计"
   ]
  },
  {
   "cell_type": "code",
   "execution_count": 38,
   "metadata": {},
   "outputs": [
    {
     "data": {
      "text/plain": [
       "28374.99999999729"
      ]
     },
     "execution_count": 38,
     "metadata": {},
     "output_type": "execute_result"
    }
   ],
   "source": [
    "from numpy.linalg import *\n",
    "from scipy.linalg import hilbert\n",
    "cond(hilbert(4),1)"
   ]
  },
  {
   "cell_type": "markdown",
   "metadata": {},
   "source": [
    "##### 2&emsp;杜利脱尔分解"
   ]
  },
  {
   "cell_type": "code",
   "execution_count": 1,
   "metadata": {},
   "outputs": [
    {
     "data": {
      "text/plain": [
       "[array([[1., 0., 0.],\n",
       "        [1., 1., 0.],\n",
       "        [1., 1., 1.]]), array([[1., 2., 3.],\n",
       "        [0., 1., 2.],\n",
       "        [0., 0., 1.]])]"
      ]
     },
     "execution_count": 1,
     "metadata": {},
     "output_type": "execute_result"
    }
   ],
   "source": [
    "import numpy as np\n",
    "def LU(A):\n",
    "    m,n=A.shape\n",
    "    L=np.zeros((n,n))\n",
    "    U=np.zeros((n,n))\n",
    "    for k in range(n):\n",
    "        for r in range(n):\n",
    "            U[k,r]=A[k,r]\n",
    "            if k==r:\n",
    "                L[k,r]=1\n",
    "            if k<r:\n",
    "                factor=A[r,k]/A[k,k]\n",
    "                L[r,k]=factor\n",
    "                for c in range(0,n):\n",
    "                    A[r,c]=A[r,c]-factor*A[k,c]\n",
    "                    U[r,c]=A[r,c]\n",
    "    return [L,U]\n",
    "A=np.mat('1 2 3;1 3 5;1 3 6')\n",
    "LU(A)"
   ]
  },
  {
   "cell_type": "markdown",
   "metadata": {},
   "source": [
    "##### 3&emsp;克洛托分解"
   ]
  },
  {
   "cell_type": "code",
   "execution_count": 105,
   "metadata": {},
   "outputs": [
    {
     "data": {
      "text/plain": [
       "(array([[  9.,   0.,   0.],\n",
       "        [  6.,   1.,   0.],\n",
       "        [  3.,   5., -11.]]), array([[1.        , 0.66666667, 0.33333333],\n",
       "        [0.        , 1.        , 5.        ],\n",
       "        [0.        , 0.        , 1.        ]]))"
      ]
     },
     "execution_count": 105,
     "metadata": {},
     "output_type": "execute_result"
    }
   ],
   "source": [
    "import numpy as np\n",
    "def Crout(a):\n",
    "    cout=0\n",
    "    m,n=a.shape\n",
    "    if (m!=n):\n",
    "        print(\"error\")\n",
    "    else:\n",
    "        l=np.zeros((n,n))\n",
    "        u=np.zeros((n,n))\n",
    "        q1=0\n",
    "        q2=0\n",
    "        for i in range(n):\n",
    "            l[i,0]=a[i,0]\n",
    "            u[i,i]=1\n",
    "        for j in range(1,n):\n",
    "            u[0,j]=a[0,j]/l[0,0]\n",
    "        for k in range(1,n):\n",
    "            for i in range(k,n):\n",
    "                for r in range(k): \n",
    "                    q1=q1+l[i,r]*u[r,k]\n",
    "                    l[i,k]=a[i,k]-q1\n",
    "                    q1=0\n",
    "            for j in range(k+1, n):\n",
    "                for r in range(k):\n",
    "                    q2=q2+l[k,r]*u[r,j]\n",
    "                    u[k,j]=(a[k,j]-q2)/l[k,k]\n",
    "                    q2=0\n",
    "    return(l,u)\n",
    "a=np.mat('9 6 3;6 5 7;3 7 14')\n",
    "Crout(a)"
   ]
  },
  {
   "cell_type": "markdown",
   "metadata": {},
   "source": [
    "##### 4&emsp;乔列斯基分解"
   ]
  },
  {
   "cell_type": "code",
   "execution_count": 108,
   "metadata": {},
   "outputs": [
    {
     "name": "stdout",
     "output_type": "stream",
     "text": [
      "[[1.73205081 0.         0.        ]\n",
      " [1.15470054 0.81649658 0.        ]\n",
      " [0.57735027 0.40824829 0.70710678]] \n",
      " [[1.73205081 1.15470054 0.57735027]\n",
      " [0.         0.81649658 0.40824829]\n",
      " [0.         0.         0.70710678]] \n",
      " [ 1. -1.  2.]\n"
     ]
    }
   ],
   "source": [
    "import numpy as np\n",
    "def cholesky(A):\n",
    "    n=np.shape(A)[0]\n",
    "    R=np.zeros((n,n))\n",
    "    for j in range(n):\n",
    "        for i in range(j,n):\n",
    "            if i==j:\n",
    "                s=0\n",
    "                for k in range(j):\n",
    "                    s=s+R[i,k]**2\n",
    "                R[i,i]=np.sqrt(A[i,i]-s)\n",
    "            else:\n",
    "                s=0\n",
    "                for k in range(j):\n",
    "                    s=s+R[i,k]*R[j,k]\n",
    "                R[i,j]=(A[i,j]-s)/R[j,j]\n",
    "    return(R,R.T)\n",
    "\n",
    "def back_subs(L,U,b):\n",
    "    n=b.size\n",
    "    x=np.zeros(n)\n",
    "    c=np.zeros(n)\n",
    "\n",
    "    c[0]=b[0]/L[0,0]\n",
    "    for l in range(1,n):\n",
    "        s=0\n",
    "    for m in range(0,l):\n",
    "        s=s+L[l,m]*c[m]\n",
    "    c[l]=(b[l]-s)/L[l,l]\n",
    "\n",
    "    for l in range(n-1,-1,-1):\n",
    "        t=0\n",
    "        for m in range(l+1,n):\n",
    "            t=t+U[l,m]*x[m]\n",
    "        x[l]=(c[l]-t)/U[l,l]\n",
    "    return (x)\n",
    "\n",
    "A=np.mat('3 2 1;2 2 1;1 1 1')\n",
    "b=np.mat('3;2;2')\n",
    "(L,U)=cholesky(A)\n",
    "print(L,'\\n',U,'\\n',back_subs(L,U,b))"
   ]
  },
  {
   "cell_type": "markdown",
   "metadata": {},
   "source": [
    "##### 5&emsp;高斯消去法"
   ]
  },
  {
   "cell_type": "code",
   "execution_count": 145,
   "metadata": {},
   "outputs": [
    {
     "data": {
      "text/plain": [
       "array([-1.,  0.,  1.])"
      ]
     },
     "execution_count": 145,
     "metadata": {},
     "output_type": "execute_result"
    }
   ],
   "source": [
    "import numpy as np\n",
    "def gauss(a,b):\n",
    "    n=b.size\n",
    "    for k in range(n-1):\n",
    "        for i in range(k+1,n):\n",
    "            m=a[i,k]/a[k,k]\n",
    "            for j in range(k,n):\n",
    "                a[i,j]=a[i,j]-m*a[k,j]\n",
    "            b[i]=b[i]-m*b[k]\n",
    "    c=b\n",
    "    x=np.ones(n)\n",
    "    for l in range(n-1,-1,-1):\n",
    "        for m in range(l+1,n):\n",
    "            c[l]=c[l]-a[l,m]*x[m]\n",
    "        x[l]=b[l]/a[l,l]\n",
    "    return x\n",
    "A=np.mat('1 2 3;1 3 5;1 3 6')\n",
    "b0=np.mat('2;4;5')\n",
    "gauss(A,b0)"
   ]
  },
  {
   "cell_type": "markdown",
   "metadata": {},
   "source": [
    "##### 6&emsp;列主元高斯消去法"
   ]
  },
  {
   "cell_type": "code",
   "execution_count": 10,
   "metadata": {},
   "outputs": [
    {
     "data": {
      "text/plain": [
       "array([-1.,  0.,  1.])"
      ]
     },
     "execution_count": 10,
     "metadata": {},
     "output_type": "execute_result"
    }
   ],
   "source": [
    "import numpy as np\n",
    "def v_gauss(a,b):\n",
    "    n=b.size\n",
    "    for k in range(n-1):\n",
    "        d=np.argmax(a[k:,k])+k\n",
    "        a[d,:],a[k,:]=a[k,:],a[d,:]\n",
    "        b[d],b[k]=b[k],b[d]\n",
    "        for i in range(k+1,n):\n",
    "            m=a[i,k]/a[k,k]\n",
    "            for j in range(k,n):\n",
    "                a[i,j]=a[i,j]-m*a[k,j]\n",
    "            b[i]=b[i]-m*b[k]\n",
    "    c=b\n",
    "    x=np.ones(n)\n",
    "    for l in range(n-1,-1,-1):\n",
    "        for m in range(l+1,n):\n",
    "            c[l]=c[l]-a[l,m]*x[m]\n",
    "        x[l]=b[l]/a[l,l]\n",
    "    return x\n",
    "A=np.mat('1 2 3;1 3 5;1 3 6')\n",
    "b0=np.mat('2;4;5')\n",
    "v_gauss(A,b0)"
   ]
  },
  {
   "cell_type": "markdown",
   "metadata": {},
   "source": [
    "## 练习\n",
    "1.&emsp;用杜利脱尔分解求解下面的线性代数方程组\n",
    "$$    \\left(\n",
    "    \\begin{array}{ccc}\n",
    "     1&2  &3 \\\\\n",
    "     1&3  &5 \\\\\n",
    "     1&3  &6 \\\\\n",
    "    \\end{array} \\right)\n",
    "    \\left(\n",
    "        \\begin{array}{c}\n",
    "         x_1\\\\\n",
    "         x_2\\\\\n",
    "         x_3\\\\\n",
    "        \\end{array} \\right)=\n",
    "        \\left(\n",
    "    \\begin{array}{c}\n",
    "     2\\\\\n",
    "     4\\\\\n",
    "     5\\\\\n",
    "    \\end{array} \\right)$$"
   ]
  },
  {
   "cell_type": "code",
   "execution_count": 65,
   "metadata": {},
   "outputs": [
    {
     "data": {
      "text/plain": [
       "array([[-1.],\n",
       "       [ 0.],\n",
       "       [ 1.]])"
      ]
     },
     "execution_count": 65,
     "metadata": {},
     "output_type": "execute_result"
    }
   ],
   "source": [
    "import numpy as np\n",
    "from scipy.linalg import lu_solve\n",
    "from scipy.linalg import lu_factor\n",
    "a=lu_factor(np.mat('1 2 3;1 3 5;1 3 6'))\n",
    "lu_solve(a,np.mat('2;4;5'))"
   ]
  },
  {
   "cell_type": "markdown",
   "metadata": {},
   "source": [
    "2.&emsp;用杜利脱尔分解求解下面的线性代数方程组\n",
    "$$    \\left(\n",
    "    \\begin{array}{cccc}\n",
    "     5&7  &9  &10 \\\\\n",
    "     6&8  &10  &9 \\\\\n",
    "     7&10  &8  &7 \\\\\n",
    "     5&7  &6  &5 \\\\\n",
    "    \\end{array} \\right)\n",
    "    \\left(\n",
    "        \\begin{array}{c}\n",
    "         x_1\\\\\n",
    "         x_2\\\\\n",
    "         x_3\\\\\n",
    "         x_4\\\\\n",
    "        \\end{array} \\right)=\n",
    "        \\left(\n",
    "    \\begin{array}{c}\n",
    "     1\\\\\n",
    "     1\\\\\n",
    "     1\\\\\n",
    "     1\\\\\n",
    "    \\end{array} \\right)$$"
   ]
  },
  {
   "cell_type": "code",
   "execution_count": 66,
   "metadata": {},
   "outputs": [
    {
     "data": {
      "text/plain": [
       "array([[ 20.],\n",
       "       [-12.],\n",
       "       [ -5.],\n",
       "       [  3.]])"
      ]
     },
     "execution_count": 66,
     "metadata": {},
     "output_type": "execute_result"
    }
   ],
   "source": [
    "import numpy as np\n",
    "from scipy.linalg import lu_solve\n",
    "from scipy.linalg import lu_factor\n",
    "a=lu_factor(np.mat('5 7 9 10;6 8 10 9;7 10 8 7;5 7 6 5'))\n",
    "lu_solve(a,np.mat('1;1;1;1'))"
   ]
  },
  {
   "cell_type": "markdown",
   "metadata": {},
   "source": [
    "3.&emsp;用乔列斯基分解求解下面的线性代数方程组\n",
    "$$    \\left(\n",
    "    \\begin{array}{ccc}\n",
    "     3&2  &1 \\\\\n",
    "     2&2  &1 \\\\\n",
    "     1&1  &1 \\\\\n",
    "    \\end{array} \\right)\n",
    "    \\left(\n",
    "        \\begin{array}{c}\n",
    "         x_1\\\\\n",
    "         x_2\\\\\n",
    "         x_3\\\\\n",
    "        \\end{array} \\right)=\n",
    "        \\left(\n",
    "    \\begin{array}{c}\n",
    "     3\\\\\n",
    "     2\\\\\n",
    "     2\\\\\n",
    "    \\end{array} \\right)$$"
   ]
  },
  {
   "cell_type": "code",
   "execution_count": 64,
   "metadata": {},
   "outputs": [
    {
     "data": {
      "text/plain": [
       "array([[ 1.],\n",
       "       [-1.],\n",
       "       [ 2.]])"
      ]
     },
     "execution_count": 64,
     "metadata": {},
     "output_type": "execute_result"
    }
   ],
   "source": [
    "import numpy as np\n",
    "from scipy.linalg import cho_solve\n",
    "from scipy.linalg import cho_factor\n",
    "a=cho_factor(np.mat('3 2 1;2 2 1;1 1 1'),lower=True)\n",
    "cho_solve(a,np.mat('3;2;2'))"
   ]
  },
  {
   "cell_type": "markdown",
   "metadata": {},
   "source": [
    "4.&emsp;用乔列斯基分解求解下面的线性代数方程组\n",
    "$$    \\left(\n",
    "    \\begin{array}{cccc}\n",
    "     9&6  &3 \\\\\n",
    "     6&5  &7 \\\\\n",
    "     3&7  &14 \\\\\n",
    "    \\end{array} \\right)\n",
    "    \\left(\n",
    "        \\begin{array}{c}\n",
    "         x_1\\\\\n",
    "         x_2\\\\\n",
    "         x_3\\\\\n",
    "        \\end{array} \\right)=\n",
    "        \\left(\n",
    "    \\begin{array}{c}\n",
    "     6\\\\\n",
    "     8\\\\\n",
    "     10\\\\\n",
    "    \\end{array} \\right)$$"
   ]
  },
  {
   "cell_type": "code",
   "execution_count": 1,
   "metadata": {},
   "outputs": [
    {
     "name": "stdout",
     "output_type": "stream",
     "text": [
      "该系数矩阵不是非负定的因此无法进行乔列斯基分解\n"
     ]
    }
   ],
   "source": [
    "print('该系数矩阵不是非负定的因此无法进行乔列斯基分解')"
   ]
  },
  {
   "cell_type": "markdown",
   "metadata": {},
   "source": [
    "5.&emsp;分别用高斯消去法和列主元高斯消去法求解线性代数方程组\n",
    "$$    \\left(\n",
    "    \\begin{array}{cccc}\n",
    "     4&-3  &3 \\\\\n",
    "     3&2  &-6 \\\\\n",
    "     1&-5  &3 \\\\\n",
    "    \\end{array} \\right)\n",
    "    \\left(\n",
    "        \\begin{array}{c}\n",
    "         x_1\\\\\n",
    "         x_2\\\\\n",
    "         x_3\\\\\n",
    "        \\end{array} \\right)=\n",
    "        \\left(\n",
    "    \\begin{array}{c}\n",
    "     4\\\\\n",
    "     7\\\\\n",
    "     3\\\\\n",
    "    \\end{array} \\right)$$"
   ]
  },
  {
   "cell_type": "code",
   "execution_count": 13,
   "metadata": {},
   "outputs": [
    {
     "name": "stdout",
     "output_type": "stream",
     "text": [
      "高斯消元法的结果为： [ 1. -1. -1.]\n",
      "列主元高斯消元法的结果为： [-1.  0.  1.]\n"
     ]
    }
   ],
   "source": [
    "import numpy as np\n",
    "def gauss(a,b):\n",
    "    n=b.size\n",
    "    for k in range(n-1):\n",
    "        for i in range(k+1,n):\n",
    "            m=a[i,k]/a[k,k]\n",
    "            for j in range(k,n):\n",
    "                a[i,j]=a[i,j]-m*a[k,j]\n",
    "            b[i]=b[i]-m*b[k]\n",
    "    c=b\n",
    "    x=np.ones(n)\n",
    "    for l in range(n-1,-1,-1):\n",
    "        for m in range(l+1,n):\n",
    "            c[l]=c[l]-a[l,m]*x[m]\n",
    "        x[l]=b[l]/a[l,l]\n",
    "    return x\n",
    "A=np.mat('4 -3 3;3 2 -6;1 -5 3')\n",
    "b0=np.mat('4;7;3')\n",
    "print('高斯消元法的结果为：',gauss(A,b0))\n",
    "def v_gauss(a,b):\n",
    "    n=b.size\n",
    "    for k in range(n-1):\n",
    "        d=np.argmax(a[k:,k])+k\n",
    "        a[d,:],a[k,:]=a[k,:],a[d,:]\n",
    "        b[d],b[k]=b[k],b[d]\n",
    "        for i in range(k+1,n):\n",
    "            m=a[i,k]/a[k,k]\n",
    "            for j in range(k,n):\n",
    "                a[i,j]=a[i,j]-m*a[k,j]\n",
    "            b[i]=b[i]-m*b[k]\n",
    "    c=b\n",
    "    x=np.ones(n)\n",
    "    for l in range(n-1,-1,-1):\n",
    "        for m in range(l+1,n):\n",
    "            c[l]=c[l]-a[l,m]*x[m]\n",
    "        x[l]=b[l]/a[l,l]\n",
    "    return x\n",
    "A=np.mat('1 2 3;1 3 5;1 3 6')\n",
    "b0=np.mat('2;4;5')\n",
    "print('列主元高斯消元法的结果为：',v_gauss(A,b0))"
   ]
  },
  {
   "cell_type": "markdown",
   "metadata": {},
   "source": [
    "## 作业：\n",
    "#### **1.&emsp;两点边值问题离散方程的求解**\n",
    "实验目的：使用直接法求解线性方程组。<br/>\n",
    "实验内容：已知离散两点边值问题得到如下线性方程组\n",
    "$$\n",
    "    \\left(\n",
    "    \\begin{array}{ccccc}\n",
    "     4&-1  &0  &\\ldots&0 \\\\\n",
    "     -1&4  &-1&\\ldots  &0 \\\\\n",
    "     0&-1  &4  &\\ldots&0 \\\\\n",
    "     \\vdots&\\vdots&\\vdots&\\ddots&\\vdots\\\\\n",
    "     0&0  &\\vdots&-1  &4 \\\\\n",
    "    \\end{array} \\right)\n",
    "    \\left(\n",
    "        \\begin{array}{c}\n",
    "         x_1\\\\\n",
    "         x_2\\\\\n",
    "         x_3\\\\\n",
    "         \\vdots\\\\\n",
    "         x_n\\\\\n",
    "        \\end{array} \\right)=\n",
    "        \\left(\n",
    "    \\begin{array}{c}\n",
    "     100\\\\\n",
    "     200\\\\\n",
    "     200\\\\\n",
    "     \\vdots\\\\\n",
    "     100\\\\\n",
    "    \\end{array} \\right)\n",
    "    $$\n",
    "（1）编写利用克洛托分解求解上述线性方程组的程序Crout,其中$n=200$;<br/>\n",
    "（2）编写利用平方根法求解上述线性方程组的程序cholesky，其中$n=200$;<br/>\n",
    "（3）编写追赶法求解上述线性方程组的程序chase，其中$n=200$；<br/>\n",
    "（4）试比较上述三种方法的优劣。"
   ]
  },
  {
   "cell_type": "code",
   "execution_count": 117,
   "metadata": {},
   "outputs": [
    {
     "name": "stdout",
     "output_type": "stream",
     "text": [
      "（1）克洛托分解法的结果为：\n",
      " [ 46.41016151  85.64064606  96.15242271  98.96904477  99.72375638\n",
      "  99.92598074  99.9801666   99.99468566  99.99857603  99.99961845\n",
      "  99.99989776  99.99997261  99.99999266  99.99999803  99.99999947\n",
      "  99.99999986  99.99999996  99.99999999 100.         100.\n",
      " 100.         100.         100.         100.         100.\n",
      " 100.         100.         100.         100.         100.\n",
      " 100.         100.         100.         100.         100.\n",
      " 100.         100.         100.         100.         100.\n",
      " 100.         100.         100.         100.         100.\n",
      " 100.         100.         100.         100.         100.\n",
      " 100.         100.         100.         100.         100.\n",
      " 100.         100.         100.         100.         100.\n",
      " 100.         100.         100.         100.         100.\n",
      " 100.         100.         100.         100.         100.\n",
      " 100.         100.         100.         100.         100.\n",
      " 100.         100.         100.         100.         100.\n",
      " 100.         100.         100.         100.         100.\n",
      " 100.         100.         100.         100.         100.\n",
      " 100.         100.         100.         100.         100.\n",
      " 100.         100.         100.         100.         100.\n",
      " 100.         100.         100.         100.         100.\n",
      " 100.         100.         100.         100.         100.\n",
      " 100.         100.         100.         100.         100.\n",
      " 100.         100.         100.         100.         100.\n",
      " 100.         100.         100.         100.         100.\n",
      " 100.         100.         100.         100.         100.\n",
      " 100.         100.         100.         100.         100.\n",
      " 100.         100.         100.         100.         100.\n",
      " 100.         100.         100.         100.         100.\n",
      " 100.         100.         100.         100.         100.\n",
      " 100.         100.         100.         100.         100.\n",
      " 100.         100.         100.         100.         100.\n",
      " 100.         100.         100.         100.         100.\n",
      " 100.         100.         100.         100.         100.\n",
      " 100.         100.         100.         100.         100.\n",
      " 100.         100.         100.         100.         100.\n",
      " 100.         100.          99.99999999  99.99999996  99.99999986\n",
      "  99.99999947  99.99999803  99.99999266  99.99997261  99.99989776\n",
      "  99.99961845  99.99857603  99.99468566  99.9801666   99.92598074\n",
      "  99.72375638  98.96904477  96.15242271  85.64064606  46.41016151] \n",
      "\n",
      "（2）平方根分解法的结果为：\n",
      " [ 46.41016151  85.64064606  96.15242271  98.96904477  99.72375638\n",
      "  99.92598074  99.9801666   99.99468566  99.99857603  99.99961845\n",
      "  99.99989776  99.99997261  99.99999266  99.99999803  99.99999947\n",
      "  99.99999986  99.99999996  99.99999999 100.         100.\n",
      " 100.         100.         100.         100.         100.\n",
      " 100.         100.         100.         100.         100.\n",
      " 100.         100.         100.         100.         100.\n",
      " 100.         100.         100.         100.         100.\n",
      " 100.         100.         100.         100.         100.\n",
      " 100.         100.         100.         100.         100.\n",
      " 100.         100.         100.         100.         100.\n",
      " 100.         100.         100.         100.         100.\n",
      " 100.         100.         100.         100.         100.\n",
      " 100.         100.         100.         100.         100.\n",
      " 100.         100.         100.         100.         100.\n",
      " 100.         100.         100.         100.         100.\n",
      " 100.         100.         100.         100.         100.\n",
      " 100.         100.         100.         100.         100.\n",
      " 100.         100.         100.         100.         100.\n",
      " 100.         100.         100.         100.         100.\n",
      " 100.         100.         100.         100.         100.\n",
      " 100.         100.         100.         100.         100.\n",
      " 100.         100.         100.         100.         100.\n",
      " 100.         100.         100.         100.         100.\n",
      " 100.         100.         100.         100.         100.\n",
      " 100.         100.         100.         100.         100.\n",
      " 100.         100.         100.         100.         100.\n",
      " 100.         100.         100.         100.         100.\n",
      " 100.         100.         100.         100.         100.\n",
      " 100.         100.         100.         100.         100.\n",
      " 100.         100.         100.         100.         100.\n",
      " 100.         100.         100.         100.         100.\n",
      " 100.         100.         100.         100.         100.\n",
      " 100.         100.         100.         100.         100.\n",
      " 100.         100.         100.         100.         100.\n",
      " 100.         100.         100.         100.         100.\n",
      " 100.         100.          99.99999999  99.99999996  99.99999986\n",
      "  99.99999947  99.99999803  99.99999266  99.99997261  99.99989776\n",
      "  99.99961845  99.99857603  99.99468566  99.9801666   99.92598074\n",
      "  99.72375638  98.96904477  96.15242271  85.64064606  46.41016151] \n",
      "\n",
      "（3）追赶法的结果为：\n",
      " [array([ 46.41016151,  85.64064606,  96.15242271,  98.96904477,\n",
      "        99.72375638,  99.92598074,  99.9801666 ,  99.99468566,\n",
      "        99.99857603,  99.99961845,  99.99989776,  99.99997261,\n",
      "        99.99999266,  99.99999803,  99.99999947,  99.99999986,\n",
      "        99.99999996,  99.99999999, 100.        , 100.        ,\n",
      "       100.        , 100.        , 100.        , 100.        ,\n",
      "       100.        , 100.        , 100.        , 100.        ,\n",
      "       100.        , 100.        , 100.        , 100.        ,\n",
      "       100.        , 100.        , 100.        , 100.        ,\n",
      "       100.        , 100.        , 100.        , 100.        ,\n",
      "       100.        , 100.        , 100.        , 100.        ,\n",
      "       100.        , 100.        , 100.        , 100.        ,\n",
      "       100.        , 100.        , 100.        , 100.        ,\n",
      "       100.        , 100.        , 100.        , 100.        ,\n",
      "       100.        , 100.        , 100.        , 100.        ,\n",
      "       100.        , 100.        , 100.        , 100.        ,\n",
      "       100.        , 100.        , 100.        , 100.        ,\n",
      "       100.        , 100.        , 100.        , 100.        ,\n",
      "       100.        , 100.        , 100.        , 100.        ,\n",
      "       100.        , 100.        , 100.        , 100.        ,\n",
      "       100.        , 100.        , 100.        , 100.        ,\n",
      "       100.        , 100.        , 100.        , 100.        ,\n",
      "       100.        , 100.        , 100.        , 100.        ,\n",
      "       100.        , 100.        , 100.        , 100.        ,\n",
      "       100.        , 100.        , 100.        , 100.        ,\n",
      "       100.        , 100.        , 100.        , 100.        ,\n",
      "       100.        , 100.        , 100.        , 100.        ,\n",
      "       100.        , 100.        , 100.        , 100.        ,\n",
      "       100.        , 100.        , 100.        , 100.        ,\n",
      "       100.        , 100.        , 100.        , 100.        ,\n",
      "       100.        , 100.        , 100.        , 100.        ,\n",
      "       100.        , 100.        , 100.        , 100.        ,\n",
      "       100.        , 100.        , 100.        , 100.        ,\n",
      "       100.        , 100.        , 100.        , 100.        ,\n",
      "       100.        , 100.        , 100.        , 100.        ,\n",
      "       100.        , 100.        , 100.        , 100.        ,\n",
      "       100.        , 100.        , 100.        , 100.        ,\n",
      "       100.        , 100.        , 100.        , 100.        ,\n",
      "       100.        , 100.        , 100.        , 100.        ,\n",
      "       100.        , 100.        , 100.        , 100.        ,\n",
      "       100.        , 100.        , 100.        , 100.        ,\n",
      "       100.        , 100.        , 100.        , 100.        ,\n",
      "       100.        , 100.        , 100.        , 100.        ,\n",
      "       100.        , 100.        , 100.        , 100.        ,\n",
      "       100.        , 100.        , 100.        , 100.        ,\n",
      "       100.        , 100.        ,  99.99999999,  99.99999996,\n",
      "        99.99999986,  99.99999947,  99.99999803,  99.99999266,\n",
      "        99.99997261,  99.99989776,  99.99961845,  99.99857603,\n",
      "        99.99468566,  99.9801666 ,  99.92598074,  99.72375638,\n",
      "        98.96904477,  96.15242271,  85.64064606,  46.41016151])] \n",
      "\n",
      "三者计算得到的结果相差不多，其中追赶法相对来说计算步骤最简单\n",
      " 但是追赶法只适用于对称三对角阵，条件最苛刻，而克洛托分解只需要矩阵可逆，平方根分解需要矩阵正定\n"
     ]
    }
   ],
   "source": [
    "import numpy as np\n",
    "from scipy.linalg import cho_solve\n",
    "from scipy.linalg import cho_factor\n",
    "\n",
    "#提取A,b\n",
    "n=200\n",
    "A=np.diag(4*np.ones(n))+np.diag(-np.ones(n-1),1)+np.diag(-np.ones(n-1),-1)\n",
    "b=n*np.ones(n)\n",
    "b[0]=n/2\n",
    "b[n-1]=n/2\n",
    "\n",
    "#克洛托分解\n",
    "def Crout(a):\n",
    "    n=np.size(a,0)\n",
    "    L=np.zeros((n,n))\n",
    "    U=np.zeros((n,n))\n",
    "    for i in range(n):\n",
    "        U[i,i]=1\n",
    "        for j in range(i,n):\n",
    "            s=0\n",
    "            for k in range(i):\n",
    "                s=s+L[j,k]*U[k,i]\n",
    "            L[j,i]=a[j,i]-s\n",
    "            if i!=j:\n",
    "                s=0\n",
    "                for k in range(i):\n",
    "                    s=s+L[i,k]*U[k,j]\n",
    "                U[i,j]=(a[i,j]-s)/L[i,i]\n",
    "    return(L,U)\n",
    "def back_subs(L,U,b):\n",
    "    n=b.size\n",
    "    x=np.zeros(n)\n",
    "    c=np.zeros(n)\n",
    "    c[0]=b[0]/L[0,0]\n",
    "    for l in range(n):\n",
    "        s=0\n",
    "        for m in range(l):\n",
    "            s=s+L[l,m]*c[m]\n",
    "        c[l]=(b[l]-s)/L[l,l]\n",
    "\n",
    "    for l in range(n-1,-1,-1):\n",
    "        t=0\n",
    "        for m in range(n-1,l,-1):\n",
    "            t=t+U[l,m]*x[m]\n",
    "        x[l]=(c[l]-t)/U[l,l]\n",
    "    return(x)\n",
    "\n",
    "[l,u]=Crout(A)\n",
    "print('（1）克洛托分解法的结果为：\\n',back_subs(l,u,b),'\\n')\n",
    "\n",
    "#平方根分解法\n",
    "a=cho_factor(A,lower=True)\n",
    "print('（2）平方根分解法的结果为：\\n',cho_solve(a,b.T),'\\n')\n",
    "\n",
    "#追赶法\n",
    "def chase(a,b,c,f):\n",
    "    n=np.size(b)\n",
    "    x=np.zeros(n)\n",
    "    y=np.zeros(n)\n",
    "    l=np.zeros(n)\n",
    "    u=np.zeros(n-1)\n",
    "    l[0]=b[0]\n",
    "    y[0]=f[0]/l[0]\n",
    "    u[0]=c[0]/l[0]\n",
    "    for i in range(1,n-1):\n",
    "        l[i]=b[i]-a[i-1]*u[i-1]\n",
    "        y[i]=(f[i]-y[i-1]*a[i-1])/l[i]\n",
    "        u[i]=c[i]/l[i]\n",
    "    l[n-1]=b[n-1]-a[n-2]*u[n-2]\n",
    "    y[n-1]=(f[n-1]-y[n-2]*a[n-2])/l[n-1]\n",
    "    x[n-1]=y[n-1]\n",
    "    for i in range(n-2,-1,-1):\n",
    "        x[i]=y[i]-u[i]*x[i+1]\n",
    "    return[x]\n",
    "print('（3）追赶法的结果为：\\n',chase(-np.ones(n-1),4*np.ones(n),-np.ones(n-1),b),'\\n')\n",
    "\n",
    "print('三者计算得到的结果相差不多，其中追赶法相对来说计算步骤最简单\\n 但是追赶法只适用于对称三对角阵，条件最苛刻，而克洛托分解只需要矩阵可逆，平方根分解需要矩阵正定')"
   ]
  },
  {
   "cell_type": "markdown",
   "metadata": {},
   "source": [
    "#### **2.&emsp;范德蒙德线性方程组的求解**\n",
    "实验目的：条件数与高斯消去法的稳定性。<br/>\n",
    "实验内容：考虑范德蒙德线性方程组\n",
    "$$\n",
    "    \\left(\n",
    "    \\begin{array}{ccccc}\n",
    "     1&x_0  &x_0^2  &\\ldots&x_0^n \\\\\n",
    "     1&x_1  &x_1^2&\\ldots  &x_1^n \\\\\n",
    "     1&x_2  &x_2^2  &\\ldots&x_2^n \\\\\n",
    "     \\vdots&\\vdots&\\vdots&\\ddots&\\vdots\\\\\n",
    "     1&x_n  &x_n^2&\\ldots  &x_n^n \\\\\n",
    "    \\end{array} \\right)\n",
    "    \\left(\n",
    "        \\begin{array}{c}\n",
    "         z_0\\\\\n",
    "         z_1\\\\\n",
    "         z_2\\\\\n",
    "         \\vdots\\\\\n",
    "         z_n\\\\\n",
    "        \\end{array} \\right)=\n",
    "        \\left(\n",
    "    \\begin{array}{c}\n",
    "     \\sum\\limits_{i=0}^nx_0^i\\\\\n",
    "     \\sum\\limits_{i=0}^nx_1^i\\\\\n",
    "     \\sum\\limits_{i=0}^nx_2^i\\\\\n",
    "     \\vdots\\\\\n",
    "     \\sum\\limits_{i=0}^nx_n^i\\\\\n",
    "    \\end{array} \\right)\n",
    "    $$\n",
    "其中。$x_k=1+0.1k$，$k=0,1,\\cdots n$，<br/>\n",
    "（1）对$n=2,5,8$，计算系数矩阵的条件数；随$n$增大，矩阵性态如何变化？<br/>\n",
    "（2）对$n=5$，解该方程组；设系数矩阵的最后一个元素有扰动$10^{-4}$，再求解该方程组；<br/>\n",
    "（3）计算（2）中扰动的相对误差和解的相对误差，分析它们与条件数的关系；<br/>\n",
    "（4）你能由此解释为什么不用插值函数存在定理中的方法直接求插值函数，而要用拉格朗日插值或牛顿插值法吗？"
   ]
  },
  {
   "cell_type": "code",
   "execution_count": 17,
   "metadata": {},
   "outputs": [
    {
     "name": "stdout",
     "output_type": "stream",
     "text": [
      "（1）\n",
      "n= 2 时的条件数为 1104.400098300591\n",
      "n= 5 时的条件数为 5594498.784355135\n",
      "n= 8 时的条件数为 22739097630.89334\n",
      "由结果看出，随n增大条件数以极高速度增长\n",
      "（2）\n",
      "施加扰动前，方程组的解为 [1. 1. 1. 1. 1. 1.]\n",
      "施加扰动后，方程组的解为 [ 1.1848      0.21904615  2.31538462 -0.10384615  1.46153846  0.92307692]\n",
      "（3）\n",
      "条件数为 5209064.502007606\n",
      "扰动的相对误差为 3.657882627325408e-07\n",
      "解的相对误差为 0.6539076923059897\n",
      "猜测条件数与扰动的相对误差的乘积与解的相对误差是一个数量级，故条件数越大解的误差越大\n",
      "（4）\n",
      "因为当矩阵条件数过大时，插值函数存在定理中的方法误差过大\n"
     ]
    }
   ],
   "source": [
    "import numpy as np\n",
    "from scipy import *\n",
    "from scipy import linalg\n",
    "\n",
    "print('（1）')\n",
    "for n in range(2,9,3):\n",
    "    x=np.zeros(n+1)\n",
    "    for k in range(0,n+1):\n",
    "        x[k]=1+0.1*k\n",
    "    X=vander(x,increasing=True)\n",
    "    print('n=',n,'时的条件数为',np.linalg.cond(X))\n",
    "print('由结果看出，随n增大条件数以极高速度增长')\n",
    "    \n",
    "print('（2）')\n",
    "x=np.zeros(6)\n",
    "b=np.zeros(6)\n",
    "for k in range(0,6):\n",
    "    x[k]=1+0.1*k\n",
    "X=vander(x,increasing=True)\n",
    "for i in range(0,6):\n",
    "    b[i]=np.sum(X[i,0:])\n",
    "x0=linalg.solve(X,b)\n",
    "print('施加扰动前，方程组的解为',x0)\n",
    "X[5,5]=X[5,5]+10**-4\n",
    "x1=linalg.solve(X,b)\n",
    "print('施加扰动后，方程组的解为',x1)\n",
    "\n",
    "print('（3）')\n",
    "c=np.linalg.cond(X)\n",
    "print('条件数为',c)\n",
    "print('扰动的相对误差为',np.abs(10**-4/(X[5,5]+10**-4))/36)\n",
    "print('解的相对误差为',np.sum(np.abs((x1-x0)/x0))/6)\n",
    "print('猜测条件数与扰动的相对误差的乘积与解的相对误差是一个数量级，故条件数越大解的误差越大')\n",
    "\n",
    "print('（4）')\n",
    "print('因为当矩阵条件数过大时，插值函数存在定理中的方法误差过大')"
   ]
  },
  {
   "cell_type": "markdown",
   "metadata": {},
   "source": [
    "#### **3.&emsp;线性方程组的性态与条件数估计**\n",
    "实验目的：线性方程组的性态、条件数估计。<br/>\n",
    "实验内容：<br/>\n",
    "（1）构造非奇异矩阵$A$和右端向量$b$，使得线性方程组$Ax=b$可以精确求解；再引入系数矩阵和有段向量的扰动$\\Delta A$和$\\Delta b$，使得$\\parallel\\Delta A\\parallel$和$\\parallel\\Delta b\\parallel$充分小。设方程$Ax=b$的解为$x$，方程$(A+\\Delta)\\hat{x}=b+\\Delta b$的解为$\\hat{x}$，以向量1-范数，给出$\\dfrac{\\parallel\\Delta x\\parallel}{\\parallel x\\parallel}=\\dfrac{\\parallel\\hat{x}-x\\parallel}{\\parallel x\\parallel}$的计算结果；<br/>\n",
    "（2）选择一系列维数递增的矩阵$A$（可以是随机生成的），比较函数cond所需机器时间的差别。考虑若干逆是已知的矩阵，借助函数eig给出$\\text{cond}_2(A)$的数值，并将它与函数$\\text{cond}(A,2)$所得到的结果进行比较；<br/>\n",
    "（3）利用函数condset给出矩阵$A$条件数的估计，并应用如下结论\n",
    "$$\\dfrac{\\parallel\\Delta x\\parallel}{\\parallel x\\parallel}\\le\\dfrac{\\text{cond}(A)}{1-\\parallel A^{-1}\\parallel\\parallel\\Delta A\\parallel}\\left(\\dfrac{\\parallel\\Delta A\\parallel}{\\parallel A\\parallel}+\\dfrac{\\parallel\\Delta b\\parallel}{\\parallel b\\parallel}\\right)$$\n",
    "分析$\\dfrac{\\parallel\\Delta x\\parallel}{\\parallel x\\parallel}$的理论估计，并与（1）给出的计算结果进行比较，分析所得结果。注意如果给出了$\\text{cond}(A)$和$\\parallel A\\parallel$的估计，则可以容易给出$\\parallel A^{-1}\\parallel$的估计。<br/>\n",
    "（4）估计著名的Hilbert矩阵的条件数。"
   ]
  },
  {
   "cell_type": "code",
   "execution_count": 16,
   "metadata": {},
   "outputs": [
    {
     "name": "stdout",
     "output_type": "stream",
     "text": [
      "（1）\n",
      "A为\n",
      " [[19  8 32 35 16  8]\n",
      " [ 4 36 33 11  6 33]\n",
      " [17 24 36  6 11 13]\n",
      " [36 21 25 13  1  0]\n",
      " [14 31  2  2  4 16]\n",
      " [ 9 20 20 31 20 30]] \n",
      " b为\n",
      " [[0]\n",
      " [6]\n",
      " [2]\n",
      " [4]\n",
      " [5]\n",
      " [3]]\n",
      "扰动后A为\n",
      " [[1.90000016e+01 8.00000482e+00 3.20000022e+01 3.50000019e+01\n",
      "  1.60000015e+01 8.00000735e+00]\n",
      " [4.00000877e+00 3.60000078e+01 3.30000012e+01 1.10000060e+01\n",
      "  6.00000581e+00 3.30000004e+01]\n",
      " [1.70000044e+01 2.40000056e+01 3.60000039e+01 6.00000391e+00\n",
      "  1.10000015e+01 1.30000087e+01]\n",
      " [3.60000000e+01 2.10000041e+01 2.50000074e+01 1.30000058e+01\n",
      "  1.00000966e+00 8.63038655e-06]\n",
      " [1.40000052e+01 3.10000023e+01 2.00000257e+00 2.00000074e+00\n",
      "  4.00000180e+00 1.60000093e+01]\n",
      " [9.00000435e+00 2.00000080e+01 2.00000014e+01 3.10000055e+01\n",
      "  2.00000056e+01 3.00000006e+01]] \n",
      " 扰动后b为\n",
      " [[1.98529372e-07]\n",
      " [6.00000797e+00]\n",
      " [2.00000519e+00]\n",
      " [4.00000901e+00]\n",
      " [5.00000145e+00]\n",
      " [3.00000368e+00]]\n",
      "x为\n",
      " [[ 0.10633519]\n",
      " [ 0.04725312]\n",
      " [-0.03097104]\n",
      " [ 0.01227049]\n",
      " [-0.20562273]\n",
      " [ 0.18164704]] \n",
      " 扰动后x为\n",
      " [[ 0.10633609]\n",
      " [ 0.04725213]\n",
      " [-0.0309709 ]\n",
      " [ 0.01227011]\n",
      " [-0.2056235 ]\n",
      " [ 0.18164836]]\n",
      "计算结果为\n",
      " 7.70916224735965e-06\n",
      "（2）\n",
      "维数n为 10 时的机器运行时间为 0.0\n",
      "此时eig得到的条件数为 1604.3357950132229 cond得到的条件数为 1604.3357950132536 \n",
      "\n",
      "维数n为 20 时的机器运行时间为 0.0\n",
      "此时eig得到的条件数为 59.766285042077044 cond得到的条件数为 59.766285042077065 \n",
      "\n",
      "维数n为 30 时的机器运行时间为 0.0\n",
      "此时eig得到的条件数为 197.74774353889967 cond得到的条件数为 197.74774353889958 \n",
      "\n",
      "维数n为 40 时的机器运行时间为 0.0009732246398925781\n",
      "此时eig得到的条件数为 649.4367865983935 cond得到的条件数为 649.4367865983928 \n",
      "\n",
      "维数n为 50 时的机器运行时间为 0.0009968280792236328\n",
      "此时eig得到的条件数为 2903.7532581052405 cond得到的条件数为 2903.7532581052265 \n",
      "\n",
      "维数n为 60 时的机器运行时间为 0.0\n",
      "此时eig得到的条件数为 399.79927650916255 cond得到的条件数为 399.79927650916187 \n",
      "\n",
      "维数n为 70 时的机器运行时间为 0.000997304916381836\n",
      "此时eig得到的条件数为 1522.0651102783272 cond得到的条件数为 1522.065110278327 \n",
      "\n",
      "维数n为 80 时的机器运行时间为 0.0009968280792236328\n",
      "此时eig得到的条件数为 1177.1957664590911 cond得到的条件数为 1177.1957664590957 \n",
      "\n",
      "维数n为 90 时的机器运行时间为 0.0\n",
      "此时eig得到的条件数为 1197.0462767066028 cond得到的条件数为 1202.9226600229886 \n",
      "\n",
      "维数n为 100 时的机器运行时间为 0.000997304916381836\n",
      "此时eig得到的条件数为 1413.3159696695056 cond得到的条件数为 3536.7592035963917 \n",
      "\n",
      "可以发现eig得到的条件数在阶数较小时与cond得到的相似，但阶数较高以后eig得到的条件数开始出现比较大的误差\n",
      "（3）\n",
      "理论估计的上界为 5.782106286906745e-05 \n",
      " 实际结果为 7.70916224735965e-06\n",
      "（4）\n",
      "阶数n为 10 时条件数为 16025028168113.176 \n",
      "\n",
      "阶数n为 20 时条件数为 2.1065305580704384e+18 \n",
      "\n",
      "阶数n为 30 时条件数为 5.101893710592338e+18 \n",
      "\n",
      "阶数n为 40 时条件数为 6.155603641678775e+18 \n",
      "\n",
      "阶数n为 50 时条件数为 1.7175883540120668e+19 \n",
      "\n",
      "阶数n为 60 时条件数为 6.215988210018908e+18 \n",
      "\n",
      "阶数n为 70 时条件数为 6.52927055874861e+19 \n",
      "\n",
      "阶数n为 80 时条件数为 1.6731290236726612e+19 \n",
      "\n",
      "阶数n为 90 时条件数为 1.7660466598788973e+19 \n",
      "\n",
      "阶数n为 100 时条件数为 4.073996146476843e+19 \n",
      "\n"
     ]
    }
   ],
   "source": [
    "import numpy as np\n",
    "from scipy import linalg\n",
    "import time\n",
    "print('（1）')\n",
    "A0=np.random.randint(0,37,(6,6))\n",
    "b0=np.random.randint(0,7,(6,1))\n",
    "x=linalg.solve(A0,b0)\n",
    "dA=A0+np.random.rand(6,6)*10**-5\n",
    "db=b0+np.random.rand(6,1)*10**-5\n",
    "dx=linalg.solve(dA,db)\n",
    "result=np.linalg.norm(dx-x,1)/np.linalg.norm(x,1)\n",
    "print('A为\\n',A0,'\\n b为\\n',b0)\n",
    "print('扰动后A为\\n',dA,'\\n 扰动后b为\\n',db)\n",
    "print('x为\\n',x,'\\n 扰动后x为\\n',dx)\n",
    "print('计算结果为\\n',result)\n",
    "\n",
    "print('（2）')\n",
    "for n in range(10,101,10):\n",
    "    A=np.random.randint(0,1+n**2,(n,n))\n",
    "    start=time.time()\n",
    "    c=np.linalg.cond(A,1)\n",
    "    end=time.time()\n",
    "    print('维数n为',n,'时的机器运行时间为',end-start)\n",
    "    \n",
    "    AA=np.dot(A,A.T)\n",
    "    AI=np.dot(np.linalg.inv(A),np.linalg.inv(A).T)\n",
    "    fa=np.max(np.linalg.eig(AA)[0])\n",
    "    fai=np.max(np.linalg.eig(AI)[0])\n",
    "    a=np.sqrt(fa)*np.sqrt(fai)\n",
    "    b=np.linalg.cond(A,2)\n",
    "    print('此时eig得到的条件数为',a,'cond得到的条件数为',b,'\\n')\n",
    "print('可以发现eig得到的条件数在阶数较小时与cond得到的相似，但阶数较高以后eig得到的条件数开始出现比较大的误差')\n",
    "    \n",
    "print('（3）')\n",
    "e1=np.linalg.cond(A0)/(1-np.linalg.norm(np.linalg.inv(A0),1)*np.linalg.norm(dA-A0,1))\n",
    "e2=np.linalg.norm(dA-A0,1)/np.linalg.norm(A0,1)+np.linalg.norm(db-b0,1)/np.linalg.norm(b0,1)\n",
    "print('理论估计的上界为',e1*e2,'\\n 实际结果为',result)\n",
    "\n",
    "print('（4）')\n",
    "for n in range(10,101,10):\n",
    "    H=linalg.hilbert(n)\n",
    "    print('阶数n为',n,'时条件数为',np.linalg.cond(H),'\\n')"
   ]
  }
 ],
 "metadata": {
  "kernelspec": {
   "display_name": "Python 3",
   "language": "python",
   "name": "python3"
  },
  "language_info": {
   "codemirror_mode": {
    "name": "ipython",
    "version": 3
   },
   "file_extension": ".py",
   "mimetype": "text/x-python",
   "name": "python",
   "nbconvert_exporter": "python",
   "pygments_lexer": "ipython3",
   "version": "3.7.4"
  }
 },
 "nbformat": 4,
 "nbformat_minor": 4
}
