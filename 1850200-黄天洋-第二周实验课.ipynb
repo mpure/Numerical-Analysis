{
 "cells": [
  {
   "cell_type": "markdown",
   "metadata": {},
   "source": [
    "### 环境声明"
   ]
  },
  {
   "cell_type": "code",
   "execution_count": 1,
   "metadata": {},
   "outputs": [],
   "source": [
    "import numpy as np\n",
    "import matplotlib.pyplot as plt\n",
    "import sympy as sym\n",
    "from sympy.abc import x,y,n,t,k\n",
    "import scipy as sci\n",
    "from scipy import integrate\n",
    "import math"
   ]
  },
  {
   "cell_type": "markdown",
   "metadata": {},
   "source": [
    "# 实践课1"
   ]
  },
  {
   "cell_type": "markdown",
   "metadata": {},
   "source": [
    "## 内容：\n",
    "#### 1&emsp;Python运行环境\n",
    "###### &emsp;&emsp;1.1&ensp;命令窗口，编辑窗口，图形窗口\n",
    "#### 2&emsp;简单计算\n",
    "##### &emsp;&emsp;2.1&ensp;实数运算\n",
    "\n",
    "运算 | 加法 | 减法 | 乘法 | 除法 | 幂方    \n",
    ":-: | :-: | :-: | :-: | :-:| :-:\n",
    "符号 | + | - | * | / | ^ |\n",
    "\n",
    "&emsp;&emsp;&ensp;注意：符号/和\\的区别！（1/2=0.5000 ，1\\2=2）\n",
    "##### &emsp;&emsp;2.2&ensp;常用函数（sin,cos,exp,log）\n",
    "\n",
    "| 函数名称 | &emsp;正弦&emsp; | &emsp;余弦&emsp; | &emsp;正切&emsp; | 以$e$为底</br>指数函数 | 以$e$为底</br>对数函数 |\n",
    "|:-:|:-:|:-:|:-:|:-:|:-:|\n",
    "|数学符号|$\\sin(x)$|$\\cos(x)$|$\\tan(x)$|$e^x$|$\\ln(x)$|\n",
    "|Python</br>函数符号|np.sin(x)|np.cos(x)|np.tan(x)|np.exp(x)|np.log(x)|\n",
    "\n",
    "&emsp;&emsp;&ensp;注意：数学符号和Python函数符号的区别！\n",
    "\n",
    "#### 3&emsp;矩阵输入\n",
    "##### &emsp;&ensp;3.1&ensp;向量：np.matrix('1 2 3')&emsp;np.matrix('1;2;3')&emsp;np.mat(np.arange(1,4))&emsp;np.mat(np.arange(1,10,2))\n",
    "##### &emsp;&ensp;3.2&ensp;矩阵：np.matrix('1 2 3;4 5 6')\n",
    "&emsp;&emsp;&emsp;&nbsp;说明：</br>\n",
    "&emsp;&emsp;&emsp;&nbsp;（1）np.matrix(' ')用来表示矩阵，空格用来表示同一行不同列，分号用来表示换行。</br>\n",
    "&emsp;&emsp;&emsp;&nbsp;（2）np.mat(np.arange(1,4))用来表示大于等于1但小于等于3的所有间隔为1的数所组成的向量，即np.matrix('1 2 3')；np.mat(np.arange(1,10,2))表示大于等于1但小于等于10的所有间隔为2的数所组成的向量，即np.matrix('1 3 5 7 9')。\n",
    "\n",
    "#### 4&emsp;矩阵运算\n",
    "##### &emsp;&emsp;4.1&ensp;《线性代数》中提及的矩阵运算\n",
    "\n",
    "|运算|加法|减法|乘法|求逆|转置|\n",
    "|:-:|:-:|:-:|:-:|:-:|:-:|\n",
    "|Python函数符号|+|-| * |.I| .T |\n",
    "\n",
    "##### &emsp;&emsp;4.2&ensp;点运算（两个同型矩阵对应元素的运算）\n",
    "|运算|点乘|点除|\n",
    "|:-:|:-:|:-:|\n",
    "|Python函数符号|np.multiply|np.divide|\n",
    "\n",
    "##### &emsp;&emsp;4.3&ensp;其他矩阵运算\n",
    "运算|行列式|秩|特征值\n",
    ":-:|:-:|:-:|:-:|\n",
    "Python函数符号|np.linalg.det|np.linalg.matrix_rank|np.linalg.eig|\n",
    "\n",
    "#### 5&emsp;矩阵函数\n",
    "##### &emsp;&ensp;5.1 &ensp;正弦，余弦，指数，对数（与实数函数符号相同）\n",
    "##### &emsp;&ensp;5.2 &ensp;其他函数：numpy.ones,numpy.zeros,abs,max,min\n",
    "#### 6&emsp;变量\n",
    "#### 7&emsp;ipynb文件：命名规则，保存路径\n",
    "#### 8&emsp;多项式相关\n",
    "$\\blacksquare$&emsp;&ensp;多项式表示（数值计算）<br/>\n",
    "$\\blacktriangleright$&emsp;&ensp;np.poly1d函数"
   ]
  },
  {
   "cell_type": "code",
   "execution_count": 3,
   "metadata": {},
   "outputs": [
    {
     "data": {
      "text/plain": [
       "poly1d([ 2, -3])"
      ]
     },
     "execution_count": 3,
     "metadata": {},
     "output_type": "execute_result"
    }
   ],
   "source": [
    "np.poly1d([2,-3])"
   ]
  },
  {
   "cell_type": "markdown",
   "metadata": {},
   "source": [
    "$\\blacktriangleright$&emsp;&ensp;np.roots函数"
   ]
  },
  {
   "cell_type": "code",
   "execution_count": 4,
   "metadata": {},
   "outputs": [
    {
     "data": {
      "text/plain": [
       "array([ 1.53518376, -0.86851709])"
      ]
     },
     "execution_count": 4,
     "metadata": {},
     "output_type": "execute_result"
    }
   ],
   "source": [
    "p=np.array([3,-2,-4])\n",
    "np.roots(p)"
   ]
  },
  {
   "cell_type": "markdown",
   "metadata": {},
   "source": [
    "$\\blacktriangleright$&emsp;&ensp;np.polymul函数"
   ]
  },
  {
   "cell_type": "code",
   "execution_count": 15,
   "metadata": {},
   "outputs": [
    {
     "data": {
      "text/plain": [
       "array([2, 7, 2, 7])"
      ]
     },
     "execution_count": 15,
     "metadata": {},
     "output_type": "execute_result"
    }
   ],
   "source": [
    "u=np.array([1,0,1])\n",
    "v=np.array([2,7])\n",
    "np.polymul(u,v)"
   ]
  },
  {
   "cell_type": "markdown",
   "metadata": {},
   "source": [
    "$\\blacktriangleright$&emsp;&ensp;np.polydiv函数"
   ]
  },
  {
   "cell_type": "code",
   "execution_count": 6,
   "metadata": {},
   "outputs": [
    {
     "data": {
      "text/plain": [
       "(array([2., 7.]), array([2., 2.]))"
      ]
     },
     "execution_count": 6,
     "metadata": {},
     "output_type": "execute_result"
    }
   ],
   "source": [
    "u=np.array([2,7,4,9])\n",
    "v=np.array([1,0,1])\n",
    "np.polydiv(u,v)"
   ]
  },
  {
   "cell_type": "markdown",
   "metadata": {},
   "source": [
    "$\\blacktriangleright$&emsp;&ensp;np.poly1d函数求值"
   ]
  },
  {
   "cell_type": "code",
   "execution_count": 22,
   "metadata": {},
   "outputs": [
    {
     "data": {
      "text/plain": [
       "array([ 0.  , -0.19, -0.36, -0.51, -0.64, -0.75, -0.84, -0.91, -0.96,\n",
       "       -0.99, -1.  , -0.99, -0.96, -0.91, -0.84, -0.75, -0.64, -0.51,\n",
       "       -0.36, -0.19])"
      ]
     },
     "execution_count": 22,
     "metadata": {},
     "output_type": "execute_result"
    }
   ],
   "source": [
    "np.poly1d([1,0,-1])(np.arange(-1,1,0.1))"
   ]
  },
  {
   "cell_type": "markdown",
   "metadata": {},
   "source": [
    "$\\blacksquare$&emsp;&ensp;多项式表示（数值计算）<br/>\n",
    "$\\blacktriangleright$&emsp;&ensp;sym.symbols函数"
   ]
  },
  {
   "cell_type": "code",
   "execution_count": 25,
   "metadata": {},
   "outputs": [
    {
     "data": {
      "text/latex": [
       "$\\displaystyle x$"
      ],
      "text/plain": [
       "x"
      ]
     },
     "execution_count": 25,
     "metadata": {},
     "output_type": "execute_result"
    }
   ],
   "source": [
    "x=sym.symbols('x')\n",
    "x"
   ]
  },
  {
   "cell_type": "markdown",
   "metadata": {},
   "source": [
    "$\\blacktriangleright$&emsp;&ensp;sym.solveset函数"
   ]
  },
  {
   "cell_type": "code",
   "execution_count": 26,
   "metadata": {},
   "outputs": [
    {
     "data": {
      "text/latex": [
       "$\\displaystyle \\left\\{-1, 1\\right\\}$"
      ],
      "text/plain": [
       "{-1, 1}"
      ]
     },
     "execution_count": 26,
     "metadata": {},
     "output_type": "execute_result"
    }
   ],
   "source": [
    "sym.solveset(x**2-1)"
   ]
  },
  {
   "cell_type": "markdown",
   "metadata": {},
   "source": [
    "$\\blacksquare$&emsp;&ensp;符号计算转换<br/>\n",
    "$\\blacktriangleright$&emsp;&ensp;sym.sympify函数"
   ]
  },
  {
   "cell_type": "code",
   "execution_count": 33,
   "metadata": {},
   "outputs": [
    {
     "data": {
      "text/latex": [
       "$\\displaystyle x^{2} - 1$"
      ],
      "text/plain": [
       "x**2 - 1"
      ]
     },
     "execution_count": 33,
     "metadata": {},
     "output_type": "execute_result"
    }
   ],
   "source": [
    "sym.sympify('x**2-1')"
   ]
  },
  {
   "cell_type": "markdown",
   "metadata": {},
   "source": [
    "#### 9&emsp;画图\n",
    "##### &emsp;&ensp;9.1 matplotlib.pyplot.plot函数\n",
    "$\\blacktriangleright$&emsp;&ensp;绘制函数$\\dfrac{1}{1+x^2}$在区间$[-5,5]$上的图形"
   ]
  },
  {
   "cell_type": "code",
   "execution_count": null,
   "metadata": {},
   "outputs": [],
   "source": [
    "x = np.linspace(-5, 5, 50)\n",
    "y = 1/1+x**2\n",
    "plt.figure()\n",
    "plt.plot(x, y)\n",
    "plt.show()"
   ]
  },
  {
   "cell_type": "markdown",
   "metadata": {},
   "source": [
    "$\\blacktriangleright$&emsp;&ensp;绘制多项式$2.1x^4-1.2x+2$在区间$[-1,2]$上的图形"
   ]
  },
  {
   "cell_type": "code",
   "execution_count": 2,
   "metadata": {},
   "outputs": [
    {
     "data": {
      "image/png": "[encoded data removed]",
      "text/plain": [
       "<Figure size 432x288 with 1 Axes>"
      ]
     },
     "metadata": {
      "needs_background": "light"
     },
     "output_type": "display_data"
    }
   ],
   "source": [
    "x = np.linspace(-1, 2, 50)\n",
    "y = 2.1*x**4-1.2*x+2 \n",
    "plt.figure()\n",
    "plt.plot(x, y)\n",
    "plt.show()"
   ]
  },
  {
   "cell_type": "markdown",
   "metadata": {},
   "source": [
    "## 练习\n",
    "1.&emsp;计算如下表达式的值：<br/>\n",
    "&emsp;&emsp;（1）$1+\\dfrac{1}{2}+\\dfrac{1}{3}+\\dfrac{1}{4}$"
   ]
  },
  {
   "cell_type": "code",
   "execution_count": 27,
   "metadata": {},
   "outputs": [
    {
     "data": {
      "text/plain": [
       "2.083333333333333"
      ]
     },
     "execution_count": 27,
     "metadata": {},
     "output_type": "execute_result"
    }
   ],
   "source": [
    "1+1/2+1/3+1/4"
   ]
  },
  {
   "cell_type": "markdown",
   "metadata": {},
   "source": [
    "&emsp;&emsp;（2）$\\sin(\\dfrac{\\pi}{15})*\\cos(1.234)$"
   ]
  },
  {
   "cell_type": "code",
   "execution_count": 28,
   "metadata": {},
   "outputs": [
    {
     "data": {
      "text/plain": [
       "0.06870755937546691"
      ]
     },
     "execution_count": 28,
     "metadata": {},
     "output_type": "execute_result"
    }
   ],
   "source": [
    "np.sin(np.pi/15)*np.cos(1.234)"
   ]
  },
  {
   "cell_type": "markdown",
   "metadata": {},
   "source": [
    "&emsp;&emsp;（2）$e^2+\\ln(\\dfrac{5}{6})-1.01^{-10}$"
   ]
  },
  {
   "cell_type": "code",
   "execution_count": 29,
   "metadata": {},
   "outputs": [
    {
     "data": {
      "text/plain": [
       "6.666090701031621"
      ]
     },
     "execution_count": 29,
     "metadata": {},
     "output_type": "execute_result"
    }
   ],
   "source": [
    "np.e**2+np.log(6/5)-1.01**(-10)"
   ]
  },
  {
   "cell_type": "markdown",
   "metadata": {},
   "source": [
    "2.&emsp;已知$A=\\left[\\begin{array}{ccc}1&1&1\\\\1&1&-1\\\\1&-1&1\\end{array}\\right]\n",
    "B=\\left[\\begin{array}{ccc}1&2&3\\\\-1&-2&4\\\\0&5&1\\end{array}\\right]$，求$3AB-2A$和$A^TB$"
   ]
  },
  {
   "cell_type": "code",
   "execution_count": 10,
   "metadata": {},
   "outputs": [
    {
     "name": "stdout",
     "output_type": "stream",
     "text": [
      "3AB-2A= [[ -2  13  22]\n",
      " [ -2 -17  20]\n",
      " [  4  29  -2]] \n",
      " A^TB= [[ 0  5  8]\n",
      " [ 0 -5  6]\n",
      " [ 2  9  0]]\n"
     ]
    }
   ],
   "source": [
    "A=np.mat('1 1 1;1 1 -1;1 -1 1')\n",
    "B=np.mat('1 2 3;-1 -2 4;0 5 1')\n",
    "print('3AB-2A=',3*A*B-2*A,'\\n A^TB=',A.T*B)"
   ]
  },
  {
   "cell_type": "markdown",
   "metadata": {},
   "source": [
    "3.&emsp;已知$A=\\left[\\begin{array}{ccc}1&1&0\\\\0&1&1\\\\0&0&1\\end{array}\\right]$，求$A^{22}$"
   ]
  },
  {
   "cell_type": "code",
   "execution_count": 11,
   "metadata": {},
   "outputs": [
    {
     "name": "stdout",
     "output_type": "stream",
     "text": [
      "[[  1  22 231]\n",
      " [  0   1  22]\n",
      " [  0   0   1]]\n"
     ]
    }
   ],
   "source": [
    "A=np.mat('1 1 0;0 1 1;0 0 1')\n",
    "print(A**22)"
   ]
  },
  {
   "cell_type": "markdown",
   "metadata": {},
   "source": [
    "4.&emsp;已知$A=\\left[\\begin{array}{cc}1&2\\\\2&5\\end{array}\\right]$，计算<br/>\n",
    "（1）$\\sin(A).*\\cos(A)$&emsp;（2）$\\sin(A)*cos(A)$&emsp;（3）行列式$|A|$<br/>\n",
    "（4）$A$的秩&emsp;&emsp;&emsp;&emsp;&emsp;&ensp;（5）$A$的全部特征值"
   ]
  },
  {
   "cell_type": "code",
   "execution_count": 15,
   "metadata": {},
   "outputs": [
    {
     "name": "stdout",
     "output_type": "stream",
     "text": [
      "（1） [[ 0.45464871 -0.37840125]\n",
      " [-0.37840125 -0.27201056]] \n",
      "\n",
      "（2） [[ 0.07624747 -0.09224219]\n",
      " [ 0.8903488  -0.6504118 ]] \n",
      "\n",
      "（3） 1.0 \n",
      "\n",
      "（4） 2 \n",
      "\n",
      "（5） [0.17157288 5.82842712]\n"
     ]
    }
   ],
   "source": [
    "A=np.mat('1 2;2 5')\n",
    "print('（1）',np.multiply(np.sin(A),np.cos(A)),'\\n')\n",
    "print('（2）',np.sin(A)*np.cos(A),'\\n')\n",
    "print('（3）',np.linalg.det(A),'\\n')\n",
    "print('（4）',np.linalg.matrix_rank(A),'\\n')\n",
    "print('（5）',np.linalg.eig(A)[0])"
   ]
  },
  {
   "cell_type": "markdown",
   "metadata": {},
   "source": [
    "5.&emsp;已知$A=\\left[1\\ 2\\ 3\\ -2\\ 4\\ 1\\right]$，计算$abs(A),\\max(A),\\min(A)$"
   ]
  },
  {
   "cell_type": "code",
   "execution_count": 19,
   "metadata": {},
   "outputs": [
    {
     "name": "stdout",
     "output_type": "stream",
     "text": [
      "abs(A)= [[1 2 3 2 4 1]] \n",
      "\n",
      "max(A)= 4 \n",
      "\n",
      "min(A)= -2\n"
     ]
    }
   ],
   "source": [
    "A=np.mat('1 2 3 -2 4 1')\n",
    "print('abs(A)=',np.abs(A),'\\n')\n",
    "print('max(A)=',np.max(A),'\\n')\n",
    "print('min(A)=',np.min(A))"
   ]
  },
  {
   "cell_type": "markdown",
   "metadata": {},
   "source": [
    "6.&emsp;用以下两种数学上等价的表达式进行计算，对比结果，解释误差产生的原因。<br/>\n",
    "&emsp;&emsp;&emsp;&emsp;&emsp;&emsp;$\\ln(10^{15}+1)-\\ln(10^{15})$,&emsp;$\\ln(\\dfrac{10^{15}+1}{10^{15}})=\\ln(1+10^{-15})$"
   ]
  },
  {
   "cell_type": "code",
   "execution_count": 29,
   "metadata": {},
   "outputs": [
    {
     "name": "stdout",
     "output_type": "stream",
     "text": [
      "结果1为 0.0 \n",
      "\n",
      "结果2为 1.110223024625156e-15\n"
     ]
    }
   ],
   "source": [
    "print('结果1为',np.log(10**15+1)-np.log(10**15),'\\n')\n",
    "print('结果2为',np.log(1+10**-15))"
   ]
  },
  {
   "cell_type": "markdown",
   "metadata": {},
   "source": [
    "7.&emsp;分别使用roots函数和solve函数，计算$x^2-56x+1=0$的两个根。"
   ]
  },
  {
   "cell_type": "code",
   "execution_count": 30,
   "metadata": {},
   "outputs": [
    {
     "name": "stdout",
     "output_type": "stream",
     "text": [
      "roots函数： [5.59821372e+01 1.78628407e-02]\n",
      "solve函数： {28 - 3*sqrt(87), 3*sqrt(87) + 28}\n"
     ]
    }
   ],
   "source": [
    "a=np.array([1,-56,1])\n",
    "p=np.poly1d(a)\n",
    "print('roots函数：',np.roots(p))\n",
    "x=sym.symbols('x')\n",
    "print('solve函数：',sym.solveset(x**2-56*x+1, x))"
   ]
  },
  {
   "cell_type": "markdown",
   "metadata": {},
   "source": [
    "8.&emsp;计算多项式乘法<br/>\n",
    "（1）$(x^2+1)(-3x+1)$&emsp;&emsp;&emsp;（2）$(x+1)(x^3+x+9)$"
   ]
  },
  {
   "cell_type": "code",
   "execution_count": 39,
   "metadata": {},
   "outputs": [
    {
     "name": "stdout",
     "output_type": "stream",
     "text": [
      "    3     2\n",
      "-3 x + 1 x - 3 x + 1\n",
      "   4     3     2\n",
      "1 x + 1 x + 1 x + 10 x + 9\n"
     ]
    }
   ],
   "source": [
    "a1=np.array([1,0,1])\n",
    "a2=np.array([-3,1])\n",
    "p1=np.poly1d(a1)\n",
    "p2=np.poly1d(a2)\n",
    "print(np.polymul(p1,p2))\n",
    "b1=np.array([1,1])\n",
    "b2=np.array([1,0,1,9])\n",
    "q1=np.poly1d(b1)\n",
    "q2=np.poly1d(b2)\n",
    "print(np.polymul(q1,q2))"
   ]
  },
  {
   "cell_type": "markdown",
   "metadata": {},
   "source": [
    "9.&emsp;计算多项式$x^4+8x^3-10$除以多项式$2x^2-x+3$"
   ]
  },
  {
   "cell_type": "code",
   "execution_count": 45,
   "metadata": {},
   "outputs": [
    {
     "name": "stdout",
     "output_type": "stream",
     "text": [
      "商和余数为 (poly1d([0.5  , 4.25 , 1.375]), poly1d([-11.375, -14.125]))\n"
     ]
    }
   ],
   "source": [
    "a=np.array([1,8,0,0,-10])\n",
    "b=np.array([2,-1,3])\n",
    "p=np.poly1d(a)\n",
    "q=np.poly1d(b)\n",
    "print('商和余数为',np.polydiv(p,q))"
   ]
  },
  {
   "cell_type": "markdown",
   "metadata": {},
   "source": [
    "10.&emsp;计算多项式$x^{20}-1$在点$x=0,1,\\dots,10$处的函数值。"
   ]
  },
  {
   "cell_type": "code",
   "execution_count": 22,
   "metadata": {},
   "outputs": [
    {
     "data": {
      "text/plain": [
       "array([-1.00000000e+00,  0.00000000e+00,  1.04857500e+06,  3.48678440e+09,\n",
       "        1.09951163e+12,  9.53674316e+13,  3.65615844e+15,  7.97922663e+16,\n",
       "        1.15292150e+18,  1.21576655e+19,  1.00000000e+20])"
      ]
     },
     "execution_count": 22,
     "metadata": {},
     "output_type": "execute_result"
    }
   ],
   "source": [
    "x=np.linspace(0,10,11)\n",
    "x**20-1"
   ]
  },
  {
   "cell_type": "markdown",
   "metadata": {},
   "source": [
    "11.&emsp;绘制以下函数在区间$\\left[1,2\\right]$上的图形<br/>\n",
    "（1）$e^x-\\cos(20\\pi x)$&emsp;&emsp;&emsp;（2）$\\tan(\\ln(10x))$"
   ]
  },
  {
   "cell_type": "code",
   "execution_count": 20,
   "metadata": {},
   "outputs": [
    {
     "data": {
      "image/png": "[encoded data removed]",
      "text/plain": [
       "<Figure size 720x360 with 2 Axes>"
      ]
     },
     "metadata": {
      "needs_background": "light"
     },
     "output_type": "display_data"
    }
   ],
   "source": [
    "x = np.linspace(1, 2, 100)\n",
    "y1 = np.e**x-np.cos(20*np.pi*x)\n",
    "y2 = np.tan(np.log(10*x))\n",
    "\n",
    "plt.figure(figsize=(10,5))\n",
    "plt.subplot(121)\n",
    "plt.plot(x, y1)\n",
    "plt.title('(1)')\n",
    "\n",
    "plt.subplot(122)\n",
    "plt.plot(x, y2)\n",
    "plt.title('(2)')\n",
    "plt.show()"
   ]
  },
  {
   "cell_type": "markdown",
   "metadata": {},
   "source": [
    "## 作业：\n",
    "#### 1.&emsp;二进制产生的误差\n",
    "实验目的：理解计算机内部的二进制运算法则及其产生的误差<br/>\n",
    "实验内容：用Python计算<br/>\n",
    "$$\\sum_{i=1}^{1000}0.1-100$$\n",
    "观察发生的现象并试着解释原因。<br/>\n",
    "提示：结果居然有误差！因为从十进制数角度分析，这一计算应该是准确的。该实验反映了计算机内部的二进制本质。）"
   ]
  },
  {
   "cell_type": "code",
   "execution_count": 55,
   "metadata": {},
   "outputs": [
    {
     "name": "stdout",
     "output_type": "stream",
     "text": [
      "结果为： 1.4210854715202004e-14\n",
      "原因：计算机使用二进制01代码无法准确表示某些带小数位的十进制数据，因此对二进制形式下的无限循环小数会产生误差。\n"
     ]
    }
   ],
   "source": [
    "a=np.linspace(0.1,0.1,1000)\n",
    "print('结果为：',np.sum(a)-100)\n",
    "print('原因：计算机使用二进制01代码无法准确表示某些带小数位的十进制数据，因此对二进制形式下的无限循环小数会产生误差。')"
   ]
  },
  {
   "cell_type": "markdown",
   "metadata": {},
   "source": [
    "#### 2.&emsp;数值稳定性\n",
    "实验目的：对数值稳定性有一定的直观感受。<br/>\n",
    "实验内容：考虑一个高次的代数多项式\n",
    "$$p(x)=(x-1)(x-2)\\cdots(x-20)=\\prod_{k=1}^{20}(x-k)$$\n",
    "显然，该多项式的全部根为$1,2,\\cdots,20$共计$20$个，且每个根都是单重的。<br/>\n",
    "&emsp;现考虑该多项式的一个扰动\n",
    "$$p^\\epsilon(x)=p(x)+\\epsilon x^{19}$$\n",
    "其中$\\epsilon$是一个非常小的数。这相当于是对原多项式中$x^{19}$的系数做一个小扰动。\n",
    "&emsp;试通过以下实验分析比较多项式$p(x)$和$p^\\epsilon (x)$的零点，对小量$\\epsilon$的敏感性。<br/>\n",
    "1）分别取$\\epsilon =10^{-8},10^{-9},10^{-10}$，利用roots函数计算多项式$p(x)$和$p^\\epsilon (x)$的零点；<br/>\n",
    "2）将这些零点会在同一张图上（注意：图中x-轴为实轴，y-轴为虚轴）。"
   ]
  },
  {
   "cell_type": "code",
   "execution_count": 19,
   "metadata": {},
   "outputs": [
    {
     "name": "stdout",
     "output_type": "stream",
     "text": [
      "p(x)的零点为 [87.00096132 +0.j         58.45406493+52.5151j\n",
      " 58.45406493-52.5151j      2.58007091+54.91471744j\n",
      "  2.58007091-54.91471744j  1.18198892 +0.28129905j\n",
      "  1.18198892 -0.28129905j  0.90739576 +0.47880013j\n",
      "  0.90739576 -0.47880013j  0.54219875 +0.8268119j\n",
      "  0.54219875 -0.8268119j   0.11158039 +1.07480767j\n",
      "  0.11158039 -1.07480767j -0.76831677 +0.9416671j\n",
      " -0.76831677 -0.9416671j  -0.28453051 +0.86520925j\n",
      " -0.28453051 -0.86520925j -0.86433849 +0.2809938j\n",
      " -0.86433849 -0.2809938j  -0.72118908 +0.j        ]\n",
      "\\eplison为10^-8时，零点为 [87.00096131 +0.j         58.45406493+52.51510001j\n",
      " 58.45406493-52.51510001j  2.58007091+54.91471744j\n",
      "  2.58007091-54.91471744j  1.18198892 +0.28129905j\n",
      "  1.18198892 -0.28129905j  0.90739576 +0.47880013j\n",
      "  0.90739576 -0.47880013j  0.54219875 +0.8268119j\n",
      "  0.54219875 -0.8268119j   0.11158039 +1.07480767j\n",
      "  0.11158039 -1.07480767j -0.76831677 +0.9416671j\n",
      " -0.76831677 -0.9416671j  -0.28453051 +0.86520925j\n",
      " -0.28453051 -0.86520925j -0.86433849 +0.2809938j\n",
      " -0.86433849 -0.2809938j  -0.72118908 +0.j        ]\n",
      "\\eplison为10^-9时，零点为 [87.00096132 +0.j         58.45406493+52.5151j\n",
      " 58.45406493-52.5151j      2.58007091+54.91471744j\n",
      "  2.58007091-54.91471744j  1.18198892 +0.28129905j\n",
      "  1.18198892 -0.28129905j  0.90739576 +0.47880013j\n",
      "  0.90739576 -0.47880013j  0.54219875 +0.8268119j\n",
      "  0.54219875 -0.8268119j   0.11158039 +1.07480767j\n",
      "  0.11158039 -1.07480767j -0.76831677 +0.9416671j\n",
      " -0.76831677 -0.9416671j  -0.28453051 +0.86520925j\n",
      " -0.28453051 -0.86520925j -0.86433849 +0.2809938j\n",
      " -0.86433849 -0.2809938j  -0.72118908 +0.j        ]\n",
      "\\eplison为10^-10时，零点为 [87.00096132 +0.j         58.45406493+52.5151j\n",
      " 58.45406493-52.5151j      2.58007091+54.91471744j\n",
      "  2.58007091-54.91471744j  1.18198892 +0.28129905j\n",
      "  1.18198892 -0.28129905j  0.90739576 +0.47880013j\n",
      "  0.90739576 -0.47880013j  0.54219875 +0.8268119j\n",
      "  0.54219875 -0.8268119j   0.11158039 +1.07480767j\n",
      "  0.11158039 -1.07480767j -0.76831677 +0.9416671j\n",
      " -0.76831677 -0.9416671j  -0.28453051 +0.86520925j\n",
      " -0.28453051 -0.86520925j -0.86433849 +0.2809938j\n",
      " -0.86433849 -0.2809938j  -0.72118908 +0.j        ]\n"
     ]
    },
    {
     "data": {
      "text/plain": [
       "<matplotlib.collections.PathCollection at 0x2a8d5241888>"
      ]
     },
     "execution_count": 19,
     "metadata": {},
     "output_type": "execute_result"
    },
    {
     "data": {
      "image/png": "[encoded data removed]",
      "text/plain": [
       "<Figure size 432x288 with 1 Axes>"
      ]
     },
     "metadata": {
      "needs_background": "light"
     },
     "output_type": "display_data"
    }
   ],
   "source": [
    "x=np.arange(1,21)\n",
    "a0=np.array([1])\n",
    "p0=np.poly1d(a0)\n",
    "for i in range(1,21):\n",
    "    a=np.array([1,-i])\n",
    "    p=np.poly1d(a)\n",
    "    p0=np.polymul(p0,p)\n",
    "s0=np.roots(p0)\n",
    "print('p(x)的零点为',s0)\n",
    "\n",
    "e=np.zeros(20)\n",
    "e[0]=10**-8\n",
    "e1=np.poly1d(e)\n",
    "p1=np.polyadd(p0,e1)\n",
    "s1=np.roots(p1)\n",
    "print('\\eplison为10^-8时，零点为',s1)\n",
    "\n",
    "e=np.zeros(20)\n",
    "e[0]=10**-9\n",
    "e2=np.poly1d(e)\n",
    "p2=np.polyadd(p0,e2)\n",
    "s2=np.roots(p2)\n",
    "print('\\eplison为10^-9时，零点为',s2)\n",
    "\n",
    "e=np.zeros(20)\n",
    "e[0]=10**-10\n",
    "e3=np.poly1d(e)\n",
    "p3=np.polyadd(p0,e3)\n",
    "s3=np.roots(p3)\n",
    "print('\\eplison为10^-10时，零点为',s3)\n",
    "\n",
    "axes = plt.subplot(111)\n",
    "axes.scatter(x,s0,s=10,c='b',alpha=0.6)\n",
    "axes.scatter(x,s1,s=10,c='r',alpha=0.6)\n",
    "axes.scatter(x,s2,s=10,c='g',alpha=0.6)\n",
    "axes.scatter(x,s3,s=10,c='b',alpha=0.6)"
   ]
  },
  {
   "cell_type": "markdown",
   "metadata": {},
   "source": [
    "#### 3.&emsp;数值计算与符号计算\n",
    "实验目的：感受数值计算与符号计算在计算速度上的差别。<br/>\n",
    "实验内容：利用solve函数，采用符号计算的方式完成上一题中的实验内容。"
   ]
  },
  {
   "cell_type": "code",
   "execution_count": 44,
   "metadata": {},
   "outputs": [
    {
     "name": "stdout",
     "output_type": "stream",
     "text": [
      "p(x)的零点为 {1, 2, 3, ..., 18, 19, 20}\n",
      "\\eplison为10^-8时零点为 {1.0, 2.00000000000096, 2.99999999986642, ..., 17.8770529161832 + 1.52625022716861*I, 19.8694761318357 - 0.483252023789474*I, 19.8694761318357 + 0.483252023789474*I}\n",
      "\\eplison为10^-9时零点为 {1.0, 2.00000000000096, 2.9999999998664, ..., 15.4577649223084 + 0.899304348483612*I, 17.6624282653642 - 0.704275356422634*I, 17.6624282653642 + 0.704275356422634*I}\n",
      "\\eplison为10^-10时零点为 {1.0, 2.00000000000096, 2.9999999998664, ..., 17.8881966948309, 19.0295903783317, 19.9956416495273}\n"
     ]
    }
   ],
   "source": [
    "x,p=sym.symbols('x,p')\n",
    "sym.init_printing(use_unicode=True)\n",
    "p0=1\n",
    "for i in range(1,21):\n",
    "    p0=p0*(x-i)\n",
    "print('p(x)的零点为',sym.solveset(p0,x))\n",
    "\n",
    "p1=p0+x**19*10**-8\n",
    "print('\\eplison为10^-8时零点为',sym.solveset(p1,x))\n",
    "\n",
    "p2=p0+x**19*10**-9\n",
    "print('\\eplison为10^-9时零点为',sym.solveset(p2,x))\n",
    "\n",
    "p3=p0+x**19*10**-10\n",
    "print('\\eplison为10^-10时零点为',sym.solveset(p3,x))"
   ]
  },
  {
   "cell_type": "markdown",
   "metadata": {},
   "source": [
    "# 实践课2"
   ]
  },
  {
   "cell_type": "markdown",
   "metadata": {},
   "source": [
    "#### 1&emsp;Python基本命令（数值计算）\n",
    "$\\blacktriangleright$&emsp;&ensp;np.ceil,np.floor,np.round,np.fix &emsp;%取整"
   ]
  },
  {
   "cell_type": "code",
   "execution_count": 2,
   "metadata": {},
   "outputs": [
    {
     "name": "stdout",
     "output_type": "stream",
     "text": [
      "[1. 1. 1. 1.]\n",
      "[0. 0. 0. 0.]\n",
      "[0. 0. 1. 1.]\n",
      "[0. 0. 0. 0.]\n",
      "[-0. -0. -0. -0.]\n",
      "[-1. -1. -1. -1.]\n",
      "[-0. -0. -1. -1.]\n",
      "[-0. -0. -0. -0.]\n"
     ]
    }
   ],
   "source": [
    "vec1=np.array([0.1,0.49,0.51,0.9])\n",
    "print(np.ceil(vec1))\n",
    "print(np.floor(vec1))\n",
    "print(np.round(vec1))\n",
    "print(np.fix(vec1))\n",
    "vec2=-vec1\n",
    "print(np.ceil(vec2))\n",
    "print(np.floor(vec2))\n",
    "print(np.round(vec2))\n",
    "print(np.fix(vec2))"
   ]
  },
  {
   "cell_type": "markdown",
   "metadata": {},
   "source": [
    "$\\blacktriangleright$&emsp;&ensp;quad(integral) &emsp;%数值积分"
   ]
  },
  {
   "cell_type": "code",
   "execution_count": 7,
   "metadata": {},
   "outputs": [
    {
     "data": {
      "image/png": "[encoded data removed]",
      "text/latex": [
       "$\\displaystyle - \\frac{\\log{\\left(2 \\right)}}{2} + \\frac{\\pi}{4}$"
      ],
      "text/plain": [
       "  log(2)   π\n",
       "- ────── + ─\n",
       "    2      4"
      ]
     },
     "execution_count": 7,
     "metadata": {},
     "output_type": "execute_result"
    }
   ],
   "source": [
    "sym.init_printing(use_unicode=True)\n",
    "sym.integrate(sym.atan(x),(x,0,1))"
   ]
  },
  {
   "cell_type": "markdown",
   "metadata": {},
   "source": [
    "$\\blacktriangleright$&emsp;&ensp;rem,mod &emsp;%取余"
   ]
  },
  {
   "cell_type": "code",
   "execution_count": 10,
   "metadata": {},
   "outputs": [
    {
     "name": "stdout",
     "output_type": "stream",
     "text": [
      "3 2\n"
     ]
    }
   ],
   "source": [
    "print(23%5,-23%5)"
   ]
  },
  {
   "cell_type": "markdown",
   "metadata": {},
   "source": [
    "#### 2&emsp;Python基本命令（符号计算）\n",
    "$\\blacktriangleright$&emsp;&ensp;sym.series &emsp;&emsp;&emsp;&emsp;%泰勒展开"
   ]
  },
  {
   "cell_type": "code",
   "execution_count": 139,
   "metadata": {},
   "outputs": [
    {
     "data": {
      "image/png": "[encoded data removed]",
      "text/latex": [
       "$\\displaystyle x - \\frac{x^{3}}{3} + \\frac{x^{5}}{5} - \\frac{x^{7}}{7} + \\frac{x^{9}}{9} + O\\left(x^{10}\\right)$"
      ],
      "text/plain": [
       "     3    5    7    9         \n",
       "    x    x    x    x     ⎛ 10⎞\n",
       "x - ── + ── - ── + ── + O⎝x  ⎠\n",
       "    3    5    7    9          "
      ]
     },
     "execution_count": 139,
     "metadata": {},
     "output_type": "execute_result"
    }
   ],
   "source": [
    "sym.atan(x).series(x,0,10)"
   ]
  },
  {
   "cell_type": "markdown",
   "metadata": {},
   "source": [
    "$\\blacktriangleright$&emsp;&ensp;sym.limit &emsp;&emsp;&emsp;&emsp;%极限"
   ]
  },
  {
   "cell_type": "code",
   "execution_count": 36,
   "metadata": {},
   "outputs": [
    {
     "data": {
      "image/png": "[encoded data removed]",
      "text/latex": [
       "$\\displaystyle -\\infty$"
      ],
      "text/plain": [
       "-∞"
      ]
     },
     "execution_count": 36,
     "metadata": {},
     "output_type": "execute_result"
    }
   ],
   "source": [
    "sym.limit(sym.log(x),x,0,'+')"
   ]
  },
  {
   "cell_type": "markdown",
   "metadata": {},
   "source": [
    "$\\blacktriangleright$&emsp;&ensp;sym.sum &emsp;&emsp;&emsp;&emsp;%级数求和"
   ]
  },
  {
   "cell_type": "code",
   "execution_count": 43,
   "metadata": {},
   "outputs": [
    {
     "data": {
      "image/png": "[encoded data removed]",
      "text/latex": [
       "$\\displaystyle \\frac{\\pi^{2}}{6}$"
      ],
      "text/plain": [
       " 2\n",
       "π \n",
       "──\n",
       "6 "
      ]
     },
     "execution_count": 43,
     "metadata": {},
     "output_type": "execute_result"
    }
   ],
   "source": [
    "sym.Sum(1/n**2, (n,1,sym.oo)).doit()"
   ]
  },
  {
   "cell_type": "markdown",
   "metadata": {},
   "source": [
    "$\\blacktriangleright$&emsp;&ensp;sym.integrate &emsp;&emsp;&emsp;&emsp;%积分"
   ]
  },
  {
   "cell_type": "code",
   "execution_count": 46,
   "metadata": {},
   "outputs": [
    {
     "data": {
      "image/png": "[encoded data removed]",
      "text/latex": [
       "$\\displaystyle \\frac{t^{2} x^{2}}{2}$"
      ],
      "text/plain": [
       " 2  2\n",
       "t ⋅x \n",
       "─────\n",
       "  2  "
      ]
     },
     "execution_count": 46,
     "metadata": {},
     "output_type": "execute_result"
    }
   ],
   "source": [
    "sym.integrate(t*x**2,t)"
   ]
  },
  {
   "cell_type": "code",
   "execution_count": 48,
   "metadata": {},
   "outputs": [
    {
     "data": {
      "image/png": "[encoded data removed]",
      "text/latex": [
       "$\\displaystyle \\frac{t x^{3}}{3}$"
      ],
      "text/plain": [
       "   3\n",
       "t⋅x \n",
       "────\n",
       " 3  "
      ]
     },
     "execution_count": 48,
     "metadata": {},
     "output_type": "execute_result"
    }
   ],
   "source": [
    "sym.integrate(t*x**2,x)"
   ]
  },
  {
   "cell_type": "code",
   "execution_count": 65,
   "metadata": {},
   "outputs": [
    {
     "data": {
      "image/png": "[encoded data removed]",
      "text/latex": [
       "$\\displaystyle - \\frac{1}{2} + \\frac{\\pi}{4}$"
      ],
      "text/plain": [
       "  1   π\n",
       "- ─ + ─\n",
       "  2   4"
      ]
     },
     "execution_count": 65,
     "metadata": {},
     "output_type": "execute_result"
    }
   ],
   "source": [
    "sym.integrate(x*sym.atan(x),(x,0,1))"
   ]
  },
  {
   "cell_type": "markdown",
   "metadata": {},
   "source": [
    "$\\blacktriangleright$&emsp;&ensp;sym.diff &emsp;&emsp;&emsp;&emsp;%求导"
   ]
  },
  {
   "cell_type": "code",
   "execution_count": 54,
   "metadata": {},
   "outputs": [
    {
     "data": {
      "image/png": "[encoded data removed]",
      "text/latex": [
       "$\\displaystyle 20 x^{9} - 9$"
      ],
      "text/plain": [
       "    9    \n",
       "20⋅x  - 9"
      ]
     },
     "execution_count": 54,
     "metadata": {},
     "output_type": "execute_result"
    }
   ],
   "source": [
    "sym.diff(2*x**10-9*x+1,x,1)"
   ]
  },
  {
   "cell_type": "markdown",
   "metadata": {},
   "source": [
    "$\\blacktriangleright$&emsp;&ensp;sym.factor &emsp;&emsp;&emsp;&emsp;%因式分解"
   ]
  },
  {
   "cell_type": "code",
   "execution_count": 55,
   "metadata": {},
   "outputs": [
    {
     "data": {
      "image/png": "[encoded data removed]",
      "text/latex": [
       "$\\displaystyle \\left(x - 3\\right) \\left(x - 2\\right) \\left(x - 1\\right) \\left(x + 1\\right)$"
      ],
      "text/plain": [
       "(x - 3)⋅(x - 2)⋅(x - 1)⋅(x + 1)"
      ]
     },
     "execution_count": 55,
     "metadata": {},
     "output_type": "execute_result"
    }
   ],
   "source": [
    "sym.factor(x**4-5*x**3+5*x**2+5*x-6)"
   ]
  },
  {
   "cell_type": "code",
   "execution_count": 60,
   "metadata": {},
   "outputs": [
    {
     "data": {
      "image/png": "[encoded data removed]",
      "text/latex": [
       "$\\displaystyle \\left\\{ 2 : 1, \\  1009 : 1\\right\\}$"
      ],
      "text/plain": [
       "{2: 1, 1009: 1}"
      ]
     },
     "execution_count": 60,
     "metadata": {},
     "output_type": "execute_result"
    }
   ],
   "source": [
    "sym.factorint(2018)"
   ]
  },
  {
   "cell_type": "code",
   "execution_count": 59,
   "metadata": {},
   "outputs": [
    {
     "data": {
      "text/plain": [
       "True"
      ]
     },
     "execution_count": 59,
     "metadata": {},
     "output_type": "execute_result"
    }
   ],
   "source": [
    "sym.isprime(1009)"
   ]
  },
  {
   "cell_type": "markdown",
   "metadata": {},
   "source": [
    "#### 3&emsp;流程控制语句\n",
    "$\\blacktriangleright$&emsp;&ensp;for<br/>\n",
    "for index in range():<br/>\n",
    "&emsp;&emsp;statements<br/>\n",
    "$\\blacktriangleright$&emsp;&ensp;while<br/>\n",
    "while expression:<br/>\n",
    "&emsp;&emsp;statements<br/>\n",
    "$\\blacktriangleright$&emsp;&ensp;if<br/>\n",
    "if expresstion:<br/>\n",
    "&emsp;&emsp;statements<br/>\n",
    "elif expression:<br/>\n",
    "&emsp;&emsp;statements<br/>\n",
    "else:<br/>\n",
    "&emsp;&emsp;statements"
   ]
  },
  {
   "cell_type": "markdown",
   "metadata": {},
   "source": [
    "## 练习\n",
    "1.&emsp;分别计算如下浮点数的cell,round,floor,fix的函数值，注意这些函数的区别。$$-1,-0.8,-0.6,-0.4,-0.2,0,0.2,0.4,0.6,0.8,1$$"
   ]
  },
  {
   "cell_type": "code",
   "execution_count": 61,
   "metadata": {},
   "outputs": [
    {
     "name": "stdout",
     "output_type": "stream",
     "text": [
      "[-1. -0. -0. -0. -0.  0.  1.  1.  1.  1.  1.]\n",
      "[-1. -1. -1. -0. -0.  0.  0.  0.  1.  1.  1.]\n",
      "[-1. -1. -1. -1. -1.  0.  0.  0.  0.  0.  1.]\n",
      "[-1. -0. -0. -0. -0.  0.  0.  0.  0.  0.  1.]\n"
     ]
    }
   ],
   "source": [
    "v=np.array([-1,-0.8,-0.6,-0.4,-0.2,0,0.2,0.4,0.6,0.8,1])\n",
    "print(np.ceil(v))\n",
    "print(np.round(v))\n",
    "print(np.floor(v))\n",
    "print(np.fix(v))"
   ]
  },
  {
   "cell_type": "markdown",
   "metadata": {},
   "source": [
    "2.&emsp;分别用数值计算和符号计算的方法计算如下定积分<br/>\n",
    "（1）$\\int_0^1x^3+4xdx$；（2）$\\int_0^1\\frac{x^2+x}{3x^3+1}dx$；（3）$\\int_0^1x\\sin xdx$"
   ]
  },
  {
   "cell_type": "code",
   "execution_count": 81,
   "metadata": {},
   "outputs": [
    {
     "name": "stdout",
     "output_type": "stream",
     "text": [
      "（1）数值计算结果为 2.25\n",
      "（1）符号计算结果为 9/4\n",
      "（2）数值计算结果为 0.42549371013599524\n",
      "（2）符号计算结果为 2*(3**(1/3)/18 + 1/9)*log(-3**(2/3)/3 + 3**(1/3)/3 + 1) + (1/9 - 3**(1/3)/9)*log(27*(1/9 - 3**(1/3)/9)**2 + 2/3 + 2*3**(1/3)/3) - (1/9 - 3**(1/3)/9)*log(-1/3 + 27*(1/9 - 3**(1/3)/9)**2 + 2*3**(1/3)/3) - 2*(3**(1/3)/18 + 1/9)*log(3**(1/3)/3) + 3**(5/6)*pi/27 - 2*3**(5/6)*atan(-2*3**(5/6)/3 + sqrt(3)/3)/9\n",
      "（3）数值计算结果为 0.3011686789397568\n",
      "（3）符号计算结果为 -cos(1) + sin(1)\n"
     ]
    }
   ],
   "source": [
    "print('（1）数值计算结果为',sci.integrate.quad(lambda x:x**3+4*x,0,1)[0])\n",
    "print('（1）符号计算结果为',sym.integrate(x**3+4*x,(x,0,1)))\n",
    "print('（2）数值计算结果为',sci.integrate.quad(lambda x:(x**2+x)/(3*x**3+1),0,1)[0])\n",
    "print('（2）符号计算结果为',sym.integrate((x**2+x)/(3*x**3+1),(x,0,1)))\n",
    "print('（3）数值计算结果为',sci.integrate.quad(lambda x:x*np.sin(x),0,1)[0])\n",
    "print('（3）符号计算结果为',sym.integrate(x*sym.sin(x),(x,0,1)))"
   ]
  },
  {
   "cell_type": "markdown",
   "metadata": {},
   "source": [
    "3.&emsp;计算如下定积分的值<br/>\n",
    "（1）$\\int_0^1\\frac{\\sin x}{x}dx$；（2）$\\int_0^{10}e^{-x^2}dx$"
   ]
  },
  {
   "cell_type": "code",
   "execution_count": 91,
   "metadata": {},
   "outputs": [
    {
     "name": "stdout",
     "output_type": "stream",
     "text": [
      "（1）计算结果为 0.9460830703671831\n",
      "（1）计算结果为 0.7468241328124271\n"
     ]
    }
   ],
   "source": [
    "print('（1）计算结果为',sci.integrate.quad(lambda x:np.sin(x)/x,0,1)[0])\n",
    "print('（1）计算结果为',sci.integrate.quad(lambda x:np.e**(-x**2),0,1)[0])"
   ]
  },
  {
   "cell_type": "markdown",
   "metadata": {},
   "source": [
    "4.&emsp;计算如下函数的泰勒展开式<br/>\n",
    "（1）$\\sin x$（10阶）；（2）$e^{-x}$（10阶）"
   ]
  },
  {
   "cell_type": "code",
   "execution_count": 92,
   "metadata": {},
   "outputs": [
    {
     "data": {
      "image/png": "[encoded data removed]",
      "text/latex": [
       "$\\displaystyle x - \\frac{x^{3}}{6} + \\frac{x^{5}}{120} - \\frac{x^{7}}{5040} + \\frac{x^{9}}{362880} + O\\left(x^{10}\\right)$"
      ],
      "text/plain": [
       "     3     5     7       9           \n",
       "    x     x     x       x       ⎛ 10⎞\n",
       "x - ── + ─── - ──── + ────── + O⎝x  ⎠\n",
       "    6    120   5040   362880         "
      ]
     },
     "execution_count": 92,
     "metadata": {},
     "output_type": "execute_result"
    }
   ],
   "source": [
    "sym.sin(x).series(x,0,10)"
   ]
  },
  {
   "cell_type": "code",
   "execution_count": 94,
   "metadata": {},
   "outputs": [
    {
     "data": {
      "image/png": "[encoded data removed]",
      "text/latex": [
       "$\\displaystyle 1 - x + \\frac{x^{2}}{2} - \\frac{x^{3}}{6} + \\frac{x^{4}}{24} - \\frac{x^{5}}{120} + \\frac{x^{6}}{720} - \\frac{x^{7}}{5040} + \\frac{x^{8}}{40320} - \\frac{x^{9}}{362880} + O\\left(x^{10}\\right)$"
      ],
      "text/plain": [
       "         2    3    4     5     6     7       8       9           \n",
       "        x    x    x     x     x     x       x       x       ⎛ 10⎞\n",
       "1 - x + ── - ── + ── - ─── + ─── - ──── + ───── - ────── + O⎝x  ⎠\n",
       "        2    6    24   120   720   5040   40320   362880         "
      ]
     },
     "execution_count": 94,
     "metadata": {},
     "output_type": "execute_result"
    }
   ],
   "source": [
    "sym.exp(-x).series(x,0,10)"
   ]
  },
  {
   "cell_type": "markdown",
   "metadata": {},
   "source": [
    "5.&emsp;计算如下极限<br/>\n",
    "（1）$\\lim\\limits_{x\\to 0}(1+2x)^{\\frac{1}{x}}$；\n",
    "（2）$\\lim\\limits_{x\\to 0}\\dfrac{e^x-1}{x}$；\n",
    "（3）$\\lim\\limits_{x\\to 0}\\dfrac{1}{x}\\sin\\dfrac{1}{x}$；\n",
    "（4）$\\lim\\limits_{x\\to 0^+}\\sqrt{x}-2^{-\\frac{1}{x}}$"
   ]
  },
  {
   "cell_type": "code",
   "execution_count": 107,
   "metadata": {},
   "outputs": [
    {
     "data": {
      "image/png": "[encoded data removed]",
      "text/latex": [
       "$\\displaystyle e^{2}$"
      ],
      "text/plain": [
       " 2\n",
       "ℯ "
      ]
     },
     "execution_count": 107,
     "metadata": {},
     "output_type": "execute_result"
    }
   ],
   "source": [
    "sym.limit((1+2*x)**(1/x),x,0)"
   ]
  },
  {
   "cell_type": "code",
   "execution_count": 106,
   "metadata": {},
   "outputs": [
    {
     "data": {
      "image/png": "[encoded data removed]",
      "text/latex": [
       "$\\displaystyle \\infty$"
      ],
      "text/plain": [
       "∞"
      ]
     },
     "execution_count": 106,
     "metadata": {},
     "output_type": "execute_result"
    }
   ],
   "source": [
    "sym.limit((sym.exp(x))/x-1,x,0)"
   ]
  },
  {
   "cell_type": "code",
   "execution_count": 105,
   "metadata": {},
   "outputs": [
    {
     "data": {
      "image/png": "[encoded data removed]",
      "text/latex": [
       "$\\displaystyle \\left\\langle -\\infty, \\infty\\right\\rangle$"
      ],
      "text/plain": [
       "<-∞, ∞>"
      ]
     },
     "execution_count": 105,
     "metadata": {},
     "output_type": "execute_result"
    }
   ],
   "source": [
    "sym.limit((1/x)*sym.sin(1/x),x,0)"
   ]
  },
  {
   "cell_type": "code",
   "execution_count": 104,
   "metadata": {},
   "outputs": [
    {
     "data": {
      "image/png": "[encoded data removed]",
      "text/latex": [
       "$\\displaystyle 0$"
      ],
      "text/plain": [
       "0"
      ]
     },
     "execution_count": 104,
     "metadata": {},
     "output_type": "execute_result"
    }
   ],
   "source": [
    "sym.limit(x**(1/2)-2**(-1/x),x,0,'+')"
   ]
  },
  {
   "cell_type": "markdown",
   "metadata": {},
   "source": [
    "6.&emsp;计算如下导数<br/>\n",
    "（1）$y=3t^2-2t+1$，求$y'\\Big|_{x=1}$（提示：evalf函数）<br/>\n",
    "（2）$z=x^2\\cos(2y)$，求$\\dfrac{\\partial z}{\\partial x}$"
   ]
  },
  {
   "cell_type": "code",
   "execution_count": 284,
   "metadata": {},
   "outputs": [
    {
     "name": "stdout",
     "output_type": "stream",
     "text": [
      "4.00000000000000\n"
     ]
    },
    {
     "data": {
      "image/png": "[encoded data removed]",
      "text/latex": [
       "$\\displaystyle 2 x \\cos{\\left(2 y \\right)}$"
      ],
      "text/plain": [
       "2⋅x⋅cos(2⋅y)"
      ]
     },
     "execution_count": 284,
     "metadata": {},
     "output_type": "execute_result"
    }
   ],
   "source": [
    "print(sym.diff(3*t**2-2*t+1,t).evalf(subs={t:1}))\n",
    "z=(x**2)*sym.cos(2*y)\n",
    "sym.diff(z,x)"
   ]
  },
  {
   "cell_type": "markdown",
   "metadata": {},
   "source": [
    "7.&emsp;计算如下级数<br/>\n",
    "（1）$\\sum\\limits_{k=1}^nk^4$；（2）$\\sum\\limits_{k=1}^nk(k+1)^2$；（3）$\\sum\\limits_{k=1}^\\infty\\dfrac{1}{k(k+1)}$"
   ]
  },
  {
   "cell_type": "code",
   "execution_count": 125,
   "metadata": {},
   "outputs": [
    {
     "data": {
      "image/png": "[encoded data removed]",
      "text/latex": [
       "$\\displaystyle \\operatorname{harmonic}{\\left(n,4 \\right)}$"
      ],
      "text/plain": [
       "harmonic(n, 4)"
      ]
     },
     "execution_count": 125,
     "metadata": {},
     "output_type": "execute_result"
    }
   ],
   "source": [
    "sym.Sum(1/k**4, (k,1,n)).doit()"
   ]
  },
  {
   "cell_type": "code",
   "execution_count": 126,
   "metadata": {},
   "outputs": [
    {
     "data": {
      "image/png": "[encoded data removed]",
      "text/latex": [
       "$\\displaystyle \\frac{n^{4}}{4} + \\frac{7 n^{3}}{6} + \\frac{7 n^{2}}{4} + \\frac{5 n}{6}$"
      ],
      "text/plain": [
       " 4      3      2      \n",
       "n    7⋅n    7⋅n    5⋅n\n",
       "── + ──── + ──── + ───\n",
       "4     6      4      6 "
      ]
     },
     "execution_count": 126,
     "metadata": {},
     "output_type": "execute_result"
    }
   ],
   "source": [
    "sym.Sum(k*(k+1)**2, (k,1,n)).doit()"
   ]
  },
  {
   "cell_type": "code",
   "execution_count": 127,
   "metadata": {},
   "outputs": [
    {
     "data": {
      "image/png": "[encoded data removed]",
      "text/latex": [
       "$\\displaystyle 1$"
      ],
      "text/plain": [
       "1"
      ]
     },
     "execution_count": 127,
     "metadata": {},
     "output_type": "execute_result"
    }
   ],
   "source": [
    "sym.Sum(1/(k*(k+1)), (k,1,sym.oo)).doit()"
   ]
  },
  {
   "cell_type": "markdown",
   "metadata": {},
   "source": [
    "8.&emsp;用for循环语句的方式，生成[10000,20000]内的全部质数。"
   ]
  },
  {
   "cell_type": "code",
   "execution_count": 132,
   "metadata": {},
   "outputs": [
    {
     "name": "stdout",
     "output_type": "stream",
     "text": [
      "[10007, 10009, 10037, 10039, 10061, 10067, 10069, 10079, 10091, 10093, 10099, 10103, 10111, 10133, 10139, 10141, 10151, 10159, 10163, 10169, 10177, 10181, 10193, 10211, 10223, 10243, 10247, 10253, 10259, 10267, 10271, 10273, 10289, 10301, 10303, 10313, 10321, 10331, 10333, 10337, 10343, 10357, 10369, 10391, 10399, 10427, 10429, 10433, 10453, 10457, 10459, 10463, 10477, 10487, 10499, 10501, 10513, 10529, 10531, 10559, 10567, 10589, 10597, 10601, 10607, 10613, 10627, 10631, 10639, 10651, 10657, 10663, 10667, 10687, 10691, 10709, 10711, 10723, 10729, 10733, 10739, 10753, 10771, 10781, 10789, 10799, 10831, 10837, 10847, 10853, 10859, 10861, 10867, 10883, 10889, 10891, 10903, 10909, 10937, 10939, 10949, 10957, 10973, 10979, 10987, 10993, 11003, 11027, 11047, 11057, 11059, 11069, 11071, 11083, 11087, 11093, 11113, 11117, 11119, 11131, 11149, 11159, 11161, 11171, 11173, 11177, 11197, 11213, 11239, 11243, 11251, 11257, 11261, 11273, 11279, 11287, 11299, 11311, 11317, 11321, 11329, 11351, 11353, 11369, 11383, 11393, 11399, 11411, 11423, 11437, 11443, 11447, 11467, 11471, 11483, 11489, 11491, 11497, 11503, 11519, 11527, 11549, 11551, 11579, 11587, 11593, 11597, 11617, 11621, 11633, 11657, 11677, 11681, 11689, 11699, 11701, 11717, 11719, 11731, 11743, 11777, 11779, 11783, 11789, 11801, 11807, 11813, 11821, 11827, 11831, 11833, 11839, 11863, 11867, 11887, 11897, 11903, 11909, 11923, 11927, 11933, 11939, 11941, 11953, 11959, 11969, 11971, 11981, 11987, 12007, 12011, 12037, 12041, 12043, 12049, 12071, 12073, 12097, 12101, 12107, 12109, 12113, 12119, 12143, 12149, 12157, 12161, 12163, 12197, 12203, 12211, 12227, 12239, 12241, 12251, 12253, 12263, 12269, 12277, 12281, 12289, 12301, 12323, 12329, 12343, 12347, 12373, 12377, 12379, 12391, 12401, 12409, 12413, 12421, 12433, 12437, 12451, 12457, 12473, 12479, 12487, 12491, 12497, 12503, 12511, 12517, 12527, 12539, 12541, 12547, 12553, 12569, 12577, 12583, 12589, 12601, 12611, 12613, 12619, 12637, 12641, 12647, 12653, 12659, 12671, 12689, 12697, 12703, 12713, 12721, 12739, 12743, 12757, 12763, 12781, 12791, 12799, 12809, 12821, 12823, 12829, 12841, 12853, 12889, 12893, 12899, 12907, 12911, 12917, 12919, 12923, 12941, 12953, 12959, 12967, 12973, 12979, 12983, 13001, 13003, 13007, 13009, 13033, 13037, 13043, 13049, 13063, 13093, 13099, 13103, 13109, 13121, 13127, 13147, 13151, 13159, 13163, 13171, 13177, 13183, 13187, 13217, 13219, 13229, 13241, 13249, 13259, 13267, 13291, 13297, 13309, 13313, 13327, 13331, 13337, 13339, 13367, 13381, 13397, 13399, 13411, 13417, 13421, 13441, 13451, 13457, 13463, 13469, 13477, 13487, 13499, 13513, 13523, 13537, 13553, 13567, 13577, 13591, 13597, 13613, 13619, 13627, 13633, 13649, 13669, 13679, 13681, 13687, 13691, 13693, 13697, 13709, 13711, 13721, 13723, 13729, 13751, 13757, 13759, 13763, 13781, 13789, 13799, 13807, 13829, 13831, 13841, 13859, 13873, 13877, 13879, 13883, 13901, 13903, 13907, 13913, 13921, 13931, 13933, 13963, 13967, 13997, 13999, 14009, 14011, 14029, 14033, 14051, 14057, 14071, 14081, 14083, 14087, 14107, 14143, 14149, 14153, 14159, 14173, 14177, 14197, 14207, 14221, 14243, 14249, 14251, 14281, 14293, 14303, 14321, 14323, 14327, 14341, 14347, 14369, 14387, 14389, 14401, 14407, 14411, 14419, 14423, 14431, 14437, 14447, 14449, 14461, 14479, 14489, 14503, 14519, 14533, 14537, 14543, 14549, 14551, 14557, 14561, 14563, 14591, 14593, 14621, 14627, 14629, 14633, 14639, 14653, 14657, 14669, 14683, 14699, 14713, 14717, 14723, 14731, 14737, 14741, 14747, 14753, 14759, 14767, 14771, 14779, 14783, 14797, 14813, 14821, 14827, 14831, 14843, 14851, 14867, 14869, 14879, 14887, 14891, 14897, 14923, 14929, 14939, 14947, 14951, 14957, 14969, 14983, 15013, 15017, 15031, 15053, 15061, 15073, 15077, 15083, 15091, 15101, 15107, 15121, 15131, 15137, 15139, 15149, 15161, 15173, 15187, 15193, 15199, 15217, 15227, 15233, 15241, 15259, 15263, 15269, 15271, 15277, 15287, 15289, 15299, 15307, 15313, 15319, 15329, 15331, 15349, 15359, 15361, 15373, 15377, 15383, 15391, 15401, 15413, 15427, 15439, 15443, 15451, 15461, 15467, 15473, 15493, 15497, 15511, 15527, 15541, 15551, 15559, 15569, 15581, 15583, 15601, 15607, 15619, 15629, 15641, 15643, 15647, 15649, 15661, 15667, 15671, 15679, 15683, 15727, 15731, 15733, 15737, 15739, 15749, 15761, 15767, 15773, 15787, 15791, 15797, 15803, 15809, 15817, 15823, 15859, 15877, 15881, 15887, 15889, 15901, 15907, 15913, 15919, 15923, 15937, 15959, 15971, 15973, 15991, 16001, 16007, 16033, 16057, 16061, 16063, 16067, 16069, 16073, 16087, 16091, 16097, 16103, 16111, 16127, 16139, 16141, 16183, 16187, 16189, 16193, 16217, 16223, 16229, 16231, 16249, 16253, 16267, 16273, 16301, 16319, 16333, 16339, 16349, 16361, 16363, 16369, 16381, 16411, 16417, 16421, 16427, 16433, 16447, 16451, 16453, 16477, 16481, 16487, 16493, 16519, 16529, 16547, 16553, 16561, 16567, 16573, 16603, 16607, 16619, 16631, 16633, 16649, 16651, 16657, 16661, 16673, 16691, 16693, 16699, 16703, 16729, 16741, 16747, 16759, 16763, 16787, 16811, 16823, 16829, 16831, 16843, 16871, 16879, 16883, 16889, 16901, 16903, 16921, 16927, 16931, 16937, 16943, 16963, 16979, 16981, 16987, 16993, 17011, 17021, 17027, 17029, 17033, 17041, 17047, 17053, 17077, 17093, 17099, 17107, 17117, 17123, 17137, 17159, 17167, 17183, 17189, 17191, 17203, 17207, 17209, 17231, 17239, 17257, 17291, 17293, 17299, 17317, 17321, 17327, 17333, 17341, 17351, 17359, 17377, 17383, 17387, 17389, 17393, 17401, 17417, 17419, 17431, 17443, 17449, 17467, 17471, 17477, 17483, 17489, 17491, 17497, 17509, 17519, 17539, 17551, 17569, 17573, 17579, 17581, 17597, 17599, 17609, 17623, 17627, 17657, 17659, 17669, 17681, 17683, 17707, 17713, 17729, 17737, 17747, 17749, 17761, 17783, 17789, 17791, 17807, 17827, 17837, 17839, 17851, 17863, 17881, 17891, 17903, 17909, 17911, 17921, 17923, 17929, 17939, 17957, 17959, 17971, 17977, 17981, 17987, 17989, 18013, 18041, 18043, 18047, 18049, 18059, 18061, 18077, 18089, 18097, 18119, 18121, 18127, 18131, 18133, 18143, 18149, 18169, 18181, 18191, 18199, 18211, 18217, 18223, 18229, 18233, 18251, 18253, 18257, 18269, 18287, 18289, 18301, 18307, 18311, 18313, 18329, 18341, 18353, 18367, 18371, 18379, 18397, 18401, 18413, 18427, 18433, 18439, 18443, 18451, 18457, 18461, 18481, 18493, 18503, 18517, 18521, 18523, 18539, 18541, 18553, 18583, 18587, 18593, 18617, 18637, 18661, 18671, 18679, 18691, 18701, 18713, 18719, 18731, 18743, 18749, 18757, 18773, 18787, 18793, 18797, 18803, 18839, 18859, 18869, 18899, 18911, 18913, 18917, 18919, 18947, 18959, 18973, 18979, 19001, 19009, 19013, 19031, 19037, 19051, 19069, 19073, 19079, 19081, 19087, 19121, 19139, 19141, 19157, 19163, 19181, 19183, 19207, 19211, 19213, 19219, 19231, 19237, 19249, 19259, 19267, 19273, 19289, 19301, 19309, 19319, 19333, 19373, 19379, 19381, 19387, 19391, 19403, 19417, 19421, 19423, 19427, 19429, 19433, 19441, 19447, 19457, 19463, 19469, 19471, 19477, 19483, 19489, 19501, 19507, 19531, 19541, 19543, 19553, 19559, 19571, 19577, 19583, 19597, 19603, 19609, 19661, 19681, 19687, 19697, 19699, 19709, 19717, 19727, 19739, 19751, 19753, 19759, 19763, 19777, 19793, 19801, 19813, 19819, 19841, 19843, 19853, 19861, 19867, 19889, 19891, 19913, 19919, 19927, 19937, 19949, 19961, 19963, 19973, 19979, 19991, 19993, 19997]\n"
     ]
    }
   ],
   "source": [
    "R=[]\n",
    "for x in range(10000,20001):\n",
    "    if sym.isprime(x)==True:\n",
    "        R.append(x)\n",
    "print(R)"
   ]
  },
  {
   "cell_type": "markdown",
   "metadata": {},
   "source": [
    "9.&emsp;我国最高山峰是珠穆朗玛峰：8848m，现在有一张足够大的纸张，厚度为：0.01m。请问折叠多少次，就可以保证厚度不低于珠穆朗玛峰发高度？"
   ]
  },
  {
   "cell_type": "code",
   "execution_count": 34,
   "metadata": {},
   "outputs": [
    {
     "name": "stdout",
     "output_type": "stream",
     "text": [
      "至少需要折叠 20 次\n"
     ]
    }
   ],
   "source": [
    "a=0.01\n",
    "n=0\n",
    "while a<8848:\n",
    "    a=a*2\n",
    "    n=n+1\n",
    "print('至少需要折叠',n,'次')"
   ]
  },
  {
   "cell_type": "markdown",
   "metadata": {},
   "source": [
    "## 作业：\n",
    "#### 1.&emsp;Python常用命令\n",
    "实验目的：常用符号计算、数值计算、绘图命令。<br/>\n",
    "实验内容：用Plot命令将$\\dfrac{\\sin x}{x}$及其6阶，8阶，10阶泰勒展开式的图形，绘制在一个图形窗口中/作图范围是[-5,5]，并标出坐标轴，标题。以及图例。"
   ]
  },
  {
   "cell_type": "code",
   "execution_count": 272,
   "metadata": {},
   "outputs": [
    {
     "data": {
      "image/png": "[encoded data removed]",
      "text/plain": [
       "<Figure size 432x288 with 1 Axes>"
      ]
     },
     "metadata": {
      "needs_background": "light"
     },
     "output_type": "display_data"
    }
   ],
   "source": [
    "y=sym.sin(x)\n",
    "T6=T8=T10=0\n",
    "for i in range(0,7):\n",
    "    T6=T6+sym.diff(y,x,i).evalf(subs={x:0})/math.factorial(i)*x**i/x\n",
    "for i in range(0,9):\n",
    "    T8=T8+sym.diff(y,x,i).evalf(subs={x:0})/math.factorial(i)*x**i/x\n",
    "for i in range(0,11):\n",
    "    T10=T10+sym.diff(y,x,i).evalf(subs={x:0})/math.factorial(i)*x**i/x\n",
    "\n",
    "VT6=[]\n",
    "VT8=[]\n",
    "VT10=[]\n",
    "for i in range(0,101):\n",
    "    VT6.append(T6.subs(x,-5+i*10/100))\n",
    "for i in range(0,101):\n",
    "    VT8.append(T8.subs(x,-5+i*10/100))\n",
    "for i in range(0,101):\n",
    "    VT10.append(T10.subs(x,-5+i*10/100))\n",
    "a=np.linspace(-5,5,101)\n",
    "plt.plot(a,VT6,label='series=6')\n",
    "plt.plot(a,VT8,label='series=8')\n",
    "plt.plot(a,VT10,label='series=10')\n",
    "plt.title('Taylor Series of sinx/x')\n",
    "plt.xlabel('x')\n",
    "plt.ylabel('y')\n",
    "plt.legend(loc='best')\n",
    "plt.show()"
   ]
  },
  {
   "cell_type": "markdown",
   "metadata": {},
   "source": [
    "#### 2.&emsp;Python常用命令\n",
    "实验目的：常用符号计算、数值计算命令。<br/>\n",
    "实验内容：求出所有的水仙花数。（水仙花数是指一个3位数，它的每个位上的数字的3次幂之和等于它本身，例如$153=1^3+5^3+3^3$）"
   ]
  },
  {
   "cell_type": "code",
   "execution_count": 277,
   "metadata": {},
   "outputs": [
    {
     "name": "stdout",
     "output_type": "stream",
     "text": [
      "[153, 370, 371, 407]\n"
     ]
    }
   ],
   "source": [
    "r=[]\n",
    "for i in range(100,1000):\n",
    "    a=np.floor(i/100)\n",
    "    b=np.floor((i-a*100)/10)\n",
    "    c=i%10\n",
    "    if i==a**3+b**3+c**3:\n",
    "        r.append(i)\n",
    "print(r)"
   ]
  },
  {
   "cell_type": "markdown",
   "metadata": {},
   "source": [
    "#### 3.&emsp;数值稳定性\n",
    "实验目的：对迭代及误差传播有一定的直观感受。<br/>\n",
    "实验内容：分别用下述两种方法计算$S_n=\\int_0^1\\dfrac{x^n}{x+5}dx$，其中$n=0,1,2,\\cdots,20$.<br/>\n",
    "（1）$\\begin{cases}\n",
    "S_0=0.182\\\\\n",
    "S_n=\\dfrac{1}{n}-5S_{n-1}\\\\\n",
    "\\end{cases}$\n",
    "（2）$\\begin{cases}\n",
    "S_{20}=\\frac{1}{2}\\left(\\dfrac{1}{6\\times(20+1)}+\\dfrac{1}{5\\times(20+1)}\\right)\\\\\n",
    "S_{n-1}=\\dfrac{1}{5n}-\\dfrac{1}{5}S_n\n",
    "\\end{cases}$<br/>\n",
    "讨论误差在迭代过程中的传播，以及两种算法的稳定性。"
   ]
  },
  {
   "cell_type": "code",
   "execution_count": 297,
   "metadata": {},
   "outputs": [
    {
     "name": "stdout",
     "output_type": "stream",
     "text": [
      "方法1的Sn为： [0.182, 0.09000000000000008, 0.0499999999999996, 0.08333333333333531, -0.16666666666667657, 1.0333333333333827, -5.000000000000247, 25.14285714285838, -125.58928571429189, 628.0575396825706, -3140.187698412853, 15701.029401155176, -78505.06367244256, 392525.39528528973, -1962626.9049978773, 9813134.591656053, -49065672.895780265, 245328364.53772485, -1226641822.6330688, 6133209113.217976, -30666045566.03988]\n",
      "方法2的Sn为： [0.18232156 0.08839222 0.05803892 0.04313873 0.03430633 0.02846835\n",
      " 0.02432491 0.02123262 0.01883692 0.01692649 0.01536755 0.01407134\n",
      " 0.01297664 0.01203987 0.01122923 0.0105205  0.0098975  0.00933601\n",
      " 0.00887552 0.00825397 0.00873016]\n",
      "方法1的误差增速为5倍，而方法2则为1/5，因此方法2是更稳定的算法。\n"
     ]
    }
   ],
   "source": [
    "s1_0=0.182\n",
    "S1=[s1_0]\n",
    "for i in range(1,21):\n",
    "    S1.append(1/i-5*S1[i-1])\n",
    "print('方法1的Sn为：',S1)\n",
    "s2_20=1/2*(1/(6*21)+1/(5*21))\n",
    "S2=[s2_20]\n",
    "for i in range(20,0,-1):\n",
    "    S2=np.insert(S2,0,1/(5*i)-1/5*S2[0])\n",
    "print('方法2的Sn为：',S2)\n",
    "print('方法1的误差增速为5倍，而方法2则为1/5，因此方法2是更稳定的算法。')"
   ]
  }
 ],
 "metadata": {
  "kernelspec": {
   "display_name": "Python 3",
   "language": "python",
   "name": "python3"
  },
  "language_info": {
   "codemirror_mode": {
    "name": "ipython",
    "version": 3
   },
   "file_extension": ".py",
   "mimetype": "text/x-python",
   "name": "python",
   "nbconvert_exporter": "python",
   "pygments_lexer": "ipython3",
   "version": "3.7.4"
  }
 },
 "nbformat": 4,
 "nbformat_minor": 4
}
