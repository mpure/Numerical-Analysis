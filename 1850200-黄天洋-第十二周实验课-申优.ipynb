{
 "cells": [
  {
   "cell_type": "markdown",
   "metadata": {},
   "source": [
    "#### 1850200-黄天洋-第十二周实验课-申优\n",
    "## 1&emsp;内容\n",
    "#### 写出以下算法的函数实现\n",
    "#### 1.&emsp;二分法"
   ]
  },
  {
   "cell_type": "code",
   "execution_count": 66,
   "metadata": {},
   "outputs": [
    {
     "name": "stdout",
     "output_type": "stream",
     "text": [
      "对于方程x^3+x^2-1=0，初始区间设为 [0 1]\n",
      "二分法求方程的解为 0.7548770904541016 迭代次数为 19\n"
     ]
    }
   ],
   "source": [
    "import numpy as np\n",
    "#二分法\n",
    "def bisection(f,interval,eps):\n",
    "    a=interval[0]\n",
    "    b=interval[1]\n",
    "    k=0\n",
    "    while (b-a)/2 > eps:\n",
    "        c=(a+b)/2\n",
    "        if np.abs(f(c)) < eps:\n",
    "            break\n",
    "        if f(a)*f(c)<0:\n",
    "            b=c\n",
    "        else:\n",
    "            a=c\n",
    "        k+=1\n",
    "    return [c,k]\n",
    "\n",
    "#求解\n",
    "f=lambda x:x**3+x**2-1\n",
    "interval=np.array([0,1])\n",
    "eps=10**-6\n",
    "x,k=bisection(f,interval,eps)\n",
    "print('对于方程x^3+x^2-1=0，初始区间设为',interval)\n",
    "print('二分法求方程的解为',x,'迭代次数为',k)"
   ]
  },
  {
   "cell_type": "markdown",
   "metadata": {},
   "source": [
    "#### 2.&emsp;牛顿法"
   ]
  },
  {
   "cell_type": "code",
   "execution_count": 118,
   "metadata": {},
   "outputs": [
    {
     "name": "stdout",
     "output_type": "stream",
     "text": [
      "对于方程x^2+sin(10x)-1=0，初值设为 0\n",
      "牛顿法求方程的解为 0.137590560278434 迭代次数为 6\n",
      "牛顿下山法求方程的解为 0.137590560278434 迭代次数为 6\n"
     ]
    }
   ],
   "source": [
    "import numpy as np\n",
    "from scipy.misc import derivative\n",
    "\n",
    "#牛顿法\n",
    "def newton(f,x0,eps):\n",
    "    x=[]\n",
    "    x_old=x0\n",
    "    x.append(x0)\n",
    "    error=1\n",
    "    while error>eps or np.abs(f(x_old))>eps:\n",
    "        x_new=x_old-f(x_old)/derivative(f,x_old,dx=10**-6)\n",
    "        error=np.abs(x_new-x_old)\n",
    "        x.append(x_new)\n",
    "        x_old=x_new\n",
    "    k=np.size(x)-1\n",
    "    return [x,x_new,k]\n",
    "\n",
    "#牛顿下山法\n",
    "def newtondownhill(f,x0,eps):\n",
    "    x=[]\n",
    "    x_old=x0\n",
    "    x.append(x0)\n",
    "    error=1\n",
    "    lam=1\n",
    "    while error>eps or np.abs(f(x_old))>eps:\n",
    "        x_new=x_old-lam*f(x_old)/derivative(f,x_old,dx=10**-6)\n",
    "        if np.abs(f(x_new))>np.abs(f(x_old)):\n",
    "            lam=lam/2\n",
    "        else:\n",
    "            error=np.abs(x_new-x_old)\n",
    "            x.append(x_new)\n",
    "            x_old=x_new\n",
    "    k=np.size(x)-1\n",
    "    return [x,x_new,k]\n",
    "\n",
    "#求解\n",
    "f=lambda x:x**2+np.sin(10*x)-1\n",
    "x0=0\n",
    "eps=10**-6\n",
    "print('对于方程x^2+sin(10x)-1=0，初值设为',x0)\n",
    "x,x_new,k=newton(f,x0,eps)\n",
    "print('牛顿法求方程的解为',x_new,'迭代次数为',k)\n",
    "x,x_new,k=newtondownhill(f,x0,eps)\n",
    "print('牛顿下山法求方程的解为',x_new,'迭代次数为',k)"
   ]
  },
  {
   "cell_type": "markdown",
   "metadata": {},
   "source": [
    "#### 3.&emsp;割线法"
   ]
  },
  {
   "cell_type": "code",
   "execution_count": 266,
   "metadata": {},
   "outputs": [
    {
     "name": "stdout",
     "output_type": "stream",
     "text": [
      "对于方程x^3-x-1=0，初始区间设为 [1 2]\n",
      "双点割线法求方程的解为 1.3247179572446703 迭代次数为 7\n",
      "单点割线法求方程的解为 1.324717682653014 迭代次数为 15\n"
     ]
    }
   ],
   "source": [
    "import numpy as np\n",
    "\n",
    "#双点割线法\n",
    "def secant(f,interval,eps):\n",
    "    x=[]\n",
    "    x.append(interval[0])\n",
    "    x.append(interval[1])\n",
    "    error=1\n",
    "    i=1\n",
    "    while error>eps:\n",
    "        x_new=x[i]-f(x[i])*(x[i]-x[i-1])/(f(x[i])-f(x[i-1]))\n",
    "        x.append(x_new)\n",
    "        error=np.abs(x[i+1]-x[i])\n",
    "        i+=1\n",
    "    k=np.size(x)-2\n",
    "    return [x,x_new,k]\n",
    "\n",
    "#单点割线法\n",
    "def secant_s(f,interval,eps):\n",
    "    x=[]\n",
    "    x.append(interval[0])\n",
    "    x.append(interval[1])\n",
    "    error=1\n",
    "    i=1\n",
    "    while error>eps:\n",
    "        x_new=x[i]-f(x[i])*(x[i]-x[0])/(f(x[i])-f(x[0]))\n",
    "        x.append(x_new)\n",
    "        error=np.abs(x[i+1]-x[i])\n",
    "        i+=1\n",
    "    k=np.size(x)-2\n",
    "    return [x,x_new,k]\n",
    "\n",
    "#求解\n",
    "f=lambda x:x**3-x-1\n",
    "interval=np.array([1,2])\n",
    "eps=10**-6\n",
    "print('对于方程x^3-x-1=0，初始区间设为',interval)\n",
    "x,x_new,k=secant(f,interval,eps)\n",
    "print('双点割线法求方程的解为',x_new,'迭代次数为',k)\n",
    "x,x_new,k=secant_s(f,interval,eps)\n",
    "print('单点割线法求方程的解为',x_new,'迭代次数为',k)"
   ]
  },
  {
   "cell_type": "markdown",
   "metadata": {},
   "source": [
    "## 2&emsp;练习\n",
    "#### 1.&emsp;用以上函数求解如下线性方程组\n",
    "(1)$x^3-2x-5=0(x_0\\approx 2)$"
   ]
  },
  {
   "cell_type": "code",
   "execution_count": 119,
   "metadata": {},
   "outputs": [
    {
     "name": "stdout",
     "output_type": "stream",
     "text": [
      "初始区间设为 [0 3] 初值设为 2\n",
      "二分法的解为 2.094550609588623 迭代次数为 21\n",
      "牛顿法求方程的解为 2.0945514815423265 迭代次数为 4\n",
      "牛顿下山法求方程的解为 2.0945514815423265 迭代次数为 4\n",
      "割线法求方程的解为 2.094551481542333 迭代次数为 12\n"
     ]
    }
   ],
   "source": [
    "#求解前请先运行内容中的所有函数\n",
    "#定义函数以及初始区间、初值、误差\n",
    "f=lambda x:x**3-2*x-5\n",
    "interval=np.array([0,3])\n",
    "x0=2\n",
    "eps=10**-6\n",
    "print('初始区间设为',interval,'初值设为',x0)\n",
    "\n",
    "#求解\n",
    "x,k=bisection(f,interval,eps)\n",
    "print('二分法的解为',x,'迭代次数为',k)\n",
    "x,x_new,k=newton(f,x0,eps)\n",
    "print('牛顿法求方程的解为',x_new,'迭代次数为',k)\n",
    "x,x_new,k=newtondownhill(f,x0,eps)\n",
    "print('牛顿下山法求方程的解为',x_new,'迭代次数为',k)\n",
    "x,x_new,k=secant(f,interval,eps)\n",
    "print('割线法求方程的解为',x_new,'迭代次数为',k)"
   ]
  },
  {
   "cell_type": "markdown",
   "metadata": {},
   "source": [
    "(2)$\\sin x-0.25x^2=0(x_0\\approx 2)$"
   ]
  },
  {
   "cell_type": "code",
   "execution_count": 120,
   "metadata": {},
   "outputs": [
    {
     "name": "stdout",
     "output_type": "stream",
     "text": [
      "初始区间设为 [1 3] 初值设为 2\n",
      "二分法的解为 1.9337539672851562 迭代次数为 17\n",
      "牛顿法求方程的解为 1.9337537628270214 迭代次数为 4\n",
      "牛顿下山法求方程的解为 1.9337537628270214 迭代次数为 4\n",
      "割线法求方程的解为 1.933753762827019 迭代次数为 8\n"
     ]
    }
   ],
   "source": [
    "#求解前请先运行内容中的所有函数\n",
    "#定义函数以及初始区间、初值、误差\n",
    "f=lambda x:np.sin(x)-0.25*x**2\n",
    "interval=np.array([1,3])\n",
    "x0=2\n",
    "eps=10**-6\n",
    "print('初始区间设为',interval,'初值设为',x0)\n",
    "\n",
    "#求解\n",
    "x,k=bisection(f,interval,eps)\n",
    "print('二分法的解为',x,'迭代次数为',k)\n",
    "x,x_new,k=newton(f,x0,eps)\n",
    "print('牛顿法求方程的解为',x_new,'迭代次数为',k)\n",
    "x,x_new,k=newtondownhill(f,x0,eps)\n",
    "print('牛顿下山法求方程的解为',x_new,'迭代次数为',k)\n",
    "x,x_new,k=secant(f,interval,eps)\n",
    "print('割线法求方程的解为',x_new,'迭代次数为',k)"
   ]
  },
  {
   "cell_type": "markdown",
   "metadata": {},
   "source": [
    "(3)$x-e^{-x}=0(x_0\\approx 0.5)$"
   ]
  },
  {
   "cell_type": "code",
   "execution_count": 121,
   "metadata": {},
   "outputs": [
    {
     "name": "stdout",
     "output_type": "stream",
     "text": [
      "初始区间设为 [0 1] 初值设为 0.5\n",
      "二分法的解为 0.5671443939208984 迭代次数为 19\n",
      "牛顿法求方程的解为 0.5671432904097811 迭代次数为 3\n",
      "牛顿下山法求方程的解为 0.5671432904097811 迭代次数为 3\n",
      "割线法求方程的解为 0.5671432904097046 迭代次数为 5\n"
     ]
    }
   ],
   "source": [
    "#求解前请先运行内容中的所有函数\n",
    "#定义函数以及初始区间、初值、误差\n",
    "f=lambda x:x-np.e**(-x)\n",
    "interval=np.array([0,1])\n",
    "x0=0.5\n",
    "eps=10**-6\n",
    "print('初始区间设为',interval,'初值设为',x0)\n",
    "\n",
    "#求解\n",
    "x,k=bisection(f,interval,eps)\n",
    "print('二分法的解为',x,'迭代次数为',k)\n",
    "x,x_new,k=newton(f,x0,eps)\n",
    "print('牛顿法求方程的解为',x_new,'迭代次数为',k)\n",
    "x,x_new,k=newtondownhill(f,x0,eps)\n",
    "print('牛顿下山法求方程的解为',x_new,'迭代次数为',k)\n",
    "x,x_new,k=secant(f,interval,eps)\n",
    "print('割线法求方程的解为',x_new,'迭代次数为',k)"
   ]
  },
  {
   "cell_type": "markdown",
   "metadata": {},
   "source": [
    "(4)$x^3-5\\sin x+2=0(x_0\\approx -2)$"
   ]
  },
  {
   "cell_type": "code",
   "execution_count": 122,
   "metadata": {},
   "outputs": [
    {
     "name": "stdout",
     "output_type": "stream",
     "text": [
      "初始区间设为 [-3 -1] 初值设为 -2\n",
      "二分法的解为 -1.889688491821289 迭代次数为 20\n",
      "牛顿法求方程的解为 -1.889687293293381 迭代次数为 4\n",
      "牛顿下山法求方程的解为 -1.889687293293381 迭代次数为 4\n",
      "割线法求方程的解为 -1.8896872931950783 迭代次数为 9\n"
     ]
    }
   ],
   "source": [
    "#求解前请先运行内容中的所有函数\n",
    "#定义函数以及初始区间、初值、误差\n",
    "f=lambda x:x**3-5*np.sin(x)+2\n",
    "interval=np.array([-3,-1])\n",
    "x0=-2\n",
    "eps=10**-6\n",
    "print('初始区间设为',interval,'初值设为',x0)\n",
    "\n",
    "#求解\n",
    "x,k=bisection(f,interval,eps)\n",
    "print('二分法的解为',x,'迭代次数为',k)\n",
    "x,x_new,k=newton(f,x0,eps)\n",
    "print('牛顿法求方程的解为',x_new,'迭代次数为',k)\n",
    "x,x_new,k=newtondownhill(f,x0,eps)\n",
    "print('牛顿下山法求方程的解为',x_new,'迭代次数为',k)\n",
    "x,x_new,k=secant(f,interval,eps)\n",
    "print('割线法求方程的解为',x_new,'迭代次数为',k)"
   ]
  },
  {
   "cell_type": "markdown",
   "metadata": {},
   "source": [
    "#### 2.&emsp;分别用二分法牛顿法割线法求解如下非线性方程\n",
    "(1)$x^3-x-1=0$在区间$\\left[1,2\\right]$内的根；"
   ]
  },
  {
   "cell_type": "code",
   "execution_count": 123,
   "metadata": {},
   "outputs": [
    {
     "name": "stdout",
     "output_type": "stream",
     "text": [
      "初始区间设为 [1 2] 初值设为 1.5\n",
      "二分法的解为 1.324716567993164 迭代次数为 19\n",
      "牛顿法求方程的解为 1.3247179572447898 迭代次数为 4\n",
      "牛顿下山法求方程的解为 1.3247179572447898 迭代次数为 4\n",
      "割线法求方程的解为 1.3247179572446703 迭代次数为 7\n"
     ]
    }
   ],
   "source": [
    "#求解前请先运行内容中的所有函数\n",
    "#定义函数以及初始区间、初值、误差\n",
    "f=lambda x:x**3-x-1\n",
    "interval=np.array([1,2])\n",
    "x0=1.5\n",
    "eps=10**-6\n",
    "print('初始区间设为',interval,'初值设为',x0)\n",
    "\n",
    "#求解\n",
    "x,k=bisection(f,interval,eps)\n",
    "print('二分法的解为',x,'迭代次数为',k)\n",
    "x,x_new,k=newton(f,x0,eps)\n",
    "print('牛顿法求方程的解为',x_new,'迭代次数为',k)\n",
    "x,x_new,k=newtondownhill(f,x0,eps)\n",
    "print('牛顿下山法求方程的解为',x_new,'迭代次数为',k)\n",
    "x,x_new,k=secant(f,interval,eps)\n",
    "print('割线法求方程的解为',x_new,'迭代次数为',k)"
   ]
  },
  {
   "cell_type": "markdown",
   "metadata": {},
   "source": [
    "(2)$x-\\cos x=0$在区间$(0,\\frac{\\pi}{2})$内的根；"
   ]
  },
  {
   "cell_type": "code",
   "execution_count": 124,
   "metadata": {},
   "outputs": [
    {
     "name": "stdout",
     "output_type": "stream",
     "text": [
      "初始区间设为 [0.         1.57079633] 初值设为 0.7853981633974483\n",
      "二分法的解为 0.7390851262506977 迭代次数为 17\n",
      "牛顿法求方程的解为 0.7390851332151611 迭代次数为 3\n",
      "牛顿下山法求方程的解为 0.7390851332151611 迭代次数为 3\n",
      "割线法求方程的解为 0.7390851332151607 迭代次数为 6\n"
     ]
    }
   ],
   "source": [
    "#求解前请先运行内容中的所有函数\n",
    "#定义函数以及初始区间、初值、误差\n",
    "f=lambda x:x-np.cos(x)\n",
    "interval=np.array([0,np.pi/2])\n",
    "x0=np.pi/4\n",
    "eps=10**-6\n",
    "print('初始区间设为',interval,'初值设为',x0)\n",
    "\n",
    "#求解\n",
    "x,k=bisection(f,interval,eps)\n",
    "print('二分法的解为',x,'迭代次数为',k)\n",
    "x,x_new,k=newton(f,x0,eps)\n",
    "print('牛顿法求方程的解为',x_new,'迭代次数为',k)\n",
    "x,x_new,k=newtondownhill(f,x0,eps)\n",
    "print('牛顿下山法求方程的解为',x_new,'迭代次数为',k)\n",
    "x,x_new,k=secant(f,interval,eps)\n",
    "print('割线法求方程的解为',x_new,'迭代次数为',k)"
   ]
  },
  {
   "cell_type": "markdown",
   "metadata": {},
   "source": [
    "(3)$x-\\ln x=2$在区间$(2,+\\infty)$的根"
   ]
  },
  {
   "cell_type": "code",
   "execution_count": 125,
   "metadata": {},
   "outputs": [
    {
     "name": "stdout",
     "output_type": "stream",
     "text": [
      "初始区间设为 [    2 10000] 初值设为 5000\n",
      "二分法的解为 3.146193880122155 迭代次数为 31\n",
      "牛顿法求方程的解为 3.1461932206205825 迭代次数为 6\n",
      "牛顿下山法求方程的解为 3.1461932206205825 迭代次数为 6\n",
      "割线法求方程的解为 3.146193220620776 迭代次数为 6\n"
     ]
    }
   ],
   "source": [
    "#求解前请先运行内容中的所有函数\n",
    "#定义函数以及初始区间、初值、误差\n",
    "f=lambda x:x-np.log(x)-2\n",
    "interval=np.array([2,10000])\n",
    "x0=5000\n",
    "eps=10**-6\n",
    "print('初始区间设为',interval,'初值设为',x0)\n",
    "\n",
    "#求解\n",
    "x,k=bisection(f,interval,eps)\n",
    "print('二分法的解为',x,'迭代次数为',k)\n",
    "x,x_new,k=newton(f,x0,eps)\n",
    "print('牛顿法求方程的解为',x_new,'迭代次数为',k)\n",
    "x,x_new,k=newtondownhill(f,x0,eps)\n",
    "print('牛顿下山法求方程的解为',x_new,'迭代次数为',k)\n",
    "x,x_new,k=secant(f,interval,eps)\n",
    "print('割线法求方程的解为',x_new,'迭代次数为',k)"
   ]
  },
  {
   "cell_type": "markdown",
   "metadata": {},
   "source": [
    "#### 3.&emsp;计算方程\n",
    "$$\\sum_{k=1}^{10}ke^{-\\cos kx}\\sin kx=2$$\n",
    "在区间$\\left[-10,10\\right]$中的所有根."
   ]
  },
  {
   "cell_type": "code",
   "execution_count": 276,
   "metadata": {},
   "outputs": [
    {
     "name": "stdout",
     "output_type": "stream",
     "text": [
      "区间[-10,10]中的所有根为 [-9.967424360524614, -9.7797174666094, -9.614903264574945, -9.430227462369631, -9.220782234017312, -9.087104356137841, -8.85301921044498, -8.712508677878013, -8.644234032601428, -8.513365279833392, -8.289992512257774, -7.898157247314594, -7.630701237371777, -7.311531157874084, -7.032010264637076, -6.695539263303861, -6.269125347345695, -5.881383769818408, -5.509911506564675, -5.281615212755964, -4.89290266534889, -4.6958911892572415, -4.237337892274582, -4.0708334563852695, -3.684239053344189, -3.4965321594617067, -3.3317179574050377, -3.1470421552074908, -2.9375969268377258, -2.803919048946228, -2.5698339032653936, -2.429323370698448, -2.361048725335287, -2.2301799724663147, -2.006807205078187, -1.6149719395071112, -1.347515930192191, -1.0283458510022934, -0.7488249574574902, -0.41235395663508634, 0.014059959826712171, 0.401801537361179, 0.7732738006628459, 1.0015700944236219, 1.3902826419145995, 1.5872941179223454, 2.0458474147912176, 2.2123518507943167, 2.5989462538400994, 2.786653147575607, 2.9514673498519737, 3.136143151956686, 3.3455883803418613, 3.4792662582256173, 3.7133514039141926, 3.8538619364810285, 3.9221365816506752, 4.053005334730802, 4.2763781021014, 4.668213367117357, 4.935669376987396, 5.2548394561799086, 5.534360349722096, 5.870831350758336, 6.297245267033546, 6.684986844540766, 7.056459107928332, 7.284755401603208, 7.67346794912735, 7.870479425101932, 8.329032721671926, 8.495537157973903, 8.882131561019426, 9.069838454726204, 9.234652657039842, 9.419328459176977, 9.628773687521447, 9.762451565419273, 9.99653671109378]\n",
      "根的总数为 79\n"
     ]
    }
   ],
   "source": [
    "#求解前请先运行内容中的所有函数\n",
    "#定义函数\n",
    "def f(x):\n",
    "    sum=0\n",
    "    for k in range(1,11):\n",
    "        sum+=k*np.e**(-np.cos(k*x))*np.sin(k*x)\n",
    "    sum-=2\n",
    "    return sum\n",
    "\n",
    "#求解\n",
    "eps=10**-5\n",
    "x_all=[]\n",
    "x_final=[]\n",
    "x0=np.linspace(-10,10,1000)\n",
    "for i in range(np.size(x0)):\n",
    "    x,x_new,k=newton(f,x0[i],eps)\n",
    "    x_all.append(x_new)\n",
    "x_all.sort()\n",
    "for i in range(np.size(x_all)):\n",
    "    if x_all[i]>=-10 and x_all[i]<=10:\n",
    "        if x_all[i+1]-x_all[i]>eps:\n",
    "             x_final.append(x_all[i])\n",
    "    \n",
    "print('区间[-10,10]中的所有根为',x_final)\n",
    "print('根的总数为',np.size(x_final))"
   ]
  },
  {
   "cell_type": "markdown",
   "metadata": {},
   "source": [
    "## 3&emsp;作业\n",
    "#### **1.&emsp;不动点迭代**\n",
    "实验目的：掌握循环语句和迭代算法编程<br/>\n",
    "实验内容：绘制函数$x-4+2^x=0$在区间$\\left[-4,4\\right]$内的图形，然后用如下迭代格式\n",
    "$$x_{k+1}=\\dfrac{\\ln(4-x_k)}{\\ln 2}$$\n",
    "，近似求解该非线性方程在$x_0=1.5$附近的根。"
   ]
  },
  {
   "cell_type": "code",
   "execution_count": 277,
   "metadata": {},
   "outputs": [
    {
     "name": "stdout",
     "output_type": "stream",
     "text": [
      "该非线性方程在x=1.5附近的根为 1.3861672223050707\n"
     ]
    },
    {
     "data": {
      "image/png": "[encoded data removed]",
      "text/plain": [
       "<Figure size 432x288 with 1 Axes>"
      ]
     },
     "metadata": {
      "needs_background": "light"
     },
     "output_type": "display_data"
    }
   ],
   "source": [
    "import numpy as np\n",
    "import matplotlib.pyplot as plt\n",
    "\n",
    "#定义函数\n",
    "f=lambda x:x-4+2**x\n",
    "x0=1.5\n",
    "x_old=x0\n",
    "eps=10**-6\n",
    "error=1\n",
    "#使用迭代格式\n",
    "while error>eps or np.abs(f(x_old))>eps:\n",
    "    x_new=np.log(4-x_old)/np.log(2)\n",
    "    error=np.abs(x_new-x_old)\n",
    "    x_old=x_new\n",
    "print('该非线性方程在x=1.5附近的根为',x_new)\n",
    "#绘图\n",
    "x=np.linspace(-4,4,1000)\n",
    "plt.title('$x-4+2^x=0\\quad in\\quad [-4,4]$',size=15)\n",
    "plt.plot(x,f(x),x,np.zeros(1000),'r--')\n",
    "plt.plot(x_new,f(x_new),marker='*',markersize=10)\n",
    "plt.grid()\n",
    "plt.show()"
   ]
  },
  {
   "cell_type": "markdown",
   "metadata": {},
   "source": [
    "#### **2.&emsp;不动点迭代**\n",
    "实验目的：理解重根对牛顿法收敛速度的影响。<br/>\n",
    "实验内容：考虑方程$x^4-4x^2+4=0$，$\\sqrt{2}$为其二重根。用如下三种迭代格式求解，为使数值解具有$10$位有效数字，迭代法所需迭代次数<br/>\n",
    "(1)$x_{k+1}=x_k-\\dfrac{x_k^2-2}{4x_k}$<br/>\n",
    "\n",
    "(2)$x_{k+1}=x_k-\\dfrac{x_k^2-2}{2x_k}$<br/>\n",
    "\n",
    "(3)$x_{k+1}=x_k-\\dfrac{x_k(x_k^2-2)}{x_k^2+2}$"
   ]
  },
  {
   "cell_type": "code",
   "execution_count": 274,
   "metadata": {},
   "outputs": [
    {
     "name": "stdout",
     "output_type": "stream",
     "text": [
      "(1)数值解为 1.414213562 迭代次数为 35\n",
      "(2)数值解为 1.414213562 迭代次数为 5\n",
      "(3)数值解为 1.414213562 迭代次数为 5\n"
     ]
    }
   ],
   "source": [
    "import numpy as np\n",
    "\n",
    "#定义函数，并分别使用三种迭代格式\n",
    "f=lambda x:x**4-4*x**2+4\n",
    "x0=1\n",
    "x_old=x0\n",
    "eps=10**-11\n",
    "error=1\n",
    "k=0\n",
    "while error>eps or np.abs(f(x_old))>eps:\n",
    "    x_new=x_old-(x_old**2-2)/(4*x_old)\n",
    "    error=np.abs(x_new-x_old)\n",
    "    x_old=x_new\n",
    "    k+=1\n",
    "print('(1)数值解为','%.10g' % x_new,'迭代次数为',k)\n",
    "\n",
    "x_old=x0\n",
    "error=1\n",
    "k=0\n",
    "while error>eps or np.abs(f(x_old))>eps:\n",
    "    x_new=x_old-(x_old**2-2)/(2*x_old)\n",
    "    error=np.abs(x_new-x_old)\n",
    "    x_old=x_new\n",
    "    k+=1\n",
    "print('(2)数值解为','%.10g' % x_new,'迭代次数为',k)\n",
    "\n",
    "x_old=x0\n",
    "error=1\n",
    "k=0\n",
    "while error>eps or np.abs(f(x_old))>eps:\n",
    "    x_new=x_old-x_old*(x_old**2-2)/(x_old**2+2)\n",
    "    error=np.abs(x_new-x_old)\n",
    "    x_old=x_new\n",
    "    k+=1\n",
    "print('(3)数值解为','%.10g' % x_new,'迭代次数为',k)"
   ]
  },
  {
   "cell_type": "markdown",
   "metadata": {},
   "source": [
    "#### **3.&emsp;不动点迭代**\n",
    "实验目的：对比分析不同的不动点迭代的收敛速度<br/>\n",
    "实验内容：分别用牛顿，单点割线法和双点割线法求解非线性方程$11x^{11}-1=0$在$x_0=1$附近的根。要求精确到小数点后三位有效数字。"
   ]
  },
  {
   "cell_type": "code",
   "execution_count": 272,
   "metadata": {},
   "outputs": [
    {
     "name": "stdout",
     "output_type": "stream",
     "text": [
      "牛顿法求方程的解为 0.804 迭代次数为 6\n",
      "单点割线法求方程的解为 0.804 迭代次数为 10\n",
      "双点割线法求方程的解为 0.804 迭代次数为 7\n"
     ]
    }
   ],
   "source": [
    "#求解前请先运行内容中的所有函数\n",
    "f=lambda x:11*x**11-1\n",
    "x0=1\n",
    "eps=10**-4\n",
    "interval=np.array([0.9,1.1])\n",
    "\n",
    "x,x_new,k=newton(f,x0,eps)\n",
    "print('牛顿法求方程的解为','%.3g' % x_new,'迭代次数为',k)\n",
    "x,x_new,k=secant_s(f,interval,eps)\n",
    "print('单点割线法求方程的解为','%.3g' % x_new,'迭代次数为',k)\n",
    "x,x_new,k=secant(f,interval,eps)\n",
    "print('双点割线法求方程的解为','%.3g' % x_new,'迭代次数为',k)"
   ]
  },
  {
   "cell_type": "markdown",
   "metadata": {},
   "source": [
    "#### **4.&emsp;不动点迭代**\n",
    "实验目的：非线性方程不动点迭代的局部收敛性。<br/>\n",
    "实验内容：考虑方程$(x^2-0.2)e^{-0.5x}=0$，<br/>\n",
    "(1)分别取初值$x_0=-0.01$和$x_0=-0.03$，用牛顿法求解该方程。<br/>\n",
    "(2)分别取初值$x_0=-0.01$和$x_0=-0.03$，用牛顿下山法求解该方程。"
   ]
  },
  {
   "cell_type": "code",
   "execution_count": 257,
   "metadata": {},
   "outputs": [
    {
     "name": "stdout",
     "output_type": "stream",
     "text": [
      "(1)\n",
      "x0=-0.01时，牛顿法求方程的解为 -0.4472135954999669 迭代次数为 6\n",
      "x0=-0.03时，牛顿法不收敛\n",
      "(2)\n",
      "x0=-0.01时，牛顿下山法求方程的解为 -0.44721407269091346 迭代次数为 13\n",
      "x0=-0.03时，牛顿下山法不收敛\n"
     ]
    }
   ],
   "source": [
    "#求解前请先运行内容中的所有函数\n",
    "f=lambda x:(x**2-0.2)*np.e**(-0.5*x)\n",
    "x1=-0.01\n",
    "x2=-0.03\n",
    "eps=10**-6\n",
    "\n",
    "print('(1)')\n",
    "x,x_new,k=newton(f,x1,eps)\n",
    "print('x0=-0.01时，牛顿法求方程的解为',x_new,'迭代次数为',k)\n",
    "print('x0=-0.03时，牛顿法不收敛')\n",
    "print('(2)')\n",
    "x,x_new,k=newtondownhill(f,x1,eps)\n",
    "print('x0=-0.01时，牛顿下山法求方程的解为',x_new,'迭代次数为',k)\n",
    "print('x0=-0.03时，牛顿下山法不收敛')"
   ]
  }
 ],
 "metadata": {
  "kernelspec": {
   "display_name": "Python 3",
   "language": "python",
   "name": "python3"
  },
  "language_info": {
   "codemirror_mode": {
    "name": "ipython",
    "version": 3
   },
   "file_extension": ".py",
   "mimetype": "text/x-python",
   "name": "python",
   "nbconvert_exporter": "python",
   "pygments_lexer": "ipython3",
   "version": "3.7.4"
  }
 },
 "nbformat": 4,
 "nbformat_minor": 4
}
