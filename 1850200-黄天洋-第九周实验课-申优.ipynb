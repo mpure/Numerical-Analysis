{
 "cells": [
  {
   "cell_type": "markdown",
   "metadata": {},
   "source": [
    "#### 1850200-黄天洋-第九周实验课-申优\n",
    "# 实践课9\n",
    "## 1&emsp;内容\n",
    "#### 1.&emsp;高维积分，矩形区域。"
   ]
  },
  {
   "cell_type": "code",
   "execution_count": 29,
   "metadata": {},
   "outputs": [
    {
     "name": "stdout",
     "output_type": "stream",
     "text": [
      "sin(x+y)在[0,pi/2]x[0,pi/4]上的积分为： 1.0000002340446086\n"
     ]
    }
   ],
   "source": [
    "import numpy as np\n",
    "\n",
    "#二重积分复合Simpson公式\n",
    "def highdim(f,a,b,n):\n",
    "    hx=(b[0]-a[0])/n/2\n",
    "    hy=(b[1]-a[1])/n/2\n",
    "    dx=np.linspace(a[0],b[0],2*n+1)\n",
    "    dy=np.linspace(a[1],b[1],2*n+1)\n",
    "    quad1=(f(dx[0],dy[0])+2*np.sum(f(dx[2:2*n-1:2],dy[0]))\n",
    "          +4*np.sum(f(dx[1:2*n:2],dy[0]))+f(dx[2*n],dy[0])\n",
    "          +2*np.sum(f(dx[0],dy[2:2*n-1:2]))+2*np.sum(f(dx[2*n],dy[2:2*n-1:2]))\n",
    "          +4*np.sum(f(dx[0],dy[1:2*n:2]))+4*np.sum(f(dx[2*n],dy[1:2*n:2]))\n",
    "          +f(dx[0],dy[2*n])+2*np.sum(f(dx[1:2*n:2],dy[2*n]))\n",
    "          +4*np.sum(f(dx[1:2*n:2],dy[2*n]))+f(dx[2*n],dy[2*n]))\n",
    "    quad2=0\n",
    "    for i in range(n-1):\n",
    "        quad2=quad2+4*np.sum(f(dx[2:2*n-1:2],dy[2*i+2]))+8*np.sum(f(dx[1:2*n:2],dy[2*i+2]))\n",
    "    quad3=0\n",
    "    for j in range(n):\n",
    "        quad3=quad3+8*np.sum(f(dx[2:2*n-1:2],dy[2*j+1]))+16*np.sum(f(dx[1:2*n:2],dy[2*j+1]))\n",
    "    \n",
    "    return (quad1+quad2+quad3)*hx*hy/9\n",
    "\n",
    "#计算sin(x+y)在[0,1]x[0,1]上积分\n",
    "f=lambda x,y:np.sin(x+y)\n",
    "a=[0,0]\n",
    "b=[np.pi/4,np.pi/2]\n",
    "n=500\n",
    "print('sin(x+y)在[0,pi/2]x[0,pi/4]上的积分为：',highdim(f,a,b,n))"
   ]
  },
  {
   "cell_type": "markdown",
   "metadata": {},
   "source": [
    "#### 2.&emsp;蒙特卡洛计算积分"
   ]
  },
  {
   "cell_type": "code",
   "execution_count": 30,
   "metadata": {},
   "outputs": [
    {
     "name": "stdout",
     "output_type": "stream",
     "text": [
      "sin(x+y)在[0,pi/2]x[0,pi/4]上的积分为： 1.0034239519738937\n"
     ]
    }
   ],
   "source": [
    "import numpy as np\n",
    "\n",
    "#蒙特卡洛n维求积\n",
    "def montecarlo(f,a,b,n):\n",
    "    ndim=np.size(a)\n",
    "    quad=0\n",
    "    h=1\n",
    "    for i in range(ndim):\n",
    "        h=h*(b[i]-a[i])\n",
    "    k=0\n",
    "    while k<n:\n",
    "        dx=np.zeros(ndim)\n",
    "        for i in range(ndim):\n",
    "            dx[i]=dx[i]+np.random.rand()*(b[i]-a[i])+a[i]\n",
    "        quad=quad+f(dx)\n",
    "        k=k+1\n",
    "    quad=quad*h/n\n",
    "    return quad\n",
    "\n",
    "#计算sin(x+y)在[0,1]x[0,1]上积分\n",
    "f=lambda x:np.sin(x[0]+x[1])\n",
    "a=[0,0]\n",
    "b=[np.pi/4,np.pi/2]\n",
    "n=500\n",
    "print('sin(x+y)在[0,pi/2]x[0,pi/4]上的积分为：',montecarlo(f,a,b,n))"
   ]
  },
  {
   "cell_type": "markdown",
   "metadata": {},
   "source": [
    "#### 3. 积分方程。"
   ]
  },
  {
   "cell_type": "code",
   "execution_count": 87,
   "metadata": {},
   "outputs": [
    {
     "name": "stdout",
     "output_type": "stream",
     "text": [
      "求解右端((x^2+1)^1.5-x^3)/3，左端(x^2+s^2)^0.5在[0,1]上积分的方程，取n=10：\n",
      "        10         9         8         7         6         5         4\n",
      "-2.837 x  + 15.95 x - 39.58 x + 57.45 x - 54.71 x + 36.67 x - 18.21 x\n",
      "          3         2\n",
      " + 6.787 x - 1.614 x - 0.02629 x + 0.6667\n"
     ]
    }
   ],
   "source": [
    "import numpy as np\n",
    "from numpy.linalg import solve\n",
    "\n",
    "#复合辛普森公式\n",
    "def compound_simpson(f,a,b,n):\n",
    "    h=(b-a)/n\n",
    "    x=np.linspace(a,b,2*n+1)\n",
    "    y=f(x)\n",
    "    quad=h/6*(y[0]+2*np.sum(y[2:2*n-1:2])+4*np.sum(y[1:2*n:2])+y[2*n])\n",
    "    return quad\n",
    "\n",
    "#积分方程求解\n",
    "def int_solve(f,g,a,b,n):\n",
    "    A=np.zeros((n+1,n+1))\n",
    "    Y=np.zeros(n+1)\n",
    "    dx=np.linspace(a,b,n+1)\n",
    "    for i in range(n+1):\n",
    "        for j in range(n+1):\n",
    "            A[i,j]=dx[i]**(n-j)\n",
    "        y=lambda x:g(dx[i],x)\n",
    "        Y[i]=f(dx[i])/compound_simpson(y,a,b,n)\n",
    "    s=solve(np.mat(A),np.mat(Y).T).getA().reshape(1,-1)[0]\n",
    "    return np.poly1d(s)\n",
    "\n",
    "def f(x):\n",
    "    return ((x**2+1)**(3/2)-x**3)/3\n",
    "def g(s,x):\n",
    "    return (s**2+x**2)**0.5\n",
    "print('求解右端((x^2+1)^1.5-x^3)/3，左端(x^2+s^2)^0.5在[0,1]上积分的方程，取n=10：')\n",
    "print(int_solve(f,g,0,1,10))"
   ]
  },
  {
   "cell_type": "markdown",
   "metadata": {},
   "source": [
    "#### 4.&emsp;函数*integrate.quad(func,a,b,args,full_output)*"
   ]
  },
  {
   "cell_type": "code",
   "execution_count": 27,
   "metadata": {},
   "outputs": [
    {
     "name": "stdout",
     "output_type": "stream",
     "text": [
      "sinx/x在[0,2]上的积分为： 1.6054129768026946\n"
     ]
    }
   ],
   "source": [
    "import numpy as np\n",
    "from scipy.integrate import quad\n",
    "\n",
    "#积分quad求sinx/x积分\n",
    "val,err=quad(lambda x:np.sin(x)/x,\n",
    "             0,\n",
    "             2)\n",
    "print ('sinx/x在[0,2]上的积分为：',val)"
   ]
  },
  {
   "cell_type": "markdown",
   "metadata": {},
   "source": [
    "#### 5.&emsp;函数*integrate.dblquad(func,a,b,gfun,hfun,args,epsabs,epsrel)*"
   ]
  },
  {
   "cell_type": "code",
   "execution_count": 31,
   "metadata": {},
   "outputs": [
    {
     "name": "stdout",
     "output_type": "stream",
     "text": [
      "sin(x+y)在[0,pi/2]x[0,pi/4]上的积分为： 0.9999999999999999\n"
     ]
    }
   ],
   "source": [
    "import numpy as np\n",
    "from scipy.integrate import dblquad\n",
    "\n",
    "#二重积分dbl求sin(x+y)积分\n",
    "val,err=dblquad(lambda x,y:np.sin(x+y),\n",
    "             0,\n",
    "             np.pi/2,\n",
    "             lambda x:0,\n",
    "             lambda x:np.pi/4)\n",
    "print ('sin(x+y)在[0,pi/2]x[0,pi/4]上的积分为：',val)"
   ]
  },
  {
   "cell_type": "markdown",
   "metadata": {},
   "source": [
    "#### 6.&emsp;函数*integrate.tplquad(func,a,b,gfun,hfun,qfun,rfun,args,epsabs,epsrel)*"
   ]
  },
  {
   "cell_type": "code",
   "execution_count": 32,
   "metadata": {},
   "outputs": [
    {
     "name": "stdout",
     "output_type": "stream",
     "text": [
      "sin(-x-y-z)在[0,1]x[0,1]x[0,1上的积分为： -0.8793549306454008\n"
     ]
    }
   ],
   "source": [
    "import numpy as np\n",
    "from scipy.integrate import tplquad\n",
    "\n",
    "#三重积分tpl求sin(-x-y-z)积分\n",
    "val,err=tplquad(lambda x,y,z:np.sin(-x-y-z),\n",
    "             0,\n",
    "             1,\n",
    "             lambda x:0,\n",
    "             lambda x:1,\n",
    "             lambda x,y:0,\n",
    "             lambda x,y:1)\n",
    "print ('sin(-x-y-z)在[0,1]x[0,1]x[0,1上的积分为：',val)"
   ]
  },
  {
   "cell_type": "markdown",
   "metadata": {},
   "source": [
    "## 2.&emsp;练习\n",
    "#### 1.&emsp;分别取样本数$n=100,1000,10000$，用蒙特卡洛方法计算积分\n",
    "$$(1)\\int_0^2\\int_0^1e^{-\\frac{x_1^2+x_2^2}{2}}\\dfrac{1}{1+x_1^2+x_2^2}dx_1dx_2\n",
    "\\qquad\\qquad\n",
    "(2)\\int_{-\\infty}^{+\\infty}e^{-x^3}dx$$"
   ]
  },
  {
   "cell_type": "code",
   "execution_count": 33,
   "metadata": {},
   "outputs": [
    {
     "name": "stdout",
     "output_type": "stream",
     "text": [
      "（1）\n",
      "n=100时，积分为： 0.6533763190046509\n",
      "n=1000时，积分为： 0.5777678673391308\n",
      "n=10000时，积分为： 0.5761347717397463\n",
      "（2）\n",
      "n=100时，积分为： [inf]\n",
      "n=1000时，积分为： [inf]\n",
      "n=10000时，积分为： [inf]\n"
     ]
    },
    {
     "name": "stderr",
     "output_type": "stream",
     "text": [
      "C:\\Users\\mpure\\Anaconda3\\lib\\site-packages\\ipykernel_launcher.py:31: RuntimeWarning: overflow encountered in power\n"
     ]
    }
   ],
   "source": [
    "import numpy as np\n",
    "\n",
    "#蒙特卡洛求积函数\n",
    "def montecarlo(f,a,b,n):\n",
    "    ndim=np.size(a)\n",
    "    quad=0\n",
    "    h=1\n",
    "    for i in range(ndim):\n",
    "        h=h*(b[i]-a[i])\n",
    "    k=0\n",
    "    while k<n:\n",
    "        dx=np.zeros(ndim)\n",
    "        for i in range(ndim):\n",
    "            dx[i]=dx[i]+np.random.rand()*(b[i]-a[i])+a[i]\n",
    "        quad=quad+f(dx)\n",
    "        k=k+1\n",
    "    quad=quad*h/n\n",
    "    return quad\n",
    "\n",
    "print('（1）')\n",
    "#n=100,1000,10000时使用蒙特卡洛计算积分\n",
    "f1=lambda x:np.e**(-(x[0]**2+x[1]**2)/2)/(1+x[0]**2+x[1]**2)\n",
    "a=np.array([0,0])\n",
    "b=np.array([1,2])\n",
    "print('n=100时，积分为：',montecarlo(f1,a,b,100))\n",
    "print('n=1000时，积分为：',montecarlo(f1,a,b,1000))\n",
    "print('n=10000时，积分为：',montecarlo(f1,a,b,10000))\n",
    "\n",
    "print('（2）')\n",
    "#n=100,1000,10000时使用蒙特卡洛计算积分（用10000代替极限）\n",
    "f2=lambda x:np.e**(-x**3)\n",
    "a=np.array([-10000])\n",
    "b=np.array([10000])\n",
    "print('n=100时，积分为：',montecarlo(f2,a,b,100))\n",
    "print('n=1000时，积分为：',montecarlo(f2,a,b,1000))\n",
    "print('n=10000时，积分为：',montecarlo(f2,a,b,10000))"
   ]
  },
  {
   "cell_type": "markdown",
   "metadata": {},
   "source": [
    "#### 2.&emsp;计算如下积分\n",
    "\n",
    "$$(1)\\int_0^1\\int_0^1\\sin(-\\sum_{i=1}^2x_i)dx_1dx_2$$\n",
    "\n",
    "$$(2)\\int_0^1\\int_0^1\\int_0^1\\sin(-\\sum_{i=1}^3x_i)dx_1dx_2dx_3$$\n",
    "\n",
    "$$(3)\\int_0^1\\int_0^1\\int_0^1\\int_0^1\\sin(-\\sum_{i=1}^4x_i)dx_1dx_2dx_3dx_4$$"
   ]
  },
  {
   "cell_type": "code",
   "execution_count": 34,
   "metadata": {},
   "outputs": [
    {
     "name": "stdout",
     "output_type": "stream",
     "text": [
      "（1）的结果为： -0.7736445427901113\n",
      "（2）的结果为： -0.8793549306454008\n",
      "（3）的结果为： -0.768618094175107\n"
     ]
    }
   ],
   "source": [
    "import numpy as np\n",
    "from scipy.integrate import dblquad\n",
    "from scipy.integrate import tplquad\n",
    "from scipy.integrate import nquad\n",
    "\n",
    "#分别使用dbl,tpl,nquad计算二、三、四重积分\n",
    "val1,err1=dblquad(lambda x,y:np.sin(-x-y),\n",
    "             0,\n",
    "             1,\n",
    "             lambda x:0,\n",
    "             lambda x:1)\n",
    "val2,err2=tplquad(lambda x,y,z:np.sin(-x-y-z),\n",
    "             0,\n",
    "             1,\n",
    "             lambda x:0,\n",
    "             lambda x:1,\n",
    "             lambda x,y:0,\n",
    "             lambda x,y:1)\n",
    "val3,err3=nquad(lambda x1,x2,x3,x4:np.sin(-x1-x2-x3-x4),\n",
    "               [np.array([0,1]),np.array([0,1]),np.array([0,1]),np.array([0,1])])\n",
    "print('（1）的结果为：',val1)\n",
    "print('（2）的结果为：',val2)\n",
    "print('（3）的结果为：',val3)"
   ]
  },
  {
   "cell_type": "markdown",
   "metadata": {},
   "source": [
    "#### 3.&emsp;计算如下积分\n",
    "\n",
    "$$(1)\\int_1^2\\int_1^x\\sin(x+y)dydx$$\n",
    "\n",
    "$$(2)\\iint\\limits_D(x+y)dxdy,D=\\left\\{(x,y):x^2+2y^2=1\\right\\}$$"
   ]
  },
  {
   "cell_type": "code",
   "execution_count": 35,
   "metadata": {},
   "outputs": [
    {
     "name": "stdout",
     "output_type": "stream",
     "text": [
      "（1）的结果为： 0.06487254230099047\n",
      "（2）的结果为： 0.0\n"
     ]
    }
   ],
   "source": [
    "import numpy as np\n",
    "from scipy.integrate import dblquad\n",
    "\n",
    "#使用dbl计算二重积分\n",
    "val1,err1=dblquad(lambda x,y:np.sin(x+y),\n",
    "             1,\n",
    "             2,\n",
    "             lambda x:1,\n",
    "             lambda x:x)\n",
    "val2,err2=dblquad(lambda x,y:x+y,\n",
    "             -1,\n",
    "             1,\n",
    "             lambda x:-np.sqrt((1-x**2)/2),\n",
    "             lambda x:np.sqrt((1-x**2)/2))\n",
    "print('（1）的结果为：',val1)\n",
    "print('（2）的结果为：',val2)"
   ]
  },
  {
   "cell_type": "markdown",
   "metadata": {},
   "source": [
    "## 3&emsp;作业\n",
    "#### **1.&emsp;蒙特卡洛方法计算积分**\n",
    "实验目的：蒙特卡罗方法<br/>\n",
    "实验内容：分别取样本数$n=100,1000,10000$，用蒙特卡罗方法计算积分\n",
    "$$(\\dfrac{1}{\\sqrt{2\\pi}})^2\\int_{-\\infty}^{+\\infty}\\int_{-\\infty}^{+\\infty}e^{-\\frac{x_1^2+x_2^2}{2}}\\dfrac{1}{1+x_1^2+x_2^2}dx_1dx_2$$"
   ]
  },
  {
   "cell_type": "code",
   "execution_count": 46,
   "metadata": {},
   "outputs": [
    {
     "name": "stdout",
     "output_type": "stream",
     "text": [
      "n=100时，积分结果为： 0.0\n",
      "n=1000时，积分结果为： 0.0\n",
      "n=10000时，积分结果为： 0.0\n"
     ]
    }
   ],
   "source": [
    "import numpy as np\n",
    "\n",
    "#蒙特卡洛求积函数\n",
    "def montecarlo(f,a,b,n):\n",
    "    ndim=np.size(a)\n",
    "    quad=0\n",
    "    h=1\n",
    "    for i in range(ndim):\n",
    "        h=h*(b[i]-a[i])\n",
    "    k=0\n",
    "    while k<n:\n",
    "        dx=np.zeros(ndim)\n",
    "        for i in range(ndim):\n",
    "            dx[i]=dx[i]+np.random.rand()*(b[i]-a[i])+a[i]\n",
    "        quad=quad+f(dx)\n",
    "        k=k+1\n",
    "    quad=quad*h/n\n",
    "    return quad\n",
    "\n",
    "f=lambda x:1/(2*np.pi)*np.e**(-(x[0]**2+x[1]**2)/2)/(1+x[0]**2+x[1]**2)\n",
    "a=np.array([-10000,-10000])\n",
    "b=np.array([10000,10000])\n",
    "print('n=100时，积分结果为：',montecarlo(f,a,b,100))\n",
    "print('n=1000时，积分结果为：',montecarlo(f,a,b,1000))\n",
    "print('n=10000时，积分结果为：',montecarlo(f,a,b,10000))"
   ]
  },
  {
   "cell_type": "markdown",
   "metadata": {},
   "source": [
    "#### **2.&emsp;积分方程求解**\n",
    "实验目的：利用数值积分构造求解积分方程的数值解法<br/>\n",
    "实验内容：考虑积分方程\n",
    "$$\\int_0^1(x^2+s^2)^\\frac{1}{2}u(s)ds=\\dfrac{(x^2+1)^\\frac{3}{2}-x^3}{3},x\\in\\left[0,1\\right]$$\n",
    "按如下步骤求解该积分方程：<br/>\n",
    "(1)将区间$\\left[0,1\\right]$等距离散：$0=x_0<x_1<\\cdots<x_n=1$并设$u(x_i)\\approx u_i,(i=0,1,\\cdots,n)$记$U=(u_0,u_1,\\cdots,u_n)^T$<br/>\n",
    "(2)对于每个节$x_i$，其对应的线性方程可用复合辛普森公式近似替代\n",
    "$$\\int_0^1(x_i^2+s^2)^\\frac{1}{2}u(s)ds=\\dfrac{(x_i^2+1)^\\frac{3}{2}-x_i^3}{3},i=0,1,\\cdots,n$$\n",
    "等号左边的积分项得到。于是，可得到线性方程组$AU=Y$ ，其中$A$为一个$n+1$阶方阵<br/>\n",
    "(3)求解该方程组<br/>\n",
    "分别取$n=4,8,16,32$进行计算，绘出相应的数值解图形，并分析系数矩阵$A$的条件数与$n$的关系"
   ]
  },
  {
   "cell_type": "code",
   "execution_count": 101,
   "metadata": {},
   "outputs": [
    {
     "name": "stdout",
     "output_type": "stream",
     "text": [
      "n=4时，数值解为：\n",
      "         4         3          2\n",
      "-0.2632 x + 0.582 x - 0.3115 x - 0.1429 x + 0.6667\n",
      "系数矩阵A的条件数为： 686.4349418185968\n",
      "n=8时，数值解为：\n",
      "        8         7         6         5         4         3        2\n",
      "-1.019 x + 4.987 x - 10.64 x + 13.07 x - 10.21 x + 5.142 x - 1.43 x - 0.03468 x + 0.6667\n",
      "系数矩阵A的条件数为： 2009396.380041306\n",
      "n=16时，数值解为：\n",
      "        16        15        14             13             12\n",
      "-280.9 x  + 2404 x  - 9464 x  + 2.274e+04 x  - 3.728e+04 x \n",
      "              11             10             9            8        7\n",
      " + 4.419e+04 x  - 3.913e+04 x  + 2.639e+04 x - 1.37e+04 x + 5490 x\n",
      "         6         5         4        3         2\n",
      " - 1701 x + 408.9 x - 78.69 x + 13.4 x - 2.043 x - 0.01404 x + 0.6667\n",
      "系数矩阵A的条件数为： 24217818295720.707\n",
      "n=32时，数值解为：\n",
      "           32             31             30             29\n",
      "5.254e+06 x  - 4.599e+08 x  + 5.124e+09 x  - 2.801e+10 x \n",
      "              28             27             26            25\n",
      " + 9.591e+10 x  - 2.278e+11 x  + 3.943e+11 x  - 5.09e+11 x \n",
      "              24             23             22            21\n",
      " + 4.902e+11 x  - 3.428e+11 x  + 1.602e+11 x  - 3.84e+10 x \n",
      "             20             19             18             17\n",
      " + 1.41e+09 x  - 1.048e+10 x  + 2.139e+10 x  - 1.888e+10 x \n",
      "              16             15             14             13\n",
      " + 9.533e+09 x  - 2.158e+09 x  - 8.199e+08 x  + 1.098e+09 x \n",
      "              12             11             10             9\n",
      " - 6.226e+08 x  + 2.436e+08 x  - 7.253e+07 x  + 1.702e+07 x\n",
      "              8             7             6        5         4\n",
      " - 3.192e+06 x + 4.801e+05 x - 5.785e+04 x + 5578 x - 436.7 x\n",
      "          3         2\n",
      " + 30.94 x - 2.582 x - 0.006318 x + 0.6667\n",
      "系数矩阵A的条件数为： 5.2047634292877626e+17\n",
      "故系数矩阵A的条件数随n增大而增大\n"
     ]
    },
    {
     "data": {
      "image/png": "[encoded data removed]",
      "text/plain": [
       "<Figure size 432x288 with 1 Axes>"
      ]
     },
     "metadata": {
      "needs_background": "light"
     },
     "output_type": "display_data"
    }
   ],
   "source": [
    "import numpy as np\n",
    "from numpy.linalg import solve\n",
    "import matplotlib.pyplot as plt\n",
    "\n",
    "#复合辛普森公式\n",
    "def compound_simpson(f,a,b,n):\n",
    "    h=(b-a)/n\n",
    "    x=np.linspace(a,b,2*n+1)\n",
    "    y=f(x)\n",
    "    quad=h/6*(y[0]+2*np.sum(y[2:2*n-1:2])+4*np.sum(y[1:2*n:2])+y[2*n])\n",
    "    return quad\n",
    "\n",
    "#积分方程求解\n",
    "def int_solve(f,g,a,b,n):\n",
    "    A=np.zeros((n+1,n+1))\n",
    "    Y=np.zeros(n+1)\n",
    "    dx=np.linspace(a,b,n+1)\n",
    "    for i in range(n+1):\n",
    "        for j in range(n+1):\n",
    "            A[i,j]=dx[i]**(n-j)\n",
    "        y=lambda x:g(dx[i],x)\n",
    "        Y[i]=f(dx[i])/compound_simpson(y,a,b,n)\n",
    "    s=solve(np.mat(A),np.mat(Y).T).getA().reshape(1,-1)[0]\n",
    "    return np.poly1d(s),A\n",
    "\n",
    "def f(x):\n",
    "    return ((x**2+1)**(3/2)-x**3)/3\n",
    "def g(s,x):\n",
    "    return (s**2+x**2)**0.5\n",
    "print('n=4时，数值解为：')\n",
    "print(int_solve(f,g,0,1,4)[0])\n",
    "print('系数矩阵A的条件数为：',np.linalg.cond(int_solve(f,g,0,1,4)[1]))\n",
    "print('n=8时，数值解为：')\n",
    "print(int_solve(f,g,0,1,8)[0])\n",
    "print('系数矩阵A的条件数为：',np.linalg.cond(int_solve(f,g,0,1,8)[1]))\n",
    "print('n=16时，数值解为：')\n",
    "print(int_solve(f,g,0,1,16)[0])\n",
    "print('系数矩阵A的条件数为：',np.linalg.cond(int_solve(f,g,0,1,16)[1]))\n",
    "print('n=32时，数值解为：')\n",
    "print(int_solve(f,g,0,1,32)[0])\n",
    "print('系数矩阵A的条件数为：',np.linalg.cond(int_solve(f,g,0,1,32)[1]))\n",
    "print('故系数矩阵A的条件数随n增大而增大')\n",
    "\n",
    "#数值解绘图\n",
    "xx=np.linspace(0,1,100)\n",
    "plt.plot(xx,int_solve(f,g,0,1,4)[0](xx),label='n=4')\n",
    "plt.plot(xx,int_solve(f,g,0,1,8)[0](xx),label='n=8')\n",
    "plt.plot(xx,int_solve(f,g,0,1,16)[0](xx),label='n=16')\n",
    "plt.plot(xx,int_solve(f,g,0,1,32)[0](xx),label='n=32')\n",
    "plt.title('Numerical Solutions')\n",
    "plt.legend()\n",
    "plt.show()"
   ]
  },
  {
   "cell_type": "markdown",
   "metadata": {},
   "source": [
    "#### **3.&emsp;高位积分的蒙特卡洛方法**\n",
    "实验目的：高位积分的蒙特卡罗方法<br/>\n",
    "实验内容：对于任意维区域$\\Omega$，计算其测度的一般方法是：<br/>\n",
    "找一个规则区域$A$包含$\\Omega$，且$A$的测度是已知的，生成区域$A$中的$m$个均匀分布的随机点$pi,i=1,2,\\cdots,m$，如果其中有$n$个落在区域$\\Omega$中，则区域$\\Omega$的测度等于$\\dfrac{n}{m}$乘以区域$A$的测度。<br/>\n",
    "而函数$f(x)$在区域$\\Omega$上的积分可用如下公式近似计算：\n",
    "$$\\int_\\Omega f(x)dx\\approx \\text{means}(\\Omega)\\times\\dfrac{1}{n}\\sum_{p_k\\in\\Omega}f(p_k)$$\n",
    "其中$\\text{means}(\\Omega)$表示区域$\\Omega$的测度<br/>\n",
    "利用上述方法，计算冰淇淋的体积。假设冰淇淋的下部为一椎体，而上部为一球体，其中锥面为$z^2=x^2+y^2$，球面为$x^2+y^2+(z-1)^2=1$。区域$A$可选取为立方体\n",
    "$$A=\\left\\{(x,y,z)\\in R^3:x\\in\\left[-1,1\\right],y\\in\\left[-1,1\\right],z\\in\\left[0,2\\right]\\right\\}$$"
   ]
  },
  {
   "cell_type": "code",
   "execution_count": 62,
   "metadata": {},
   "outputs": [
    {
     "name": "stdout",
     "output_type": "stream",
     "text": [
      "冰激凌的体积为： 3.14704\n"
     ]
    }
   ],
   "source": [
    "import numpy as np\n",
    "\n",
    "#蒙特卡洛求积\n",
    "a=np.array([-1,-1,0])\n",
    "b=np.array([1,1,2])\n",
    "it=100000\n",
    "k=0\n",
    "n=0\n",
    "m=0\n",
    "while k<it:\n",
    "    p=np.zeros(3)\n",
    "    for i in range(3):\n",
    "        p[i]=np.random.rand()*(b[i]-a[i])+a[i]\n",
    "    #若p落在冰激凌区域内则n+1\n",
    "    if p[2]>=1:\n",
    "        if p[0]**2+p[1]**2+(p[2]-1)**2<=1:\n",
    "            n=n+1\n",
    "    else:\n",
    "        if p[0]**2+p[1]**2<=p[2]**2:\n",
    "            n=n+1\n",
    "    m=m+1\n",
    "    k=k+1\n",
    "print('冰激凌的体积为：',n/m*(2**3))"
   ]
  }
 ],
 "metadata": {
  "kernelspec": {
   "display_name": "Python 3",
   "language": "python",
   "name": "python3"
  },
  "language_info": {
   "codemirror_mode": {
    "name": "ipython",
    "version": 3
   },
   "file_extension": ".py",
   "mimetype": "text/x-python",
   "name": "python",
   "nbconvert_exporter": "python",
   "pygments_lexer": "ipython3",
   "version": "3.7.4"
  }
 },
 "nbformat": 4,
 "nbformat_minor": 4
}
