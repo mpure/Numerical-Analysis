{
 "cells": [
  {
   "cell_type": "markdown",
   "metadata": {},
   "source": [
    "# 实践4\n",
    "## 内容：\n",
    "##### 1&emsp;Python函数\n",
    "$\\blacktriangleright$&emsp;csr_matrix&emsp;&emsp;&emsp;%生成稀疏数组"
   ]
  },
  {
   "cell_type": "code",
   "execution_count": 13,
   "metadata": {},
   "outputs": [
    {
     "name": "stdout",
     "output_type": "stream",
     "text": [
      "[[1 0 2 0]\n",
      " [0 0 0 0]\n",
      " [0 0 0 0]\n",
      " [0 0 0 0]]\n"
     ]
    }
   ],
   "source": [
    "from scipy.sparse import *\n",
    "import numpy as np\n",
    "row=np.array([0,0])\n",
    "col=np.array([0,2])\n",
    "data=np.array([1,2])\n",
    "print(csr_matrix((data,(row,col)),shape=(4,4)).todense())"
   ]
  },
  {
   "cell_type": "markdown",
   "metadata": {},
   "source": [
    "$\\blacktriangleright$&emsp;pascal&emsp;&emsp;&emsp;%Pascal矩阵"
   ]
  },
  {
   "cell_type": "code",
   "execution_count": 14,
   "metadata": {},
   "outputs": [
    {
     "data": {
      "text/plain": [
       "array([[ 1,  1,  1,  1],\n",
       "       [ 1,  2,  3,  4],\n",
       "       [ 1,  3,  6, 10],\n",
       "       [ 1,  4, 10, 20]], dtype=uint64)"
      ]
     },
     "execution_count": 14,
     "metadata": {},
     "output_type": "execute_result"
    }
   ],
   "source": [
    "from scipy.linalg import *\n",
    "pascal(4)"
   ]
  },
  {
   "cell_type": "markdown",
   "metadata": {},
   "source": [
    "$\\blacktriangleright$&emsp;qr&emsp;&emsp;&emsp;%正交分解"
   ]
  },
  {
   "cell_type": "code",
   "execution_count": 15,
   "metadata": {},
   "outputs": [
    {
     "data": {
      "text/plain": [
       "(array([[-0.5       ,  0.67082039,  0.5       ,  0.2236068 ],\n",
       "        [-0.5       ,  0.2236068 , -0.5       , -0.67082039],\n",
       "        [-0.5       , -0.2236068 , -0.5       ,  0.67082039],\n",
       "        [-0.5       , -0.67082039,  0.5       , -0.2236068 ]]),\n",
       " array([[ -2.        ,  -5.        , -10.        , -17.5       ],\n",
       "        [  0.        ,  -2.23606798,  -6.70820393, -14.08722826],\n",
       "        [  0.        ,   0.        ,   1.        ,   3.5       ],\n",
       "        [  0.        ,   0.        ,   0.        ,  -0.2236068 ]]))"
      ]
     },
     "execution_count": 15,
     "metadata": {},
     "output_type": "execute_result"
    }
   ],
   "source": [
    "from scipy.linalg import *\n",
    "p=pascal(4)\n",
    "qr(p)"
   ]
  },
  {
   "cell_type": "markdown",
   "metadata": {},
   "source": [
    "$\\blacktriangleright$&emsp;svd&emsp;&emsp;&emsp;%奇异值分解"
   ]
  },
  {
   "cell_type": "code",
   "execution_count": 16,
   "metadata": {},
   "outputs": [
    {
     "data": {
      "text/plain": [
       "(array([[-0.06018672, -0.53036572,  0.78727538, -0.30868632],\n",
       "        [-0.20117267, -0.64033173, -0.16323365,  0.72309032],\n",
       "        [-0.45808233, -0.39183213, -0.53210669, -0.59455078],\n",
       "        [-0.8637521 ,  0.39389727,  0.26535773,  0.16841176]]),\n",
       " array([26.30470327,  2.20344617,  0.45383455,  0.03801602]),\n",
       " array([[-0.06018672, -0.20117267, -0.45808233, -0.8637521 ],\n",
       "        [-0.53036572, -0.64033173, -0.39183213,  0.39389727],\n",
       "        [ 0.78727538, -0.16323365, -0.53210669,  0.26535773],\n",
       "        [-0.30868632,  0.72309032, -0.59455078,  0.16841176]]))"
      ]
     },
     "execution_count": 16,
     "metadata": {},
     "output_type": "execute_result"
    }
   ],
   "source": [
    "from scipy.linalg import *\n",
    "p=pascal(4)\n",
    "svd(p)"
   ]
  },
  {
   "cell_type": "markdown",
   "metadata": {},
   "source": [
    "##### 2&emsp;myqr1.m&emsp;&emsp;&emsp;%利用Givens变换进行QR分解"
   ]
  },
  {
   "cell_type": "code",
   "execution_count": 26,
   "metadata": {},
   "outputs": [
    {
     "data": {
      "text/plain": [
       "(array([[ 0.577 , -0.707 ,  0.4082],\n",
       "        [ 0.577 ,  0.    , -0.8164],\n",
       "        [ 0.577 ,  0.707 ,  0.4082]], dtype=float16),\n",
       " array([[1.732 , 3.465 , 5.773 ],\n",
       "        [0.    , 1.414 , 3.535 ],\n",
       "        [0.    , 0.    , 0.4082]], dtype=float16))"
      ]
     },
     "execution_count": 26,
     "metadata": {},
     "output_type": "execute_result"
    }
   ],
   "source": [
    "from scipy.linalg import *\n",
    "import numpy as np\n",
    "def qr_givens(A):\n",
    "    R=A.copy()\n",
    "    m,n= np.shape(R)\n",
    "    Q=np.eye(n)\n",
    "    for j in range(n):\n",
    "        for i in range(m-1,j,-1):\n",
    "            if R[i,j]+R[j,j]!=0:\n",
    "                c=R[j,j]/np.linalg.norm([R[j,j],R[i,j]])\n",
    "                s=R[i,j]/np.linalg.norm([R[j,j],R[i,j]])\n",
    "                G=np.eye(m)\n",
    "                G[j,j]=c\n",
    "                G[j,i]=s\n",
    "                G[i,j]=-s\n",
    "                G[i,i]=c\n",
    "                Q=np.dot(G,Q)\n",
    "                R=np.dot(G,R)\n",
    "    Q=Q.T\n",
    "    return(Q.astype(np.float16),R.astype(np.float16))\n",
    "\n",
    "A=pascal(3)\n",
    "qr_givens(A)"
   ]
  },
  {
   "cell_type": "markdown",
   "metadata": {},
   "source": [
    "##### 3&emsp;myqr2.m&emsp;&emsp;&emsp;%利用Householder变换进行QR分解"
   ]
  },
  {
   "cell_type": "code",
   "execution_count": 18,
   "metadata": {},
   "outputs": [
    {
     "data": {
      "text/plain": [
       "(array([[ 0.577 , -0.707 ,  0.4082],\n",
       "        [ 0.577 , -0.    , -0.8164],\n",
       "        [ 0.577 ,  0.707 ,  0.4082]], dtype=float16),\n",
       " array([[ 1.732 ,  3.465 ,  5.773 ],\n",
       "        [ 0.    ,  1.414 ,  3.535 ],\n",
       "        [-0.    , -0.    ,  0.4082]], dtype=float16))"
      ]
     },
     "execution_count": 18,
     "metadata": {},
     "output_type": "execute_result"
    }
   ],
   "source": [
    "from scipy.linalg import *\n",
    "import numpy as np\n",
    "def qr_householder(A):\n",
    "    m,n=np.shape(A)\n",
    "    R=A.copy()\n",
    "    Q=np.eye(n)\n",
    "    for i in range(n-1):\n",
    "        a=R[i:,i]\n",
    "        la=np.linalg.norm(a)\n",
    "        e=np.zeros(n-i)\n",
    "        e[0]=1\n",
    "        w=(a.reshape(n-i,1)-la*e.reshape(n-i,1))/(np.linalg.norm(a.reshape(n-i,1)-la*e.reshape(n-i,1)))\n",
    "        if i==0:\n",
    "            H=np.eye(n-i)-2*np.dot(w,w.T)\n",
    "            Q=np.dot(Q,H)\n",
    "            R=np.dot(H,R)\n",
    "        else:\n",
    "            H0=np.eye(n-i)-2*np.dot(w,w.T)\n",
    "            H=np.eye(n)\n",
    "            for j in range(i,n):\n",
    "                H[j,i:]=H0[j-1,:]\n",
    "            Q=np.dot(Q,H)\n",
    "            R=np.dot(H,R)\n",
    "    return(Q.astype(np.float16),R.astype(np.float16))\n",
    "\n",
    "A=pascal(3)\n",
    "qr_householder(A)"
   ]
  },
  {
   "cell_type": "markdown",
   "metadata": {},
   "source": [
    "## 练习\n",
    "##### 1.&emsp;编写函数$\\text{MatPermutation}(i,j)$，生成如下置换阵\n",
    "$$P_{ij}=\\left(\n",
    "    \\begin{array}{ccccccc}\n",
    "     1& & & & & & \\\\\n",
    "     &\\ddots& & & & & \\\\\n",
    "     & &0 & &1& & \\\\\n",
    "     & & &\\ddots& & &\\\\\n",
    "     & &1 & &0& & \\\\\n",
    "     & & & & &\\ddots & \\\\\n",
    "     & & & & & &1 \\\\\n",
    "    \\end{array} \\right)\n",
    "     \\begin{array}{c}\n",
    "     & \\\\\n",
    "     & \\\\\n",
    "     &i \\\\\n",
    "     & \\\\\n",
    "     &j \\\\\n",
    "     & \\\\\n",
    "     & \\\\\n",
    "    \\end{array}\n",
    "$$"
   ]
  },
  {
   "cell_type": "code",
   "execution_count": 12,
   "metadata": {},
   "outputs": [
    {
     "data": {
      "text/plain": [
       "array([[1., 0., 0., 0., 0., 0., 0.],\n",
       "       [0., 0., 0., 0., 0., 0., 0.],\n",
       "       [0., 0., 0., 0., 1., 0., 0.],\n",
       "       [0., 0., 0., 0., 0., 0., 0.],\n",
       "       [0., 0., 1., 0., 0., 0., 0.],\n",
       "       [0., 0., 0., 0., 0., 0., 0.],\n",
       "       [0., 0., 0., 0., 0., 0., 1.]])"
      ]
     },
     "execution_count": 12,
     "metadata": {},
     "output_type": "execute_result"
    }
   ],
   "source": [
    "import numpy as np\n",
    "def MatPermutation(i,j):\n",
    "    n=i+j-1\n",
    "    P=np.zeros((n,n))\n",
    "    P[0,0]=1\n",
    "    P[n-1,n-1]=1\n",
    "    P[i-1,j-1]=1\n",
    "    P[j-1,i-1]=1\n",
    "    return(P)\n",
    "\n",
    "MatPermutation(3,5)"
   ]
  },
  {
   "cell_type": "markdown",
   "metadata": {},
   "source": [
    "##### 2.&emsp;编写函数$\\text{MatGivens}(i,j,\\theta)$，生成如下旋转换阵\n",
    "$$G(i,j,\\theta)=\\left(\n",
    "    \\begin{array}{ccccccc}\n",
    "     1& & & & & & \\\\\n",
    "     &\\ddots& & & & & \\\\\n",
    "     & &\\cos\\theta & &\\sin\\theta& & \\\\\n",
    "     & & &\\ddots& & &\\\\\n",
    "     & &-\\sin\\theta & &\\cos\\theta& & \\\\\n",
    "     & & & & &\\ddots & \\\\\n",
    "     & & & & & &1 \\\\\n",
    "    \\end{array} \\right)\n",
    "     \\begin{array}{c}\n",
    "     & \\\\\n",
    "     & \\\\\n",
    "     &i \\\\\n",
    "     & \\\\\n",
    "     &j \\\\\n",
    "     & \\\\\n",
    "     & \\\\\n",
    "    \\end{array}$$"
   ]
  },
  {
   "cell_type": "code",
   "execution_count": 3,
   "metadata": {},
   "outputs": [
    {
     "data": {
      "text/plain": [
       "array([[ 1.   ,  0.   ,  0.   ,  0.   ,  0.   ,  0.   ,  0.   ],\n",
       "       [ 0.   ,  0.   ,  0.   ,  0.   ,  0.   ,  0.   ,  0.   ],\n",
       "       [ 0.   ,  0.   ,  0.5  ,  0.   ,  0.866,  0.   ,  0.   ],\n",
       "       [ 0.   ,  0.   ,  0.   ,  0.   ,  0.   ,  0.   ,  0.   ],\n",
       "       [ 0.   ,  0.   , -0.866,  0.   ,  0.5  ,  0.   ,  0.   ],\n",
       "       [ 0.   ,  0.   ,  0.   ,  0.   ,  0.   ,  0.   ,  0.   ],\n",
       "       [ 0.   ,  0.   ,  0.   ,  0.   ,  0.   ,  0.   ,  1.   ]],\n",
       "      dtype=float16)"
      ]
     },
     "execution_count": 3,
     "metadata": {},
     "output_type": "execute_result"
    }
   ],
   "source": [
    "import numpy as np\n",
    "def MatGivens(i,j,theta):\n",
    "    n=i+j-1\n",
    "    P=np.zeros((n,n))\n",
    "    P[0,0]=1\n",
    "    P[n-1,n-1]=1\n",
    "    P[i-1,i-1]=np.cos(theta)\n",
    "    P[i-1,j-1]=np.sin(theta)\n",
    "    P[j-1,i-1]=-np.sin(theta)\n",
    "    P[j-1,j-1]=np.cos(theta)\n",
    "    return(P.astype(np.float16))\n",
    "\n",
    "MatGivens(3,5,np.pi/3)"
   ]
  },
  {
   "cell_type": "markdown",
   "metadata": {},
   "source": [
    "###### 3.&emsp;编写函数$\\text{MatHouseholder}(w)$，生成反射换阵\n",
    "$$P=I-2ww^T$$"
   ]
  },
  {
   "cell_type": "code",
   "execution_count": 23,
   "metadata": {},
   "outputs": [
    {
     "data": {
      "text/plain": [
       "matrix([[ -9, -21],\n",
       "        [-21, -49]])"
      ]
     },
     "execution_count": 23,
     "metadata": {},
     "output_type": "execute_result"
    }
   ],
   "source": [
    "import numpy as np\n",
    "def MatHouseholder(w):\n",
    "    P=1-2*np.dot(w,w.T)\n",
    "    return(P)\n",
    "\n",
    "w=np.mat('1 2;3 4')\n",
    "MatHouseholder(w)"
   ]
  },
  {
   "cell_type": "markdown",
   "metadata": {},
   "source": [
    "##### 4.&emsp;编写函数实现第1题和第2题中函数的稀疏数组版本，即$\\text{spMatPermutation}(i,j),\\text{spMatGivens}(i,j,\\theta)$"
   ]
  },
  {
   "cell_type": "code",
   "execution_count": 23,
   "metadata": {},
   "outputs": [
    {
     "name": "stdout",
     "output_type": "stream",
     "text": [
      "  (0, 0)\t1\n",
      "  (2, 4)\t1\n",
      "  (4, 2)\t1\n",
      "  (6, 6)\t1\n"
     ]
    }
   ],
   "source": [
    "from scipy.sparse import *\n",
    "import numpy as np\n",
    "def spMatPermutation(i,j):\n",
    "    n=i+j-1\n",
    "    row=np.array([0,n-1,i-1,j-1])\n",
    "    col=np.array([0,n-1,j-1,i-1])\n",
    "    data=np.array([1,1,1,1])\n",
    "    P=csr_matrix((data,(row,col)),shape=(n,n))\n",
    "    return(P)\n",
    "print(spMatPermutation(3,5))"
   ]
  },
  {
   "cell_type": "code",
   "execution_count": 25,
   "metadata": {},
   "outputs": [
    {
     "name": "stdout",
     "output_type": "stream",
     "text": [
      "  (0, 0)\t1.0\n",
      "  (2, 2)\t0.5000000000000001\n",
      "  (2, 4)\t0.8660254037844386\n",
      "  (4, 2)\t-0.8660254037844386\n",
      "  (4, 4)\t0.5000000000000001\n",
      "  (6, 6)\t1.0\n"
     ]
    }
   ],
   "source": [
    "from scipy.sparse import *\n",
    "import numpy as np\n",
    "def spMatGivens(i,j,theta):\n",
    "    n=i+j-1\n",
    "    row=np.array([0,n-1,i-1,i-1,j-1,j-1])\n",
    "    col=np.array([0,n-1,i-1,j-1,i-1,j-1])\n",
    "    data=np.array([1,1,np.cos(theta),np.sin(theta),-np.sin(theta),np.cos(theta)])\n",
    "    P=csr_matrix((data,(row,col)),shape=(n,n))\n",
    "    return(P)\n",
    "\n",
    "print(spMatGivens(3,5,np.pi/3))"
   ]
  },
  {
   "cell_type": "markdown",
   "metadata": {},
   "source": [
    "## 作业：\n",
    "##### **1.&emsp;正交矩阵判断**\n",
    "实验目的：正交矩阵的判断。<br/>\n",
    "实验内容：编写程序判断矩阵是否为正交矩阵。"
   ]
  },
  {
   "cell_type": "code",
   "execution_count": 5,
   "metadata": {},
   "outputs": [
    {
     "data": {
      "text/plain": [
       "'是正交矩阵'"
      ]
     },
     "execution_count": 5,
     "metadata": {},
     "output_type": "execute_result"
    }
   ],
   "source": [
    "import numpy as np\n",
    "def isorth(A):\n",
    "    m,n=A.shape\n",
    "    if np.linalg.norm(np.dot(A,A.T)-np.eye(n))<10**-5:\n",
    "        a=1\n",
    "    else:\n",
    "        a=0\n",
    "    if a==1:\n",
    "        return('是正交矩阵')\n",
    "    else:\n",
    "        return('不是正交矩阵')\n",
    "\n",
    "isorth(np.matrix([[1/2,-np.sqrt(3)/2],[np.sqrt(3)/2,1/2]]))"
   ]
  },
  {
   "cell_type": "markdown",
   "metadata": {},
   "source": [
    "##### **2.&emsp;用Givens变换化上海森伯格矩阵为上三角阵**\n",
    "实验目的：Givens变换。<br/>\n",
    "实验内容：用Givens变换把上海森伯格矩阵\n",
    "$$\\left(\n",
    "    \\begin{array}{ccccc}\n",
    "     15&4 &7 &0 &6 \\\\\n",
    "     12&3&0 &24 &9 \\\\\n",
    "     0&24 &81 &39 &40 \\\\\n",
    "     0&0 &32 &21&33 \\\\\n",
    "     0&0 &0 &15 &17 \\\\\n",
    "    \\end{array} \\right)\n",
    "$$\n",
    "化为上三角矩阵。"
   ]
  },
  {
   "cell_type": "code",
   "execution_count": 28,
   "metadata": {},
   "outputs": [
    {
     "name": "stdout",
     "output_type": "stream",
     "text": [
      "[[19.2    4.996  5.465 14.99  10.305]\n",
      " [ 0.    24.    81.    38.88  39.97 ]\n",
      " [ 0.    -0.    32.22  18.58  32.34 ]\n",
      " [-0.     0.     0.    26.11  15.87 ]\n",
      " [ 0.    -0.     0.    -0.     9.63 ]]\n"
     ]
    }
   ],
   "source": [
    "from scipy.linalg import *\n",
    "import numpy as np\n",
    "def qr_givens(A):\n",
    "    R=A.copy()\n",
    "    m,n= np.shape(R)\n",
    "    Q=np.eye(n)\n",
    "    for j in range(n):\n",
    "        for i in range(m-1,j,-1):\n",
    "            if R[i,j]+R[j,j]!=0:\n",
    "                c=R[j,j]/np.linalg.norm([R[j,j],R[i,j]])\n",
    "                s=R[i,j]/np.linalg.norm([R[j,j],R[i,j]])\n",
    "                G=np.eye(m)\n",
    "                G[j,j]=c\n",
    "                G[j,i]=s\n",
    "                G[i,j]=-s\n",
    "                G[i,i]=c\n",
    "                Q=np.dot(G,Q)\n",
    "                R=np.dot(G,R)\n",
    "    Q=Q.T\n",
    "    return(Q.astype(np.float16),R.astype(np.float16))\n",
    "\n",
    "A=np.mat('15 4 7 0 6;12 3 0 24 9;0 24 81 39 40;0 0 32 21 33;0 0 0 15 17')\n",
    "[Q,R]=qr_givens(A)\n",
    "print(R)"
   ]
  },
  {
   "cell_type": "markdown",
   "metadata": {},
   "source": [
    "##### **3.&emsp;正交三角分解**\n",
    "实验目的：正交三角分解。<br/>\n",
    "实验内容：利用施密特正交化过程进行正交三角分解。<br/>\n",
    "该算法如下：<br/>\n",
    "**Step1.**&emsp;设$a_1,a_2,\\cdots,a_n$是$n$阶非奇异矩阵$A$的列向量。<br/>\n",
    "**Step2.**&emsp;利用施密特正交化过程可得到：<br/>\n",
    "$b_1=a_1,\\quad e_1=\\dfrac{b_1}{\\parallel b_1\\parallel}$<br/>\n",
    "$b_2=a_2-\\left[a_2,e_1\\right]e_1,\\quad e_2=\\dfrac{b_2}{\\parallel b_2\\parallel}$<br/>\n",
    "$b_n=a_n-\\left[a_n,e_1\\right]e_1-\\left[a_n,e_2\\right]e_2-\\cdots -\\left[a_n,e_{n-1}\\right]e_{n-1},\\quad e_n=\\dfrac{b_n}{\\parallel b_n\\parallel}$<br/>\n",
    "即<br/>\n",
    "$a_1=b_1=\\parallel b_1\\parallel e_1$<br/>\n",
    "$a_2=b_2+\\left[a_2,e_1\\right]e_1=\\left[a_2,e_1\\right]e_1+\\parallel b_2\\parallel e_2$<br/>\n",
    "$a_n=b_n+\\left[a_n,e_1\\right]e_1+\\left[a_n,e_2\\right]e_2+\\cdots+\\left[a_n,e_{n-1}\\right]e_{n-1}=\\left[a_n,e_1\\right]e_1+\\left[a_n,e_2\\right]e_2+\\cdots+\\left[a_n,e_{n-1}\\right]e_{n-1}+\\parallel b_n\\parallel e_n$<br/>\n",
    "**Step3.**&emsp;于是，则有<br/>\n",
    "$A=(a_1,a_2,\\cdots,a_n)=(e_1,e_2,\\cdots,e_n)\n",
    "    \\left(\n",
    "    \\begin{array}{cccc}\n",
    "     \\parallel b_1\\parallel&\\left[a_2,e_1\\right] &\\ldots &\\left[a_n,e_1\\right] \\\\\n",
    "     &\\parallel b_2\\parallel &\\ldots &\\left[a_n,e_2\\right] \\\\\n",
    "     & &\\ddots &\\vdots \\\\\n",
    "     & & &\\parallel b_n\\parallel\\\\\n",
    "    \\end{array} \n",
    "    \\right):=QR$"
   ]
  },
  {
   "cell_type": "code",
   "execution_count": 31,
   "metadata": {},
   "outputs": [
    {
     "data": {
      "text/plain": [
       "(array([[ 0.577 , -0.707 ,  0.6045],\n",
       "        [ 0.577 , -0.    ,  0.5186],\n",
       "        [ 0.577 ,  0.707 ,  0.6045]], dtype=float16),\n",
       " array([[1.732, 3.465, 5.773],\n",
       "        [0.   , 1.414, 3.535],\n",
       "        [0.   , 0.   , 5.79 ]], dtype=float16))"
      ]
     },
     "execution_count": 31,
     "metadata": {},
     "output_type": "execute_result"
    }
   ],
   "source": [
    "from scipy.linalg import *\n",
    "import numpy as np\n",
    "def schmidt(A):\n",
    "    m,n=np.shape(A)\n",
    "    Q=np.zeros((n,n))\n",
    "    R=np.zeros((n,n))\n",
    "    a=A[:,0]\n",
    "    b=a\n",
    "    R[0,0]=np.linalg.norm(b)\n",
    "    Q[:,0]=b/R[0,0]\n",
    "    for j in range(1,n):\n",
    "        a=A[:,j]\n",
    "        for i in range(j):\n",
    "            R[i,j]=np.dot(a,Q[:,i])\n",
    "            b=a-R[i,j]*Q[:,i]\n",
    "        R[j,j]=np.linalg.norm(b)\n",
    "        Q[:,j]=b/R[j,j]\n",
    "    return(Q.astype(np.float16),R.astype(np.float16))\n",
    "\n",
    "A=pascal(3)\n",
    "schmidt(A)"
   ]
  },
  {
   "cell_type": "markdown",
   "metadata": {},
   "source": [
    "# 实践5\n",
    "## 内容：\n",
    "##### 1.&emsp;Python函数\n",
    "$\\blacktriangleright$&emsp;polyfit&emsp;&emsp;&emsp;%多项式拟合"
   ]
  },
  {
   "cell_type": "code",
   "execution_count": 1,
   "metadata": {},
   "outputs": [
    {
     "data": {
      "text/plain": [
       "array([ 0.08703704, -0.81349206,  1.69312169, -0.03968254])"
      ]
     },
     "execution_count": 1,
     "metadata": {},
     "output_type": "execute_result"
    }
   ],
   "source": [
    "import numpy as np\n",
    "x=np.array([0.0,1.0,2.0,3.0,4.0,5.0])\n",
    "y=np.array([0.0,0.8,0.9,0.1,-0.8,-1.0])\n",
    "np.polyfit(x, y, 3)"
   ]
  },
  {
   "cell_type": "markdown",
   "metadata": {},
   "source": [
    "$\\blacktriangleright$&emsp;polyval&emsp;&emsp;&emsp;%多项式求值"
   ]
  },
  {
   "cell_type": "code",
   "execution_count": 2,
   "metadata": {},
   "outputs": [
    {
     "data": {
      "text/plain": [
       "76"
      ]
     },
     "execution_count": 2,
     "metadata": {},
     "output_type": "execute_result"
    }
   ],
   "source": [
    "import numpy as np\n",
    "np.polyval([3,0,1], 5)  # 3 * 5**2 + 0 * 5**1 + 1"
   ]
  },
  {
   "cell_type": "markdown",
   "metadata": {},
   "source": [
    "$\\blacktriangleright$&emsp;plot&emsp;&emsp;&emsp;%打开图形窗口"
   ]
  },
  {
   "cell_type": "markdown",
   "metadata": {},
   "source": [
    "$\\blacktriangleright$&emsp;plot&emsp;&emsp;&emsp;%2维线图"
   ]
  },
  {
   "cell_type": "markdown",
   "metadata": {},
   "source": [
    "$\\blacktriangleright$&emsp;subplot&emsp;&emsp;&emsp;%绘制子图"
   ]
  },
  {
   "cell_type": "markdown",
   "metadata": {},
   "source": [
    "$\\blacktriangleright$&emsp;plot&emsp;&emsp;&emsp;%在当前图形窗口继续绘图"
   ]
  },
  {
   "cell_type": "code",
   "execution_count": 14,
   "metadata": {},
   "outputs": [
    {
     "data": {
      "text/plain": [
       "[<matplotlib.lines.Line2D at 0x16a9d21e388>]"
      ]
     },
     "execution_count": 14,
     "metadata": {},
     "output_type": "execute_result"
    },
    {
     "data": {
      "image/png": "[encoded data removed]",
      "text/plain": [
       "<Figure size 432x288 with 2 Axes>"
      ]
     },
     "metadata": {
      "needs_background": "light"
     },
     "output_type": "display_data"
    }
   ],
   "source": [
    "import numpy as np\n",
    "import matplotlib.pyplot as plt\n",
    "x1=np.arange(1,11,2)\n",
    "x2=np.arange(2,12,2)\n",
    "y1=x1**2\n",
    "y2=x2**1.5\n",
    "plt.subplot(1,2,1)\n",
    "plt.plot(x1,y1)\n",
    "plt.subplot(1,2,2)\n",
    "plt.plot(x1,y1)\n",
    "plt.plot(x2,y2)"
   ]
  },
  {
   "cell_type": "markdown",
   "metadata": {},
   "source": [
    "$\\blacktriangleright$&emsp;interp&emsp;&emsp;&emsp;%1维数据插值"
   ]
  },
  {
   "cell_type": "code",
   "execution_count": 24,
   "metadata": {},
   "outputs": [
    {
     "data": {
      "text/plain": [
       "2.46315"
      ]
     },
     "execution_count": 24,
     "metadata": {},
     "output_type": "execute_result"
    }
   ],
   "source": [
    "import numpy as np\n",
    "#lnx插值\n",
    "x=np.array([10,11,12,13,14])\n",
    "fx=np.array([2.3026,2.3979,2.4849,2.5649,2.6391])\n",
    "np.interp(11.75,x,fx)"
   ]
  },
  {
   "cell_type": "markdown",
   "metadata": {},
   "source": [
    "$\\blacktriangleright$&emsp;prod&emsp;&emsp;&emsp;%数组乘积"
   ]
  },
  {
   "cell_type": "code",
   "execution_count": 22,
   "metadata": {},
   "outputs": [
    {
     "data": {
      "text/plain": [
       "135135"
      ]
     },
     "execution_count": 22,
     "metadata": {},
     "output_type": "execute_result"
    }
   ],
   "source": [
    "import numpy as np\n",
    "a=np.arange(1,15,2)\n",
    "np.prod(a)"
   ]
  },
  {
   "cell_type": "markdown",
   "metadata": {},
   "source": [
    "$\\blacktriangleright$&emsp;time()&emsp;&emsp;&emsp;%计时器"
   ]
  },
  {
   "cell_type": "code",
   "execution_count": 21,
   "metadata": {},
   "outputs": [
    {
     "name": "stdout",
     "output_type": "stream",
     "text": [
      "0.00997471809387207\n"
     ]
    }
   ],
   "source": [
    "import time\n",
    "t0=time.time()\n",
    "\n",
    "a=0\n",
    "for i in range(100000):\n",
    "    a=a*i \n",
    "\n",
    "t1=time.time()\n",
    "print(t1-t0)"
   ]
  },
  {
   "cell_type": "markdown",
   "metadata": {},
   "source": [
    "2.&emsp;拉格朗日插值\n",
    "$$\\left(\n",
    "    \\begin{array}{cccc}\n",
    "     x_{p_1}-x_1&x_{p_2}-x_1 &\\ldots &x_{p_m}-x_1 \\\\\n",
    "     \\vdots&\\vdots&\\vdots &\\vdots \\\\\n",
    "     x_{p_1}-x_{i-1}&x_{p_2}-x_{i-1} &\\ldots &x_{p_m}-x_{i-1}\\\\\n",
    "     x_{p_1}-x_{i+1}&x_{p_2}-x_{i+1} &\\ldots &x_{p_m}-x_{i+1}\\\\\n",
    "     \\vdots&\\vdots &\\vdots &\\vdots\\\\\n",
    "     x_{p_1}-x_n&x_{p_2}-x_n &\\ldots &x_{p_m}-x_{i+1}\\\\\n",
    "    \\end{array} \\right)./\n",
    "    \\left(\n",
    "    \\begin{array}{cccc}\n",
    "     x_i-x_1&x_i-x_1 &\\ldots &x_i-x_1 \\\\\n",
    "     \\vdots&\\vdots&\\vdots &\\vdots \\\\\n",
    "     x_i-x_{i-1}&x_i-x_{i-1} &\\ldots &x_i-x_{i-1} \\\\\n",
    "     x_i-x_{i+1}&x_i-x_{i+1} &\\ldots &x_i-x_{i+1} \\\\\n",
    "     \\vdots&\\vdots &\\vdots &\\vdots\\\\\n",
    "     x_i-x_n&x_i-x_n &\\ldots &x_i-x_{i+1} \\\\\n",
    "    \\end{array} \\right)$$"
   ]
  },
  {
   "cell_type": "code",
   "execution_count": 26,
   "metadata": {},
   "outputs": [
    {
     "data": {
      "text/plain": [
       "poly1d([-0.025,  0.175,  0.65 ,  0.2  ,  0.   ])"
      ]
     },
     "execution_count": 26,
     "metadata": {},
     "output_type": "execute_result"
    }
   ],
   "source": [
    "from scipy.interpolate import lagrange\n",
    "import numpy as np\n",
    "x=np.array([0,1,2,4,6])\n",
    "y=np.array([0,1,4,16,30])\n",
    "lagrange(x,y)"
   ]
  },
  {
   "cell_type": "markdown",
   "metadata": {},
   "source": [
    "3.&emsp;牛顿插值<br/>\n",
    "$\\left(\n",
    "    \\begin{array}{cccc}\n",
    "    1&1&\\ldots&1\\\\\n",
    "     x_p-x_0&x_{p_2}-x_0 &\\ldots &x_{p_m}-x_0 \\\\\n",
    "     x_p-x_1&x_{p_2}-x_1 &\\ldots &x_{p_m}-x_1 \\\\\n",
    "     \\vdots&\\vdots &\\vdots &\\vdots\\\\\n",
    "     x_p-x_{n-1}&x_{p_2}-x_{n-1} &\\ldots &x_{p_m}-x_{n-1}\\\\\n",
    "    \\end{array} \\right)$"
   ]
  },
  {
   "cell_type": "code",
   "execution_count": 1,
   "metadata": {},
   "outputs": [
    {
     "data": {
      "text/plain": [
       "array([  1.875, -15.875,  37.5  , -15.5  ,   1.   ])"
      ]
     },
     "execution_count": 1,
     "metadata": {},
     "output_type": "execute_result"
    }
   ],
   "source": [
    "import numpy as np\n",
    "#差商表\n",
    "def newton_diff(x,f):\n",
    "    n=np.size(x)\n",
    "    D=np.zeros((n,n+1))\n",
    "    D[:,0]=x\n",
    "    D[:,1]=f\n",
    "    for i in range(n-1):\n",
    "        for j in range(n-i-1):\n",
    "            D[i+1+j,i+2]=(D[i+1+j,i+1]-D[i+j,i+1])/(D[i+j+1,0]-D[j,0])\n",
    "    return(D)\n",
    "\n",
    "#牛顿插值\n",
    "def newton(x,f):\n",
    "    n=np.size(x)\n",
    "    D=newton_diff(x,f)\n",
    "    N=D[0,1]\n",
    "    p=1\n",
    "    for i in range(n-1):\n",
    "        p=np.polymul(p,np.poly1d([1,-D[i,0]]))\n",
    "        N=np.polyadd(N,D[i+1,i+2]*p)\n",
    "    return(N)    \n",
    "    \n",
    "x=np.array([0,1,2,4,6])\n",
    "f=np.array([1,9,23,3,259])\n",
    "newton(x,f)"
   ]
  },
  {
   "cell_type": "markdown",
   "metadata": {},
   "source": [
    "## 练习\n",
    "##### 1.&emsp;当$x=1,-1,2$时，$f(x)=0,-3,4$，用二次拉格朗日插值法计算$f(0.3)$的近似值"
   ]
  },
  {
   "cell_type": "code",
   "execution_count": 67,
   "metadata": {},
   "outputs": [
    {
     "data": {
      "text/plain": [
       "-1.8083333333333331"
      ]
     },
     "execution_count": 67,
     "metadata": {},
     "output_type": "execute_result"
    }
   ],
   "source": [
    "from scipy.interpolate import lagrange\n",
    "import numpy as np\n",
    "x=np.array([1,-1,2])\n",
    "y=np.array([0,-3,4])\n",
    "l=lagrange(x,y)\n",
    "np.polyval(l,0.3)"
   ]
  },
  {
   "cell_type": "markdown",
   "metadata": {},
   "source": [
    "##### 2.&emsp;计算下列数据的差商表，同时利用三次牛顿插值多项式近似计算$f(2.2)$。\n",
    "|&emsp;x&emsp;|&emsp;3&emsp;|&emsp;1&emsp;|&emsp;5&emsp;|&emsp;6&emsp;|\n",
    "|:-:|:-:|:-:|:-:|:-:|\n",
    "|$f(x)$|1|-3|2|4|"
   ]
  },
  {
   "cell_type": "code",
   "execution_count": 69,
   "metadata": {},
   "outputs": [
    {
     "data": {
      "text/plain": [
       "0.23040000000000127"
      ]
     },
     "execution_count": 69,
     "metadata": {},
     "output_type": "execute_result"
    }
   ],
   "source": [
    "import numpy as np\n",
    "def newton_diff(x,f):\n",
    "    n=np.size(x)\n",
    "    D=np.zeros((n,n+1))\n",
    "    D[:,0]=x\n",
    "    D[:,1]=f\n",
    "    for i in range(n-1):\n",
    "        for j in range(n-i-1):\n",
    "            D[i+1+j,i+2]=(D[i+1+j,i+1]-D[i+j,i+1])/(D[i+j+1,0]-D[j,0])\n",
    "    return(D)\n",
    "\n",
    "def newton(x,f):\n",
    "    n=np.size(x)\n",
    "    D=newton_diff(x,f)\n",
    "    N=D[0,1]\n",
    "    p=1\n",
    "    for i in range(n-1):\n",
    "        p=np.polymul(p,np.poly1d([1,-D[i,0]]))\n",
    "        N=np.polyadd(N,D[i+1,i+2]*p)\n",
    "    return(N)\n",
    "\n",
    "x=np.array([3,1,5,6])\n",
    "f=np.array([1,-3,2,4])\n",
    "N=newton(x,f)\n",
    "np.polyval(N,2.2)"
   ]
  },
  {
   "cell_type": "markdown",
   "metadata": {},
   "source": [
    "##### 3.&emsp;已知数据\n",
    "|&emsp;&ensp;$x_i$&emsp;&ensp;|&emsp;0&emsp;|&emsp;1&emsp;|&emsp;2&emsp;|&emsp;4&emsp;|&emsp;6&emsp;|\n",
    "|:-:|:-:|:-:|:-:|:-:|:-:|\n",
    "|$f(x_i)$|1|9|23|3|259|\n",
    "\n",
    "##### 构造4次插值多项式，并计算$f(4.2)$的近似值。"
   ]
  },
  {
   "cell_type": "code",
   "execution_count": 70,
   "metadata": {},
   "outputs": [
    {
     "data": {
      "text/plain": [
       "4.695999999999981"
      ]
     },
     "execution_count": 70,
     "metadata": {},
     "output_type": "execute_result"
    }
   ],
   "source": [
    "import numpy as np\n",
    "def newton_diff(x,f):\n",
    "    n=np.size(x)\n",
    "    D=np.zeros((n,n+1))\n",
    "    D[:,0]=x\n",
    "    D[:,1]=f\n",
    "    for i in range(n-1):\n",
    "        for j in range(n-i-1):\n",
    "            D[i+1+j,i+2]=(D[i+1+j,i+1]-D[i+j,i+1])/(D[i+j+1,0]-D[j,0])\n",
    "    return(D)\n",
    "\n",
    "def newton(x,f):\n",
    "    n=np.size(x)\n",
    "    D=newton_diff(x,f)\n",
    "    N=D[0,1]\n",
    "    p=1\n",
    "    for i in range(n-1):\n",
    "        p=np.polymul(p,np.poly1d([1,-D[i,0]]))\n",
    "        N=np.polyadd(N,D[i+1,i+2]*p)\n",
    "    return(N)\n",
    "\n",
    "x=np.array([0,1,2,4,6])\n",
    "f=np.array([1,9,23,3,259])\n",
    "N=newton(x,f)\n",
    "np.polyval(N,4.2)"
   ]
  },
  {
   "cell_type": "markdown",
   "metadata": {},
   "source": [
    "##### 4.&emsp;使用区间$\\left[-5,5\\right]$上的21个等距节点，找出函数$f(x)=(x^2+1)^{-1}$的20阶插值多项式$p(x)$。打印$f(x)$和$p(x)$的图形，观察$f(x)$和$p(x)$的最大偏差。"
   ]
  },
  {
   "cell_type": "code",
   "execution_count": 98,
   "metadata": {},
   "outputs": [
    {
     "name": "stdout",
     "output_type": "stream",
     "text": [
      "最大偏差为 59.76839938413482\n"
     ]
    },
    {
     "data": {
      "image/png": "[encoded data removed]",
      "text/plain": [
       "<Figure size 432x288 with 1 Axes>"
      ]
     },
     "metadata": {
      "needs_background": "light"
     },
     "output_type": "display_data"
    }
   ],
   "source": [
    "import numpy as np\n",
    "from scipy.interpolate import lagrange\n",
    "import matplotlib.pyplot as plt\n",
    "#求拉格朗日插值\n",
    "x=np.linspace(-5,5,21)\n",
    "f=(x**2+1)**-1\n",
    "l=lagrange(x,f)\n",
    "\n",
    "#打印f(x)\n",
    "xp=np.linspace(-5,5,1000)\n",
    "fp=(xp**2+1)**-1\n",
    "plt.plot(xp,fp,label='f(x)')\n",
    "\n",
    "#打印p(x)\n",
    "fl=np.polyval(l,xp)\n",
    "plt.plot(xp,fl,label='p(x)')\n",
    "plt.legend()\n",
    "\n",
    "#求最大偏差\n",
    "d=np.max(np.abs(fl-fp))\n",
    "print('最大偏差为',d)"
   ]
  },
  {
   "cell_type": "markdown",
   "metadata": {},
   "source": [
    "##### 5.&emsp;对上一题使用切比雪夫节点$x_i=5\\cos(i\\pi/20),\\quad 0\\le i\\le 20$，找出函数$f(x)=(x^2+1)^{-1}$的20阶插值多项式$q(x)$。打印$f(x)$和$q(x)$的图形"
   ]
  },
  {
   "cell_type": "code",
   "execution_count": 104,
   "metadata": {},
   "outputs": [
    {
     "name": "stdout",
     "output_type": "stream",
     "text": [
      "最大偏差为 0.017737728449337686\n"
     ]
    },
    {
     "data": {
      "image/png": "[encoded data removed]",
      "text/plain": [
       "<Figure size 432x288 with 1 Axes>"
      ]
     },
     "metadata": {
      "needs_background": "light"
     },
     "output_type": "display_data"
    }
   ],
   "source": [
    "import numpy as np\n",
    "from scipy.interpolate import lagrange\n",
    "import matplotlib.pyplot as plt\n",
    "#求拉格朗日插值\n",
    "x=5*np.cos(np.arange(21)*np.pi/20)\n",
    "f=(x**2+1)**-1\n",
    "l=lagrange(x,f)\n",
    "\n",
    "#打印f(x)\n",
    "xp=np.linspace(-5,5,1000)\n",
    "fp=(xp**2+1)**-1\n",
    "plt.plot(xp,fp,label='f(x)')\n",
    "\n",
    "#打印p(x)\n",
    "fl=np.polyval(l,xp)\n",
    "plt.plot(xp,fl,label='p(x)')\n",
    "plt.legend()\n",
    "\n",
    "#求最大偏差\n",
    "d=np.max(np.abs(fl-fp))\n",
    "print('最大偏差为',d)"
   ]
  },
  {
   "cell_type": "markdown",
   "metadata": {},
   "source": [
    "## 作业：\n",
    "##### **1.&emsp;秦九韶算法**\n",
    "实验目的：了解浮点运算数量，学会节省计算量。<br/>\n",
    "实验内容：实现秦九韶算法，并在阶数$n$变化的情况下与直接计算一元多项式比较浮点运算量和计算时间。"
   ]
  },
  {
   "cell_type": "code",
   "execution_count": 3,
   "metadata": {},
   "outputs": [
    {
     "name": "stdout",
     "output_type": "stream",
     "text": [
      "阶数为 100 秦九韶算法计算时间为 0.0009996891021728516 直接计算时间为 0.0\n",
      "阶数为 200 秦九韶算法计算时间为 0.0 直接计算时间为 0.0009708404541015625\n",
      "阶数为 300 秦九韶算法计算时间为 0.000997304916381836 直接计算时间为 0.000255584716796875\n",
      "阶数为 400 秦九韶算法计算时间为 0.0007679462432861328 直接计算时间为 0.0009715557098388672\n",
      "阶数为 500 秦九韶算法计算时间为 0.0010290145874023438 直接计算时间为 0.0009894371032714844\n",
      "阶数为 600 秦九韶算法计算时间为 0.000997304916381836 直接计算时间为 0.0009734630584716797\n",
      "阶数为 700 秦九韶算法计算时间为 0.0009970664978027344 直接计算时间为 0.000997781753540039\n",
      "阶数为 800 秦九韶算法计算时间为 0.0019943714141845703 直接计算时间为 0.000997304916381836\n",
      "阶数为 900 秦九韶算法计算时间为 0.0019941329956054688 直接计算时间为 0.0009980201721191406\n",
      "阶数为 1000 秦九韶算法计算时间为 0.0009963512420654297 直接计算时间为 0.001995086669921875\n"
     ]
    },
    {
     "name": "stderr",
     "output_type": "stream",
     "text": [
      "C:\\Users\\mpure\\Anaconda3\\lib\\site-packages\\ipykernel_launcher.py:8: RuntimeWarning: overflow encountered in long_scalars\n",
      "  \n"
     ]
    }
   ],
   "source": [
    "import numpy as np\n",
    "import time\n",
    "#秦九韶算法\n",
    "def qin(p,x):\n",
    "    n=np.size(p)\n",
    "    a=p[0]\n",
    "    for i in range(n-1):\n",
    "        a=a*x+p[i+1]\n",
    "    return(a)\n",
    "\n",
    "for n in range(100,1001,100):\n",
    "    p=np.arange(1,n+1)\n",
    "    x=n\n",
    "    st1=time.time()\n",
    "    A1=qin(p,x)\n",
    "    ed1=time.time()\n",
    "    t1=ed1-st1\n",
    "    st2=time.time()\n",
    "    A2=np.polyval(np.poly1d(p),x)\n",
    "    ed2=time.time()\n",
    "    t2=ed2-st2\n",
    "    print('阶数为',n,'秦九韶算法计算时间为',t1,'直接计算时间为',t2)"
   ]
  },
  {
   "cell_type": "markdown",
   "metadata": {},
   "source": [
    "##### **2.&emsp;牛顿插值**\n",
    "实验目的：掌握符号计算，牛顿插值。<br/>\n",
    "实验内容：结合符号运算，实现牛顿插值法，给出牛顿插值多项式（而非插值多项式在某点处的值）。"
   ]
  },
  {
   "cell_type": "code",
   "execution_count": 116,
   "metadata": {},
   "outputs": [
    {
     "data": {
      "image/png": "[encoded data removed]",
      "text/latex": [
       "$\\displaystyle 1.875 x^{4} - 15.875 x^{3} + 37.5 x^{2} - 15.5 x + 1.0$"
      ],
      "text/plain": [
       "       4           3         2               \n",
       "1.875⋅x  - 15.875⋅x  + 37.5⋅x  - 15.5⋅x + 1.0"
      ]
     },
     "execution_count": 116,
     "metadata": {},
     "output_type": "execute_result"
    }
   ],
   "source": [
    "import numpy as np\n",
    "from sympy import *\n",
    "\n",
    "def newton_diff(x0,f0):\n",
    "    n=np.size(x0)\n",
    "    D=np.zeros((n,n+1))\n",
    "    D[:,0]=x0\n",
    "    D[:,1]=f0\n",
    "    for i in range(n-1):\n",
    "        for j in range(n-i-1):\n",
    "            D[i+1+j,i+2]=(D[i+1+j,i+1]-D[i+j,i+1])/(D[i+j+1,0]-D[j,0])\n",
    "    return(D)\n",
    "\n",
    "#改为符号计算\n",
    "def newton(x0,f0):\n",
    "    x=symbols('x')\n",
    "    init_printing(use_unicode=True)\n",
    "    n=np.size(x0)\n",
    "    D=newton_diff(x0,f0)\n",
    "    N=D[0,1]\n",
    "    p=1\n",
    "    for i in range(n-1):\n",
    "        p=p*(x-D[i,0])\n",
    "        N=N+D[i+1,i+2]*p\n",
    "    return(simplify(N))    \n",
    "    \n",
    "x=np.array([0,1,2,4,6])\n",
    "f=np.array([1,9,23,3,259])\n",
    "newton(x,f)"
   ]
  }
 ],
 "metadata": {
  "kernelspec": {
   "display_name": "Python 3",
   "language": "python",
   "name": "python3"
  },
  "language_info": {
   "codemirror_mode": {
    "name": "ipython",
    "version": 3
   },
   "file_extension": ".py",
   "mimetype": "text/x-python",
   "name": "python",
   "nbconvert_exporter": "python",
   "pygments_lexer": "ipython3",
   "version": "3.7.4"
  }
 },
 "nbformat": 4,
 "nbformat_minor": 4
}
