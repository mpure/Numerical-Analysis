{
 "cells": [
  {
   "cell_type": "markdown",
   "metadata": {},
   "source": [
    "#### 1850200-黄天洋-第十三周实验课-申优\n",
    "# 实践课13\n",
    "## 1&emsp;内容\n",
    "#### 1.&emsp;改进幂方法"
   ]
  },
  {
   "cell_type": "code",
   "execution_count": 1,
   "metadata": {},
   "outputs": [
    {
     "name": "stdout",
     "output_type": "stream",
     "text": [
      "按模最大特征值为 [[7.00001275]] \n",
      "近似特征向量为 [[0.50000046 1.        ]] 迭代次数为 7\n"
     ]
    }
   ],
   "source": [
    "import numpy as np\n",
    "\n",
    "#改进幂方法\n",
    "def improved_power(A,eps):\n",
    "    n=A.shape[0]\n",
    "    v=np.ones(n)\n",
    "    lam=np.max(v)\n",
    "    u=v/lam\n",
    "    err=1\n",
    "    it=0\n",
    "    while err>eps:\n",
    "        v=np.dot(A,u.reshape(len(u),-1))\n",
    "        lam0=lam\n",
    "        lam=v[np.where(np.abs(v)==np.max(np.abs(v)))[0]]\n",
    "        u=v/lam[0]\n",
    "        err=np.abs(lam-lam0)\n",
    "        if len(err)>=1:\n",
    "            err=err[0]\n",
    "        it+=1\n",
    "    return lam,u,it\n",
    "\n",
    "A=np.mat('3,2;4,5')\n",
    "eps=10**-4\n",
    "lam,u,it=improved_power(A,eps)\n",
    "print('按模最大特征值为',lam,'\\n近似特征向量为',u.T,'迭代次数为',it)"
   ]
  },
  {
   "cell_type": "markdown",
   "metadata": {},
   "source": [
    "#### 2.&emsp;反幂法"
   ]
  },
  {
   "cell_type": "code",
   "execution_count": 94,
   "metadata": {},
   "outputs": [
    {
     "name": "stdout",
     "output_type": "stream",
     "text": [
      "按模最小特征值为 [[1.00001457]] \n",
      "近似特征向量为 [[ 1.         -0.99999271]] 迭代次数为 7\n"
     ]
    }
   ],
   "source": [
    "import numpy as np\n",
    "\n",
    "#反幂法\n",
    "def inverse_power(A,eps):\n",
    "    n=A.shape[0]\n",
    "    v=np.ones(n)\n",
    "    lam=np.max(v)\n",
    "    u=v/lam\n",
    "    err=1\n",
    "    it=0\n",
    "    while err>eps:\n",
    "        v=np.dot(np.linalg.inv(A),u.reshape(len(u),-1))\n",
    "        lam0=lam\n",
    "        lam=v[np.where(np.abs(v)==np.max(np.abs(v)))[0]]\n",
    "        u=v/lam[0]\n",
    "        err=np.abs(lam**-1-lam0**-1)\n",
    "        if len(err)>=1:\n",
    "            err=err[0]\n",
    "        it+=1\n",
    "    return lam**-1,u,it\n",
    "\n",
    "A=np.mat('3,2;4,5')\n",
    "eps=10**-4\n",
    "lam,u,it=inverse_power(A,eps)\n",
    "print('按模最小特征值为',lam,'\\n近似特征向量为',u.T,'迭代次数为',it)"
   ]
  },
  {
   "cell_type": "markdown",
   "metadata": {},
   "source": [
    "#### 3.&emsp;原点平移反幂法"
   ]
  },
  {
   "cell_type": "code",
   "execution_count": 15,
   "metadata": {},
   "outputs": [
    {
     "name": "stdout",
     "output_type": "stream",
     "text": [
      "最接近 -13 的特征值为 [[-13.22017998]] \n",
      "近似特征向量为 [[ 1.         -0.23510549 -0.17162117]] 迭代次数为 5\n"
     ]
    }
   ],
   "source": [
    "import numpy as np\n",
    "\n",
    "#原点平移反幂法\n",
    "def trans_power(A,eps,p):\n",
    "    n=A.shape[0]\n",
    "    v=np.ones(n)\n",
    "    lam=np.max(v)\n",
    "    u=v/lam\n",
    "    err=1\n",
    "    it=0\n",
    "    while err>eps and it<10:\n",
    "        v=np.dot(np.linalg.inv(A-p*np.eye(n)),u.reshape(len(u),-1))\n",
    "        lam0=lam\n",
    "        lam=v[np.where(np.abs(v)==np.max(np.abs(v)))[0]]\n",
    "        u=v/lam\n",
    "        err=np.abs(lam**-1-lam0**-1)\n",
    "        it+=1\n",
    "    return lam**-1+p,u,it\n",
    "\n",
    "A=np.mat('-12,3,3;3,1,-2;3,-2,7')\n",
    "eps=10**-5\n",
    "p=-13\n",
    "lam,u,it=trans_power(A,eps,p)\n",
    "print('最接近',p,'的特征值为',lam,'\\n近似特征向量为',u.T,'迭代次数为',it)"
   ]
  },
  {
   "cell_type": "markdown",
   "metadata": {},
   "source": [
    "#### 4.&emsp;QR方法 numpy.linalg.qr()"
   ]
  },
  {
   "cell_type": "code",
   "execution_count": 16,
   "metadata": {},
   "outputs": [
    {
     "name": "stdout",
     "output_type": "stream",
     "text": [
      "QR方法的全部特征值为 [ 4.          0.46058206  1.53941794 -1.        ]\n"
     ]
    }
   ],
   "source": [
    "import numpy as np\n",
    "\n",
    "#QR方法\n",
    "def qr_method(A,eps):\n",
    "    err=1\n",
    "    while err>eps:\n",
    "        q,r=np.linalg.qr(A)\n",
    "        A0=A\n",
    "        A=np.dot(r,q)\n",
    "        err=np.linalg.norm(np.diag(A-A0))\n",
    "    return np.diag(A)\n",
    "\n",
    "A=np.mat('5,-2,-5,-1;1,0,-3,2;0,2,2,-3;0,0,1,-2')\n",
    "eps=10**-4\n",
    "lam=qr_method(A,eps)\n",
    "print('QR方法的全部特征值为',lam)"
   ]
  },
  {
   "cell_type": "markdown",
   "metadata": {},
   "source": [
    "#### 5.&emsp;函数 numpy.linalg.eig()"
   ]
  },
  {
   "cell_type": "code",
   "execution_count": 17,
   "metadata": {},
   "outputs": [
    {
     "name": "stdout",
     "output_type": "stream",
     "text": [
      "全部特征值为 [ 4.        +0.j          1.11199005+1.92602326j  1.11199005-1.92602326j\n",
      " -2.22398009+0.j        ] \n",
      "特征向量为 [[-0.97892504+0.j          0.66813423+0.j          0.66813423-0.j\n",
      "   0.4474273 +0.j        ]\n",
      " [-0.15699741+0.j          0.262466  +0.39036458j  0.262466  -0.39036458j\n",
      "  -0.0975843 +0.j        ]\n",
      " [-0.12929199+0.j          0.40566823-0.39036458j  0.40566823+0.39036458j\n",
      "   0.54501159+0.j        ]\n",
      " [-0.01847028+0.j          0.04443938-0.1157483j   0.04443938+0.1157483j\n",
      "   0.70231651+0.j        ]]\n"
     ]
    }
   ],
   "source": [
    "import numpy as np\n",
    "A=np.mat('5,-2,-5,-1;1,0,-3,2;0,2,2,-3;0,0,1,-3')\n",
    "lam,v=np.linalg.eig(A)\n",
    "print('全部特征值为',lam,'\\n特征向量为',v)"
   ]
  },
  {
   "cell_type": "markdown",
   "metadata": {},
   "source": [
    "#### 6.&emsp;函数 numpy.linalg.cond()"
   ]
  },
  {
   "cell_type": "code",
   "execution_count": 18,
   "metadata": {},
   "outputs": [
    {
     "name": "stdout",
     "output_type": "stream",
     "text": [
      "条件数为 12.71337211167451\n"
     ]
    }
   ],
   "source": [
    "import numpy as np\n",
    "A=np.mat('5,-2,-5,-1;1,0,-3,2;0,2,2,-3;0,0,1,-3')\n",
    "c=np.linalg.cond(A)\n",
    "print('条件数为',c)"
   ]
  },
  {
   "cell_type": "markdown",
   "metadata": {},
   "source": [
    "## 2&emsp;练习\n",
    "#### 1.&emsp;用乘幂法计算下列矩阵按模最大特征值及其对应的特征向量\n",
    "（1）$\\left(\\begin{array}{ccc}\n",
    "2&3&2\\\\10&3&4\\\\3&6&1\\\\\n",
    "\\end{array}\\right)$<br/>\n",
    "（2）$\\left(\\begin{array}{ccc}\n",
    "3&-4&3\\\\-4&6&3\\\\3&3&1\\\\\n",
    "\\end{array}\\right)$<br/>\n",
    "当特征值有三位小数稳定时停止迭代"
   ]
  },
  {
   "cell_type": "code",
   "execution_count": 19,
   "metadata": {},
   "outputs": [
    {
     "name": "stdout",
     "output_type": "stream",
     "text": [
      "（1）按模最大特征值为 [[10.99999376]] 对应的特征向量为 [[0.50000006 1.         0.75000027]]\n",
      "（2）按模最大特征值为 [[8.86979621]] 对应的特征向量为 [[-0.60432283  1.          0.15085093]]\n"
     ]
    }
   ],
   "source": [
    "import numpy as np\n",
    "#请先运行内容中的函数\n",
    "eps=10**-4\n",
    "A=np.mat('2,3,2;10,3,4;3,6,1')\n",
    "lam,u,it=improved_power(A,eps)\n",
    "print('（1）按模最大特征值为',lam,'对应的特征向量为',u.T)\n",
    "A=np.mat('3,-4,3;-4,6,3;3,3,1')\n",
    "lam,u,it=improved_power(A,eps)\n",
    "print('（2）按模最大特征值为',lam,'对应的特征向量为',u.T)"
   ]
  },
  {
   "cell_type": "markdown",
   "metadata": {},
   "source": [
    "#### 2.&emsp;用QR方法计算下列矩阵的全部特征值\n",
    "（1）$\\left(\\begin{array}{ccc}\n",
    "3&1&0\\\\1&4&2\\\\0&2&3\\\\\n",
    "\\end{array}\\right)$<br/>\n",
    "（1）$\\left(\\begin{array}{ccc}\n",
    "1&4&5\\\\2&5&6\\\\2&2&0\\\\\n",
    "\\end{array}\\right)$"
   ]
  },
  {
   "cell_type": "code",
   "execution_count": 20,
   "metadata": {},
   "outputs": [
    {
     "name": "stdout",
     "output_type": "stream",
     "text": [
      "（1）全部特征值为 [5.79127301 3.00001484 1.20871215]\n",
      "（2）全部特征值为 [ 8.8885615  -2.63210158 -0.25645992]\n"
     ]
    }
   ],
   "source": [
    "import numpy as np\n",
    "#请先运行内容中的函数\n",
    "eps=10**-4\n",
    "A=np.mat('3,1,0;1,4,2;0,2,3')\n",
    "lam=qr_method(A,eps)\n",
    "print('（1）全部特征值为',lam)\n",
    "A=np.mat('1,4,5;2,5,6;2,2,0')\n",
    "lam=qr_method(A,eps)\n",
    "print('（2）全部特征值为',lam)"
   ]
  },
  {
   "cell_type": "markdown",
   "metadata": {},
   "source": [
    "#### 3.&emsp;考虑矩阵$A_n=(a_{ij})_{n\\times n}=(\\frac{1}{i+j-1})_{n\\times n}$，计算$A_{10},A_{50},A_{100}$的按模最大特征值，按模最小特征值及其条件数$cond_2=\\frac{\\lambda_{max}(A)}{\\lambda_{min}(A)}$"
   ]
  },
  {
   "cell_type": "code",
   "execution_count": 109,
   "metadata": {},
   "outputs": [
    {
     "name": "stdout",
     "output_type": "stream",
     "text": [
      "n= 10 最大特征值为 1.7519171468352621 最小特征值为 1.0932382404569714e-13 条件数为 16025026220295.443\n",
      "n= 50 最大特征值为 2.076294028361746 最小特征值为 -1.1010758725322987e-17 条件数为 1.8856956910576938e+17\n",
      "n= 100 最大特征值为 2.182693901531997 最小特征值为 -1.2463149515953307e-17 条件数为 1.751318074727472e+17\n"
     ]
    }
   ],
   "source": [
    "import numpy as np\n",
    "\n",
    "eps=10**-4\n",
    "for n in np.array([10,50,100]):\n",
    "    A=np.ones((n,n))\n",
    "    for i in range(n):\n",
    "        for j in range(n):\n",
    "            A[i,j]=1/(i+j+1)\n",
    "    lam=qr_method(A,eps)\n",
    "    lam_max=np.max(lam)\n",
    "    lam_min=np.min(lam)\n",
    "    print('n=',n,'最大特征值为',lam_max,'最小特征值为',lam_min,'条件数为',np.abs(lam_max/lam_min))"
   ]
  },
  {
   "cell_type": "markdown",
   "metadata": {},
   "source": [
    "## 3&emsp;作业\n",
    "#### **1.幂方法**\n",
    "实验目的：幂方法<br/>\n",
    "实验内容：用乘幂法计算下列矩阵的按模最大特征值和对应特征向量的近似向量。<br/>\n",
    "（1）$\\left(\\begin{array}{ccc}\n",
    "1&3&3\\\\2&1&3\\\\3&3&6\\\\\n",
    "\\end{array}\\right)$\n",
    "（2）$\\left(\\begin{array}{ccc}\n",
    "-4&14&0\\\\-5&13&0\\\\-1&0&2\\\\\n",
    "\\end{array}\\right)$\n",
    "（3）$\\left(\\begin{array}{cccc}\n",
    "8&4&3&5\\\\7&2&4&1\\\\6&2&2&2\\\\1&0&4&3\\\\\n",
    "\\end{array}\\right)$<br/>\n",
    "要求：初始向量分量全为$1$，最大迭代步数为$200$，精度$\\epsilon=10^{-5}$；完成如下头文件的*Python*函数来实现乘幂法。<br/>\n",
    "$def\\ power(A,x0,tol,maxit)$<br/>\n",
    "\\# 利用幂方法计算矩阵的按模最大特征值和对应的特征向量，<br/>\n",
    "\\# 输入变量：<br/>\n",
    "\\# $A$ 线性方程组稀疏矩阵<br/>\n",
    "\\# $x0$ 初始向量<br/>\n",
    "\\# $tol$ 迭代精度<br/>\n",
    "\\# $maxit$ 最大迭代部署<br/>\n",
    "\\# 输出变量：<br/>\n",
    "\\# $x$ 特征向量，如果不收敛则返回零向量<br/>\n",
    "\\# $lambda$ 按模最大特征值<br/>\n",
    "$return\\ x,lambda$"
   ]
  },
  {
   "cell_type": "code",
   "execution_count": 58,
   "metadata": {},
   "outputs": [
    {
     "name": "stdout",
     "output_type": "stream",
     "text": [
      "（1）按模最大特征值为 [[9.16455761]] 特征向量为 [[0.55215417 0.50269824 1.        ]]\n",
      "（2）按模最大特征值为 [[6.00000654]] 特征向量为 [[ 1.          0.71428595 -0.24999918]]\n",
      "（3）按模最大特征值为 [[14.62709182]] 特征向量为 [[1.         0.78421603 0.64833032 0.30904734]]\n"
     ]
    }
   ],
   "source": [
    "import numpy as np\n",
    "\n",
    "#幂方法\n",
    "def power(A,x0,tol,maxit):\n",
    "    n=A.shape[0]\n",
    "    v=x0\n",
    "    lam=np.max(v)\n",
    "    u=v/lam\n",
    "    err=1\n",
    "    it=0\n",
    "    while err>tol and it<=maxit:\n",
    "        v=np.dot(A,u.reshape(len(u),-1))\n",
    "        lam0=lam\n",
    "        lam=v[np.where(np.abs(v)==np.max(np.abs(v)))[0]]\n",
    "        u=v/lam\n",
    "        err=np.abs(lam-lam0)\n",
    "        it+=1\n",
    "    if it==maxit:\n",
    "        u=np.zeros(n)\n",
    "    return lam,u\n",
    "\n",
    "tol=10**-5\n",
    "maxit=200\n",
    "A=np.mat('1,3,3;2,1,3;3,3,6')\n",
    "x0=np.ones(A.shape[0])\n",
    "lam,u=power(A,x0,tol,maxit)\n",
    "print('（1）按模最大特征值为',lam,'特征向量为',u.T)\n",
    "A=np.mat('-4,14,0;-5,13,0;-1,0,2')\n",
    "x0=np.ones(A.shape[0])\n",
    "lam,u=power(A,x0,tol,maxit)\n",
    "print('（2）按模最大特征值为',lam,'特征向量为',u.T)\n",
    "A=np.mat('8,4,3,5;7,2,4,1;6,2,2,2;1,0,4,3')\n",
    "x0=np.ones(A.shape[0])\n",
    "lam,u=power(A,x0,tol,maxit)\n",
    "print('（3）按模最大特征值为',lam,'特征向量为',u.T)"
   ]
  },
  {
   "cell_type": "markdown",
   "metadata": {},
   "source": [
    "#### **2.&emsp;QR方法**\n",
    "实验目的：QR方法计算矩阵特征值<br/>\n",
    "实验内容：完成QR方法的Python程序，利用此程序求实对称矩阵$A$的全部特征值并且与全部特征值的真值比较，精度为$\\epsilon=10^{-4}$<br/>\n",
    "$A=\\left(\\begin{array}{cccc}\n",
    "5&2&2&1\\\\2&-3&1&1\\\\2&1&3&1\\\\1&1&1&2\\\\\n",
    "\\end{array}\\right)$"
   ]
  },
  {
   "cell_type": "code",
   "execution_count": 105,
   "metadata": {},
   "outputs": [
    {
     "name": "stdout",
     "output_type": "stream",
     "text": [
      "QR方法的全部特征值为 [ 7.21833669 -3.60267036  1.99994695  1.38438673]\n",
      "全部特征值的真值为 [ 7.21833673 -3.60267051  2.          1.38433378]\n",
      "误差为 7.495120458706266e-05\n"
     ]
    }
   ],
   "source": [
    "import numpy as np\n",
    "#运行前请先运行内容中的函数\n",
    "A=np.mat('5,2,2,1;2,-3,1,1;2,1,3,1;1,1,1,2')\n",
    "eps=10**-4\n",
    "lam=qr_method(A,eps)\n",
    "lam_true=np.linalg.eig(A)[0]\n",
    "print('QR方法的全部特征值为',lam)\n",
    "print('全部特征值的真值为',lam_true)\n",
    "print('误差为',np.linalg.norm(lam-lam_true))"
   ]
  },
  {
   "cell_type": "markdown",
   "metadata": {},
   "source": [
    "#### **3.&emsp;矩阵条件数的计算**\n",
    "实验目的：计算条件数<br/>\n",
    "实验内容：考虑$n$阶三对角阵\n",
    "$$\\left(\\begin{array}{ccccc}\n",
    "2&-1&0&\\ldots&0\\\\-1&2&-1&\\ldots&0\\\\0&-1&2&\\ldots&0\\\\\\vdots&\\vdots&\\vdots&\\ddots&\\vdots\\\\0&0&0&\\ldots&2\\\\\n",
    "\\end{array}\\right)$$\n",
    "分别计算$n=100,200,300,400,\\dots,1000$时，矩阵$A$的条件数$cond_2=\\dfrac{\\lambda_{max}(A)}{\\lambda_{min}(A)}$"
   ]
  },
  {
   "cell_type": "code",
   "execution_count": 108,
   "metadata": {},
   "outputs": [
    {
     "name": "stdout",
     "output_type": "stream",
     "text": [
      "n= 100 条件数为 4129.983299161111\n",
      "n= 200 条件数为 16364.436963469137\n",
      "n= 300 条件数为 36704.240014173934\n",
      "n= 400 条件数为 65149.47855876326\n",
      "n= 500 条件数为 101700.2236513871\n",
      "n= 600 条件数为 146356.48988788982\n",
      "n= 700 条件数为 199118.3135164796\n",
      "n= 800 条件数为 259985.70316812885\n",
      "n= 900 条件数为 328958.6787706036\n",
      "n= 1000 条件数为 406037.25064921874\n"
     ]
    }
   ],
   "source": [
    "import numpy as np\n",
    "#运行前请先运行内容中的函数\n",
    "eps=10**-4\n",
    "for n in np.array([100,200,300,400,500,600,700,800,900,1000]):\n",
    "    A=np.diag(2*np.ones(n))+np.diag(-np.ones(n-1),1)+np.diag(-np.ones(n-1),-1)\n",
    "    lam=qr_method(A,eps)\n",
    "    lam_max=np.max(lam)\n",
    "    lam_min=np.min(lam)\n",
    "    print('n=',n,'条件数为',np.abs(lam_max/lam_min))"
   ]
  }
 ],
 "metadata": {
  "kernelspec": {
   "display_name": "Python 3",
   "language": "python",
   "name": "python3"
  },
  "language_info": {
   "codemirror_mode": {
    "name": "ipython",
    "version": 3
   },
   "file_extension": ".py",
   "mimetype": "text/x-python",
   "name": "python",
   "nbconvert_exporter": "python",
   "pygments_lexer": "ipython3",
   "version": "3.7.4"
  }
 },
 "nbformat": 4,
 "nbformat_minor": 4
}
